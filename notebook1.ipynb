{
  "nbformat": 4,
  "nbformat_minor": 0,
  "metadata": {
    "colab": {
      "name": "notebook1.ipynb",
      "provenance": [],
      "collapsed_sections": [],
      "authorship_tag": "ABX9TyNxol+goKAZEI7tz++tRJFR",
      "include_colab_link": true
    },
    "kernelspec": {
      "display_name": "Python 3",
      "name": "python3"
    },
    "language_info": {
      "name": "python"
    }
  },
  "cells": [
    {
      "cell_type": "markdown",
      "metadata": {
        "id": "view-in-github",
        "colab_type": "text"
      },
      "source": [
        "<a href=\"https://colab.research.google.com/github/bhirwa/User-analytics-in-the-Telecom-Industry/blob/main/notebook1.ipynb\" target=\"_parent\"><img src=\"https://colab.research.google.com/assets/colab-badge.svg\" alt=\"Open In Colab\"/></a>"
      ]
    },
    {
      "cell_type": "code",
      "metadata": {
        "id": "rX3VbtVi15gN",
        "colab": {
          "base_uri": "https://localhost:8080/"
        },
        "outputId": "16a80ed2-37bb-42be-ffa7-f28d27284459"
      },
      "source": [
        "from google.colab import drive\n",
        "drive.mount('/content/gdrive')"
      ],
      "execution_count": 103,
      "outputs": [
        {
          "output_type": "stream",
          "text": [
            "Drive already mounted at /content/gdrive; to attempt to forcibly remount, call drive.mount(\"/content/gdrive\", force_remount=True).\n"
          ],
          "name": "stdout"
        }
      ]
    },
    {
      "cell_type": "code",
      "metadata": {
        "id": "bx8NBn7s15dH"
      },
      "source": [
        "import os\n",
        "path = \"/content\" # /content is pretty much the root. you can choose other path in your colab workspace\n",
        "os.chdir(path)"
      ],
      "execution_count": 104,
      "outputs": []
    },
    {
      "cell_type": "code",
      "metadata": {
        "id": "tsHmb38p15EW",
        "colab": {
          "base_uri": "https://localhost:8080/"
        },
        "outputId": "9ac25c2e-91e3-4c60-d58a-d59fbb5d6976"
      },
      "source": [
        "!ls gdrive/MyDrive/Colab\\ Notebooks/"
      ],
      "execution_count": 105,
      "outputs": [
        {
          "output_type": "stream",
          "text": [
            "Data\t\t Untitled0.ipynb  Untitled2.ipynb  Untitled4.ipynb\n",
            "notebook1.ipynb  Untitled1.ipynb  Untitled3.ipynb\n"
          ],
          "name": "stdout"
        }
      ]
    },
    {
      "cell_type": "code",
      "metadata": {
        "colab": {
          "base_uri": "https://localhost:8080/"
        },
        "id": "4F_TMx34JE_4",
        "outputId": "54c57f20-2e28-460f-ea0e-f3316b58057d"
      },
      "source": [
        "cd gdrive/MyDrive/Colab\\ Notebooks/"
      ],
      "execution_count": 106,
      "outputs": [
        {
          "output_type": "stream",
          "text": [
            "/content/gdrive/MyDrive/Colab Notebooks\n"
          ],
          "name": "stdout"
        }
      ]
    },
    {
      "cell_type": "code",
      "metadata": {
        "id": "Bh8aMoUrJEu8"
      },
      "source": [
        ""
      ],
      "execution_count": null,
      "outputs": []
    },
    {
      "cell_type": "code",
      "metadata": {
        "id": "E-b37g7IJEfy"
      },
      "source": [
        ""
      ],
      "execution_count": null,
      "outputs": []
    },
    {
      "cell_type": "code",
      "metadata": {
        "id": "gyNKTiwLJD7a"
      },
      "source": [
        ""
      ],
      "execution_count": null,
      "outputs": []
    },
    {
      "cell_type": "code",
      "metadata": {
        "id": "Nb5Bhx-0Q1wg"
      },
      "source": [
        "import pandas as pd\n",
        "import numpy as np "
      ],
      "execution_count": 107,
      "outputs": []
    },
    {
      "cell_type": "code",
      "metadata": {
        "colab": {
          "base_uri": "https://localhost:8080/",
          "height": 492
        },
        "id": "kcR4CJ14Ja48",
        "outputId": "d04b1fc1-515e-4d88-a648-c59156d80e6c"
      },
      "source": [
        "df = pd.read_excel('/content/gdrive/MyDrive/Colab Notebooks/Data/Week1_challenge_data_source.xlsx') \n",
        "df.head()"
      ],
      "execution_count": 108,
      "outputs": [
        {
          "output_type": "execute_result",
          "data": {
            "text/html": [
              "<div>\n",
              "<style scoped>\n",
              "    .dataframe tbody tr th:only-of-type {\n",
              "        vertical-align: middle;\n",
              "    }\n",
              "\n",
              "    .dataframe tbody tr th {\n",
              "        vertical-align: top;\n",
              "    }\n",
              "\n",
              "    .dataframe thead th {\n",
              "        text-align: right;\n",
              "    }\n",
              "</style>\n",
              "<table border=\"1\" class=\"dataframe\">\n",
              "  <thead>\n",
              "    <tr style=\"text-align: right;\">\n",
              "      <th></th>\n",
              "      <th>Bearer Id</th>\n",
              "      <th>Start</th>\n",
              "      <th>Start ms</th>\n",
              "      <th>End</th>\n",
              "      <th>End ms</th>\n",
              "      <th>Dur. (ms)</th>\n",
              "      <th>IMSI</th>\n",
              "      <th>MSISDN/Number</th>\n",
              "      <th>IMEI</th>\n",
              "      <th>Last Location Name</th>\n",
              "      <th>Avg RTT DL (ms)</th>\n",
              "      <th>Avg RTT UL (ms)</th>\n",
              "      <th>Avg Bearer TP DL (kbps)</th>\n",
              "      <th>Avg Bearer TP UL (kbps)</th>\n",
              "      <th>TCP DL Retrans. Vol (Bytes)</th>\n",
              "      <th>TCP UL Retrans. Vol (Bytes)</th>\n",
              "      <th>DL TP &lt; 50 Kbps (%)</th>\n",
              "      <th>50 Kbps &lt; DL TP &lt; 250 Kbps (%)</th>\n",
              "      <th>250 Kbps &lt; DL TP &lt; 1 Mbps (%)</th>\n",
              "      <th>DL TP &gt; 1 Mbps (%)</th>\n",
              "      <th>UL TP &lt; 10 Kbps (%)</th>\n",
              "      <th>10 Kbps &lt; UL TP &lt; 50 Kbps (%)</th>\n",
              "      <th>50 Kbps &lt; UL TP &lt; 300 Kbps (%)</th>\n",
              "      <th>UL TP &gt; 300 Kbps (%)</th>\n",
              "      <th>HTTP DL (Bytes)</th>\n",
              "      <th>HTTP UL (Bytes)</th>\n",
              "      <th>Activity Duration DL (ms)</th>\n",
              "      <th>Activity Duration UL (ms)</th>\n",
              "      <th>Dur. (ms).1</th>\n",
              "      <th>Handset Manufacturer</th>\n",
              "      <th>Handset Type</th>\n",
              "      <th>Nb of sec with 125000B &lt; Vol DL</th>\n",
              "      <th>Nb of sec with 1250B &lt; Vol UL &lt; 6250B</th>\n",
              "      <th>Nb of sec with 31250B &lt; Vol DL &lt; 125000B</th>\n",
              "      <th>Nb of sec with 37500B &lt; Vol UL</th>\n",
              "      <th>Nb of sec with 6250B &lt; Vol DL &lt; 31250B</th>\n",
              "      <th>Nb of sec with 6250B &lt; Vol UL &lt; 37500B</th>\n",
              "      <th>Nb of sec with Vol DL &lt; 6250B</th>\n",
              "      <th>Nb of sec with Vol UL &lt; 1250B</th>\n",
              "      <th>Social Media DL (Bytes)</th>\n",
              "      <th>Social Media UL (Bytes)</th>\n",
              "      <th>Google DL (Bytes)</th>\n",
              "      <th>Google UL (Bytes)</th>\n",
              "      <th>Email DL (Bytes)</th>\n",
              "      <th>Email UL (Bytes)</th>\n",
              "      <th>Youtube DL (Bytes)</th>\n",
              "      <th>Youtube UL (Bytes)</th>\n",
              "      <th>Netflix DL (Bytes)</th>\n",
              "      <th>Netflix UL (Bytes)</th>\n",
              "      <th>Gaming DL (Bytes)</th>\n",
              "      <th>Gaming UL (Bytes)</th>\n",
              "      <th>Other DL (Bytes)</th>\n",
              "      <th>Other UL (Bytes)</th>\n",
              "      <th>Total UL (Bytes)</th>\n",
              "      <th>Total DL (Bytes)</th>\n",
              "    </tr>\n",
              "  </thead>\n",
              "  <tbody>\n",
              "    <tr>\n",
              "      <th>0</th>\n",
              "      <td>13114483460844900352</td>\n",
              "      <td>2019-04-04 12:01:18</td>\n",
              "      <td>770.0</td>\n",
              "      <td>2019-04-25 14:35:31</td>\n",
              "      <td>662.0</td>\n",
              "      <td>1823652.0</td>\n",
              "      <td>2.082014e+14</td>\n",
              "      <td>3.366496e+10</td>\n",
              "      <td>3.552121e+13</td>\n",
              "      <td>9164566995485190</td>\n",
              "      <td>42.0</td>\n",
              "      <td>5.0</td>\n",
              "      <td>23.0</td>\n",
              "      <td>44.0</td>\n",
              "      <td>NaN</td>\n",
              "      <td>NaN</td>\n",
              "      <td>100.0</td>\n",
              "      <td>0.0</td>\n",
              "      <td>0.0</td>\n",
              "      <td>0.0</td>\n",
              "      <td>100.0</td>\n",
              "      <td>0.0</td>\n",
              "      <td>0.0</td>\n",
              "      <td>0.0</td>\n",
              "      <td>NaN</td>\n",
              "      <td>NaN</td>\n",
              "      <td>37624.0</td>\n",
              "      <td>38787.0</td>\n",
              "      <td>1.823653e+09</td>\n",
              "      <td>Samsung</td>\n",
              "      <td>Samsung Galaxy A5 Sm-A520F</td>\n",
              "      <td>NaN</td>\n",
              "      <td>NaN</td>\n",
              "      <td>NaN</td>\n",
              "      <td>NaN</td>\n",
              "      <td>NaN</td>\n",
              "      <td>NaN</td>\n",
              "      <td>213.0</td>\n",
              "      <td>214.0</td>\n",
              "      <td>1545765.0</td>\n",
              "      <td>24420.0</td>\n",
              "      <td>1634479.0</td>\n",
              "      <td>1271433.0</td>\n",
              "      <td>3563542.0</td>\n",
              "      <td>137762.0</td>\n",
              "      <td>15854611.0</td>\n",
              "      <td>2501332.0</td>\n",
              "      <td>8198936.0</td>\n",
              "      <td>9656251.0</td>\n",
              "      <td>278082303.0</td>\n",
              "      <td>14344150.0</td>\n",
              "      <td>171744450.0</td>\n",
              "      <td>8814393.0</td>\n",
              "      <td>36749741.0</td>\n",
              "      <td>308879636.0</td>\n",
              "    </tr>\n",
              "    <tr>\n",
              "      <th>1</th>\n",
              "      <td>13114483482878900224</td>\n",
              "      <td>2019-04-09 13:04:04</td>\n",
              "      <td>235.0</td>\n",
              "      <td>2019-04-25 08:15:48</td>\n",
              "      <td>606.0</td>\n",
              "      <td>1365104.0</td>\n",
              "      <td>2.082019e+14</td>\n",
              "      <td>3.368185e+10</td>\n",
              "      <td>3.579401e+13</td>\n",
              "      <td>L77566A</td>\n",
              "      <td>65.0</td>\n",
              "      <td>5.0</td>\n",
              "      <td>16.0</td>\n",
              "      <td>26.0</td>\n",
              "      <td>NaN</td>\n",
              "      <td>NaN</td>\n",
              "      <td>100.0</td>\n",
              "      <td>0.0</td>\n",
              "      <td>0.0</td>\n",
              "      <td>0.0</td>\n",
              "      <td>100.0</td>\n",
              "      <td>0.0</td>\n",
              "      <td>0.0</td>\n",
              "      <td>0.0</td>\n",
              "      <td>NaN</td>\n",
              "      <td>NaN</td>\n",
              "      <td>168.0</td>\n",
              "      <td>3560.0</td>\n",
              "      <td>1.365104e+09</td>\n",
              "      <td>Samsung</td>\n",
              "      <td>Samsung Galaxy J5 (Sm-J530)</td>\n",
              "      <td>NaN</td>\n",
              "      <td>NaN</td>\n",
              "      <td>NaN</td>\n",
              "      <td>NaN</td>\n",
              "      <td>NaN</td>\n",
              "      <td>NaN</td>\n",
              "      <td>971.0</td>\n",
              "      <td>1022.0</td>\n",
              "      <td>1926113.0</td>\n",
              "      <td>7165.0</td>\n",
              "      <td>3493924.0</td>\n",
              "      <td>920172.0</td>\n",
              "      <td>629046.0</td>\n",
              "      <td>308339.0</td>\n",
              "      <td>20247395.0</td>\n",
              "      <td>19111729.0</td>\n",
              "      <td>18338413.0</td>\n",
              "      <td>17227132.0</td>\n",
              "      <td>608750074.0</td>\n",
              "      <td>1170709.0</td>\n",
              "      <td>526904238.0</td>\n",
              "      <td>15055145.0</td>\n",
              "      <td>53800391.0</td>\n",
              "      <td>653384965.0</td>\n",
              "    </tr>\n",
              "    <tr>\n",
              "      <th>2</th>\n",
              "      <td>13114483484080500736</td>\n",
              "      <td>2019-04-09 17:42:11</td>\n",
              "      <td>1.0</td>\n",
              "      <td>2019-04-25 11:58:13</td>\n",
              "      <td>652.0</td>\n",
              "      <td>1361762.0</td>\n",
              "      <td>2.082003e+14</td>\n",
              "      <td>3.376063e+10</td>\n",
              "      <td>3.528151e+13</td>\n",
              "      <td>D42335A</td>\n",
              "      <td>NaN</td>\n",
              "      <td>NaN</td>\n",
              "      <td>6.0</td>\n",
              "      <td>9.0</td>\n",
              "      <td>NaN</td>\n",
              "      <td>NaN</td>\n",
              "      <td>100.0</td>\n",
              "      <td>0.0</td>\n",
              "      <td>0.0</td>\n",
              "      <td>0.0</td>\n",
              "      <td>100.0</td>\n",
              "      <td>0.0</td>\n",
              "      <td>0.0</td>\n",
              "      <td>0.0</td>\n",
              "      <td>NaN</td>\n",
              "      <td>NaN</td>\n",
              "      <td>0.0</td>\n",
              "      <td>0.0</td>\n",
              "      <td>1.361763e+09</td>\n",
              "      <td>Samsung</td>\n",
              "      <td>Samsung Galaxy A8 (2018)</td>\n",
              "      <td>NaN</td>\n",
              "      <td>NaN</td>\n",
              "      <td>NaN</td>\n",
              "      <td>NaN</td>\n",
              "      <td>NaN</td>\n",
              "      <td>NaN</td>\n",
              "      <td>751.0</td>\n",
              "      <td>695.0</td>\n",
              "      <td>1684053.0</td>\n",
              "      <td>42224.0</td>\n",
              "      <td>8535055.0</td>\n",
              "      <td>1694064.0</td>\n",
              "      <td>2690151.0</td>\n",
              "      <td>672973.0</td>\n",
              "      <td>19725661.0</td>\n",
              "      <td>14699576.0</td>\n",
              "      <td>17587794.0</td>\n",
              "      <td>6163408.0</td>\n",
              "      <td>229584621.0</td>\n",
              "      <td>395630.0</td>\n",
              "      <td>410692588.0</td>\n",
              "      <td>4215763.0</td>\n",
              "      <td>27883638.0</td>\n",
              "      <td>279807335.0</td>\n",
              "    </tr>\n",
              "    <tr>\n",
              "      <th>3</th>\n",
              "      <td>13114483485442799616</td>\n",
              "      <td>2019-04-10 00:31:25</td>\n",
              "      <td>486.0</td>\n",
              "      <td>2019-04-25 07:36:35</td>\n",
              "      <td>171.0</td>\n",
              "      <td>1321509.0</td>\n",
              "      <td>2.082014e+14</td>\n",
              "      <td>3.375034e+10</td>\n",
              "      <td>3.535661e+13</td>\n",
              "      <td>T21824A</td>\n",
              "      <td>NaN</td>\n",
              "      <td>NaN</td>\n",
              "      <td>44.0</td>\n",
              "      <td>44.0</td>\n",
              "      <td>NaN</td>\n",
              "      <td>NaN</td>\n",
              "      <td>100.0</td>\n",
              "      <td>0.0</td>\n",
              "      <td>0.0</td>\n",
              "      <td>0.0</td>\n",
              "      <td>100.0</td>\n",
              "      <td>0.0</td>\n",
              "      <td>0.0</td>\n",
              "      <td>0.0</td>\n",
              "      <td>NaN</td>\n",
              "      <td>NaN</td>\n",
              "      <td>3330.0</td>\n",
              "      <td>37882.0</td>\n",
              "      <td>1.321510e+09</td>\n",
              "      <td>undefined</td>\n",
              "      <td>undefined</td>\n",
              "      <td>NaN</td>\n",
              "      <td>NaN</td>\n",
              "      <td>NaN</td>\n",
              "      <td>NaN</td>\n",
              "      <td>NaN</td>\n",
              "      <td>NaN</td>\n",
              "      <td>17.0</td>\n",
              "      <td>207.0</td>\n",
              "      <td>644121.0</td>\n",
              "      <td>13372.0</td>\n",
              "      <td>9023734.0</td>\n",
              "      <td>2788027.0</td>\n",
              "      <td>1439754.0</td>\n",
              "      <td>631229.0</td>\n",
              "      <td>21388122.0</td>\n",
              "      <td>15146643.0</td>\n",
              "      <td>13994646.0</td>\n",
              "      <td>1097942.0</td>\n",
              "      <td>799538153.0</td>\n",
              "      <td>10849722.0</td>\n",
              "      <td>749039933.0</td>\n",
              "      <td>12797283.0</td>\n",
              "      <td>43324218.0</td>\n",
              "      <td>846028530.0</td>\n",
              "    </tr>\n",
              "    <tr>\n",
              "      <th>4</th>\n",
              "      <td>13114483499480700928</td>\n",
              "      <td>2019-04-12 20:10:23</td>\n",
              "      <td>565.0</td>\n",
              "      <td>2019-04-25 10:40:32</td>\n",
              "      <td>954.0</td>\n",
              "      <td>1089009.0</td>\n",
              "      <td>2.082014e+14</td>\n",
              "      <td>3.369980e+10</td>\n",
              "      <td>3.540701e+13</td>\n",
              "      <td>D88865A</td>\n",
              "      <td>NaN</td>\n",
              "      <td>NaN</td>\n",
              "      <td>6.0</td>\n",
              "      <td>9.0</td>\n",
              "      <td>NaN</td>\n",
              "      <td>NaN</td>\n",
              "      <td>100.0</td>\n",
              "      <td>0.0</td>\n",
              "      <td>0.0</td>\n",
              "      <td>0.0</td>\n",
              "      <td>100.0</td>\n",
              "      <td>0.0</td>\n",
              "      <td>0.0</td>\n",
              "      <td>0.0</td>\n",
              "      <td>NaN</td>\n",
              "      <td>NaN</td>\n",
              "      <td>0.0</td>\n",
              "      <td>0.0</td>\n",
              "      <td>1.089009e+09</td>\n",
              "      <td>Samsung</td>\n",
              "      <td>Samsung Sm-G390F</td>\n",
              "      <td>NaN</td>\n",
              "      <td>NaN</td>\n",
              "      <td>NaN</td>\n",
              "      <td>NaN</td>\n",
              "      <td>NaN</td>\n",
              "      <td>NaN</td>\n",
              "      <td>607.0</td>\n",
              "      <td>604.0</td>\n",
              "      <td>862600.0</td>\n",
              "      <td>50188.0</td>\n",
              "      <td>6248284.0</td>\n",
              "      <td>1500559.0</td>\n",
              "      <td>1936496.0</td>\n",
              "      <td>173853.0</td>\n",
              "      <td>15259380.0</td>\n",
              "      <td>18962873.0</td>\n",
              "      <td>17124581.0</td>\n",
              "      <td>415218.0</td>\n",
              "      <td>527707248.0</td>\n",
              "      <td>3529801.0</td>\n",
              "      <td>550709500.0</td>\n",
              "      <td>13910322.0</td>\n",
              "      <td>38542814.0</td>\n",
              "      <td>569138589.0</td>\n",
              "    </tr>\n",
              "  </tbody>\n",
              "</table>\n",
              "</div>"
            ],
            "text/plain": [
              "              Bearer Id               Start  ...  Total UL (Bytes) Total DL (Bytes)\n",
              "0  13114483460844900352 2019-04-04 12:01:18  ...        36749741.0      308879636.0\n",
              "1  13114483482878900224 2019-04-09 13:04:04  ...        53800391.0      653384965.0\n",
              "2  13114483484080500736 2019-04-09 17:42:11  ...        27883638.0      279807335.0\n",
              "3  13114483485442799616 2019-04-10 00:31:25  ...        43324218.0      846028530.0\n",
              "4  13114483499480700928 2019-04-12 20:10:23  ...        38542814.0      569138589.0\n",
              "\n",
              "[5 rows x 55 columns]"
            ]
          },
          "metadata": {
            "tags": []
          },
          "execution_count": 108
        }
      ]
    },
    {
      "cell_type": "code",
      "metadata": {
        "id": "epJLX5KVtpXm",
        "colab": {
          "base_uri": "https://localhost:8080/"
        },
        "outputId": "e9794c34-45a3-4545-f484-4756c697ac5f"
      },
      "source": [
        "# column names\n",
        "df.columns.tolist()"
      ],
      "execution_count": 109,
      "outputs": [
        {
          "output_type": "execute_result",
          "data": {
            "text/plain": [
              "['Bearer Id',\n",
              " 'Start',\n",
              " 'Start ms',\n",
              " 'End',\n",
              " 'End ms',\n",
              " 'Dur. (ms)',\n",
              " 'IMSI',\n",
              " 'MSISDN/Number',\n",
              " 'IMEI',\n",
              " 'Last Location Name',\n",
              " 'Avg RTT DL (ms)',\n",
              " 'Avg RTT UL (ms)',\n",
              " 'Avg Bearer TP DL (kbps)',\n",
              " 'Avg Bearer TP UL (kbps)',\n",
              " 'TCP DL Retrans. Vol (Bytes)',\n",
              " 'TCP UL Retrans. Vol (Bytes)',\n",
              " 'DL TP < 50 Kbps (%)',\n",
              " '50 Kbps < DL TP < 250 Kbps (%)',\n",
              " '250 Kbps < DL TP < 1 Mbps (%)',\n",
              " 'DL TP > 1 Mbps (%)',\n",
              " 'UL TP < 10 Kbps (%)',\n",
              " '10 Kbps < UL TP < 50 Kbps (%)',\n",
              " '50 Kbps < UL TP < 300 Kbps (%)',\n",
              " 'UL TP > 300 Kbps (%)',\n",
              " 'HTTP DL (Bytes)',\n",
              " 'HTTP UL (Bytes)',\n",
              " 'Activity Duration DL (ms)',\n",
              " 'Activity Duration UL (ms)',\n",
              " 'Dur. (ms).1',\n",
              " 'Handset Manufacturer',\n",
              " 'Handset Type',\n",
              " 'Nb of sec with 125000B < Vol DL',\n",
              " 'Nb of sec with 1250B < Vol UL < 6250B',\n",
              " 'Nb of sec with 31250B < Vol DL < 125000B',\n",
              " 'Nb of sec with 37500B < Vol UL',\n",
              " 'Nb of sec with 6250B < Vol DL < 31250B',\n",
              " 'Nb of sec with 6250B < Vol UL < 37500B',\n",
              " 'Nb of sec with Vol DL < 6250B',\n",
              " 'Nb of sec with Vol UL < 1250B',\n",
              " 'Social Media DL (Bytes)',\n",
              " 'Social Media UL (Bytes)',\n",
              " 'Google DL (Bytes)',\n",
              " 'Google UL (Bytes)',\n",
              " 'Email DL (Bytes)',\n",
              " 'Email UL (Bytes)',\n",
              " 'Youtube DL (Bytes)',\n",
              " 'Youtube UL (Bytes)',\n",
              " 'Netflix DL (Bytes)',\n",
              " 'Netflix UL (Bytes)',\n",
              " 'Gaming DL (Bytes)',\n",
              " 'Gaming UL (Bytes)',\n",
              " 'Other DL (Bytes)',\n",
              " 'Other UL (Bytes)',\n",
              " 'Total UL (Bytes)',\n",
              " 'Total DL (Bytes)']"
            ]
          },
          "metadata": {
            "tags": []
          },
          "execution_count": 109
        }
      ]
    },
    {
      "cell_type": "code",
      "metadata": {
        "id": "c2AId08-tqwf",
        "colab": {
          "base_uri": "https://localhost:8080/"
        },
        "outputId": "f238c524-3774-4a08-e556-d10200e6ea78"
      },
      "source": [
        "# number of data points\n",
        "print(f\" There are {df.shape[0]} rows and {df.shape[1]} columns\")"
      ],
      "execution_count": 110,
      "outputs": [
        {
          "output_type": "stream",
          "text": [
            " There are 150001 rows and 55 columns\n"
          ],
          "name": "stdout"
        }
      ]
    },
    {
      "cell_type": "code",
      "metadata": {
        "id": "SuPjM4kGtqzj",
        "colab": {
          "base_uri": "https://localhost:8080/"
        },
        "outputId": "be6324fd-833c-4780-d8b8-bcf489b73591"
      },
      "source": [
        "# how many missing values exist or better still what is the % of missing values in the dataset?\n",
        "def percent_missing(db):\n",
        "\n",
        "    # Calculate total number of cells in dataframe\n",
        "    totalCells = np.product(db.shape)\n",
        "\n",
        "    # Count number of missing values per column\n",
        "    missingCount = db.isnull().sum()\n",
        "\n",
        "    # Calculate total number of missing values\n",
        "    totalMissing = missingCount.sum()\n",
        "\n",
        "    # Calculate percentage of missing values\n",
        "    print(\"The Telecommunication industry dataset contains\", round(((totalMissing/totalCells) * 100), 2), \"%\", \"missing values.\")\n",
        "\n",
        "percent_missing(df)"
      ],
      "execution_count": 111,
      "outputs": [
        {
          "output_type": "stream",
          "text": [
            "The Telecommunication industry dataset contains 12.49 % missing values.\n"
          ],
          "name": "stdout"
        }
      ]
    },
    {
      "cell_type": "code",
      "metadata": {
        "id": "OFygLkeGtrIj"
      },
      "source": [
        ""
      ],
      "execution_count": 111,
      "outputs": []
    },
    {
      "cell_type": "code",
      "metadata": {
        "id": "iKm3KrBWJjU7"
      },
      "source": [
        ""
      ],
      "execution_count": null,
      "outputs": []
    },
    {
      "cell_type": "code",
      "metadata": {
        "id": "sVMRkmyDzVvK",
        "colab": {
          "base_uri": "https://localhost:8080/",
          "height": 382
        },
        "outputId": "1334b9f6-9845-4336-bd4f-ee31a292a68c"
      },
      "source": [
        "df.describe()"
      ],
      "execution_count": 112,
      "outputs": [
        {
          "output_type": "execute_result",
          "data": {
            "text/html": [
              "<div>\n",
              "<style scoped>\n",
              "    .dataframe tbody tr th:only-of-type {\n",
              "        vertical-align: middle;\n",
              "    }\n",
              "\n",
              "    .dataframe tbody tr th {\n",
              "        vertical-align: top;\n",
              "    }\n",
              "\n",
              "    .dataframe thead th {\n",
              "        text-align: right;\n",
              "    }\n",
              "</style>\n",
              "<table border=\"1\" class=\"dataframe\">\n",
              "  <thead>\n",
              "    <tr style=\"text-align: right;\">\n",
              "      <th></th>\n",
              "      <th>Start ms</th>\n",
              "      <th>End ms</th>\n",
              "      <th>Dur. (ms)</th>\n",
              "      <th>IMSI</th>\n",
              "      <th>MSISDN/Number</th>\n",
              "      <th>IMEI</th>\n",
              "      <th>Avg RTT DL (ms)</th>\n",
              "      <th>Avg RTT UL (ms)</th>\n",
              "      <th>Avg Bearer TP DL (kbps)</th>\n",
              "      <th>Avg Bearer TP UL (kbps)</th>\n",
              "      <th>TCP DL Retrans. Vol (Bytes)</th>\n",
              "      <th>TCP UL Retrans. Vol (Bytes)</th>\n",
              "      <th>DL TP &lt; 50 Kbps (%)</th>\n",
              "      <th>50 Kbps &lt; DL TP &lt; 250 Kbps (%)</th>\n",
              "      <th>250 Kbps &lt; DL TP &lt; 1 Mbps (%)</th>\n",
              "      <th>DL TP &gt; 1 Mbps (%)</th>\n",
              "      <th>UL TP &lt; 10 Kbps (%)</th>\n",
              "      <th>10 Kbps &lt; UL TP &lt; 50 Kbps (%)</th>\n",
              "      <th>50 Kbps &lt; UL TP &lt; 300 Kbps (%)</th>\n",
              "      <th>UL TP &gt; 300 Kbps (%)</th>\n",
              "      <th>HTTP DL (Bytes)</th>\n",
              "      <th>HTTP UL (Bytes)</th>\n",
              "      <th>Activity Duration DL (ms)</th>\n",
              "      <th>Activity Duration UL (ms)</th>\n",
              "      <th>Dur. (ms).1</th>\n",
              "      <th>Nb of sec with 125000B &lt; Vol DL</th>\n",
              "      <th>Nb of sec with 1250B &lt; Vol UL &lt; 6250B</th>\n",
              "      <th>Nb of sec with 31250B &lt; Vol DL &lt; 125000B</th>\n",
              "      <th>Nb of sec with 37500B &lt; Vol UL</th>\n",
              "      <th>Nb of sec with 6250B &lt; Vol DL &lt; 31250B</th>\n",
              "      <th>Nb of sec with 6250B &lt; Vol UL &lt; 37500B</th>\n",
              "      <th>Nb of sec with Vol DL &lt; 6250B</th>\n",
              "      <th>Nb of sec with Vol UL &lt; 1250B</th>\n",
              "      <th>Social Media DL (Bytes)</th>\n",
              "      <th>Social Media UL (Bytes)</th>\n",
              "      <th>Google DL (Bytes)</th>\n",
              "      <th>Google UL (Bytes)</th>\n",
              "      <th>Email DL (Bytes)</th>\n",
              "      <th>Email UL (Bytes)</th>\n",
              "      <th>Youtube DL (Bytes)</th>\n",
              "      <th>Youtube UL (Bytes)</th>\n",
              "      <th>Netflix DL (Bytes)</th>\n",
              "      <th>Netflix UL (Bytes)</th>\n",
              "      <th>Gaming DL (Bytes)</th>\n",
              "      <th>Gaming UL (Bytes)</th>\n",
              "      <th>Other DL (Bytes)</th>\n",
              "      <th>Other UL (Bytes)</th>\n",
              "      <th>Total UL (Bytes)</th>\n",
              "      <th>Total DL (Bytes)</th>\n",
              "    </tr>\n",
              "  </thead>\n",
              "  <tbody>\n",
              "    <tr>\n",
              "      <th>count</th>\n",
              "      <td>150000.000000</td>\n",
              "      <td>150000.000000</td>\n",
              "      <td>1.500000e+05</td>\n",
              "      <td>1.494310e+05</td>\n",
              "      <td>1.489350e+05</td>\n",
              "      <td>1.494290e+05</td>\n",
              "      <td>122172.000000</td>\n",
              "      <td>122189.000000</td>\n",
              "      <td>150000.000000</td>\n",
              "      <td>150000.000000</td>\n",
              "      <td>6.185500e+04</td>\n",
              "      <td>5.335200e+04</td>\n",
              "      <td>149247.000000</td>\n",
              "      <td>149247.000000</td>\n",
              "      <td>149247.000000</td>\n",
              "      <td>149247.000000</td>\n",
              "      <td>149209.000000</td>\n",
              "      <td>149209.000000</td>\n",
              "      <td>149209.000000</td>\n",
              "      <td>149209.000000</td>\n",
              "      <td>6.852700e+04</td>\n",
              "      <td>6.819100e+04</td>\n",
              "      <td>1.500000e+05</td>\n",
              "      <td>1.500000e+05</td>\n",
              "      <td>1.500000e+05</td>\n",
              "      <td>52463.000000</td>\n",
              "      <td>57107.000000</td>\n",
              "      <td>56415.000000</td>\n",
              "      <td>19747.000000</td>\n",
              "      <td>61684.000000</td>\n",
              "      <td>38158.000000</td>\n",
              "      <td>149246.000000</td>\n",
              "      <td>149208.000000</td>\n",
              "      <td>1.500010e+05</td>\n",
              "      <td>150001.000000</td>\n",
              "      <td>1.500010e+05</td>\n",
              "      <td>1.500010e+05</td>\n",
              "      <td>1.500010e+05</td>\n",
              "      <td>150001.000000</td>\n",
              "      <td>1.500010e+05</td>\n",
              "      <td>1.500010e+05</td>\n",
              "      <td>1.500010e+05</td>\n",
              "      <td>1.500010e+05</td>\n",
              "      <td>1.500010e+05</td>\n",
              "      <td>1.500010e+05</td>\n",
              "      <td>1.500010e+05</td>\n",
              "      <td>1.500010e+05</td>\n",
              "      <td>1.500000e+05</td>\n",
              "      <td>1.500000e+05</td>\n",
              "    </tr>\n",
              "    <tr>\n",
              "      <th>mean</th>\n",
              "      <td>499.188200</td>\n",
              "      <td>498.800880</td>\n",
              "      <td>1.046086e+05</td>\n",
              "      <td>2.082016e+14</td>\n",
              "      <td>4.188282e+10</td>\n",
              "      <td>4.847455e+13</td>\n",
              "      <td>109.795706</td>\n",
              "      <td>17.662883</td>\n",
              "      <td>13300.045927</td>\n",
              "      <td>1770.428647</td>\n",
              "      <td>2.080991e+07</td>\n",
              "      <td>7.596587e+05</td>\n",
              "      <td>92.844754</td>\n",
              "      <td>3.069355</td>\n",
              "      <td>1.717341</td>\n",
              "      <td>1.609654</td>\n",
              "      <td>98.530142</td>\n",
              "      <td>0.776749</td>\n",
              "      <td>0.147987</td>\n",
              "      <td>0.078923</td>\n",
              "      <td>1.144710e+08</td>\n",
              "      <td>3.242301e+06</td>\n",
              "      <td>1.829177e+06</td>\n",
              "      <td>1.408880e+06</td>\n",
              "      <td>1.046091e+08</td>\n",
              "      <td>989.699998</td>\n",
              "      <td>340.434395</td>\n",
              "      <td>810.837401</td>\n",
              "      <td>149.257052</td>\n",
              "      <td>965.464756</td>\n",
              "      <td>141.304812</td>\n",
              "      <td>3719.787552</td>\n",
              "      <td>4022.083454</td>\n",
              "      <td>1.795322e+06</td>\n",
              "      <td>32928.434380</td>\n",
              "      <td>5.750753e+06</td>\n",
              "      <td>2.056542e+06</td>\n",
              "      <td>1.791729e+06</td>\n",
              "      <td>467373.441940</td>\n",
              "      <td>1.163407e+07</td>\n",
              "      <td>1.100941e+07</td>\n",
              "      <td>1.162685e+07</td>\n",
              "      <td>1.100175e+07</td>\n",
              "      <td>4.220447e+08</td>\n",
              "      <td>8.288398e+06</td>\n",
              "      <td>4.211005e+08</td>\n",
              "      <td>8.264799e+06</td>\n",
              "      <td>4.112121e+07</td>\n",
              "      <td>4.546434e+08</td>\n",
              "    </tr>\n",
              "    <tr>\n",
              "      <th>std</th>\n",
              "      <td>288.611834</td>\n",
              "      <td>288.097653</td>\n",
              "      <td>8.103762e+04</td>\n",
              "      <td>2.148809e+10</td>\n",
              "      <td>2.447443e+12</td>\n",
              "      <td>2.241637e+13</td>\n",
              "      <td>619.782739</td>\n",
              "      <td>84.793524</td>\n",
              "      <td>23971.878541</td>\n",
              "      <td>4625.355500</td>\n",
              "      <td>1.825665e+08</td>\n",
              "      <td>2.645305e+07</td>\n",
              "      <td>13.038031</td>\n",
              "      <td>6.215233</td>\n",
              "      <td>4.159538</td>\n",
              "      <td>4.828890</td>\n",
              "      <td>4.634285</td>\n",
              "      <td>3.225176</td>\n",
              "      <td>1.624523</td>\n",
              "      <td>1.295396</td>\n",
              "      <td>9.631946e+08</td>\n",
              "      <td>1.957064e+07</td>\n",
              "      <td>5.696395e+06</td>\n",
              "      <td>4.643231e+06</td>\n",
              "      <td>8.103761e+07</td>\n",
              "      <td>2546.524440</td>\n",
              "      <td>1445.365032</td>\n",
              "      <td>1842.162008</td>\n",
              "      <td>1219.112287</td>\n",
              "      <td>1946.387608</td>\n",
              "      <td>993.349688</td>\n",
              "      <td>9171.609010</td>\n",
              "      <td>10160.324314</td>\n",
              "      <td>1.035482e+06</td>\n",
              "      <td>19006.178256</td>\n",
              "      <td>3.309097e+06</td>\n",
              "      <td>1.189917e+06</td>\n",
              "      <td>1.035840e+06</td>\n",
              "      <td>269969.307031</td>\n",
              "      <td>6.710569e+06</td>\n",
              "      <td>6.345423e+06</td>\n",
              "      <td>6.725218e+06</td>\n",
              "      <td>6.359490e+06</td>\n",
              "      <td>2.439675e+08</td>\n",
              "      <td>4.782700e+06</td>\n",
              "      <td>2.432050e+08</td>\n",
              "      <td>4.769004e+06</td>\n",
              "      <td>1.127639e+07</td>\n",
              "      <td>2.441429e+08</td>\n",
              "    </tr>\n",
              "    <tr>\n",
              "      <th>min</th>\n",
              "      <td>0.000000</td>\n",
              "      <td>0.000000</td>\n",
              "      <td>7.142000e+03</td>\n",
              "      <td>2.040471e+14</td>\n",
              "      <td>3.360100e+10</td>\n",
              "      <td>4.400152e+11</td>\n",
              "      <td>0.000000</td>\n",
              "      <td>0.000000</td>\n",
              "      <td>0.000000</td>\n",
              "      <td>0.000000</td>\n",
              "      <td>2.000000e+00</td>\n",
              "      <td>1.000000e+00</td>\n",
              "      <td>0.000000</td>\n",
              "      <td>0.000000</td>\n",
              "      <td>0.000000</td>\n",
              "      <td>0.000000</td>\n",
              "      <td>0.000000</td>\n",
              "      <td>0.000000</td>\n",
              "      <td>0.000000</td>\n",
              "      <td>0.000000</td>\n",
              "      <td>4.000000e+01</td>\n",
              "      <td>4.000000e+01</td>\n",
              "      <td>0.000000e+00</td>\n",
              "      <td>0.000000e+00</td>\n",
              "      <td>7.142988e+06</td>\n",
              "      <td>1.000000</td>\n",
              "      <td>1.000000</td>\n",
              "      <td>1.000000</td>\n",
              "      <td>1.000000</td>\n",
              "      <td>1.000000</td>\n",
              "      <td>1.000000</td>\n",
              "      <td>1.000000</td>\n",
              "      <td>1.000000</td>\n",
              "      <td>1.200000e+01</td>\n",
              "      <td>0.000000</td>\n",
              "      <td>2.070000e+02</td>\n",
              "      <td>3.000000e+00</td>\n",
              "      <td>1.400000e+01</td>\n",
              "      <td>2.000000</td>\n",
              "      <td>5.300000e+01</td>\n",
              "      <td>1.050000e+02</td>\n",
              "      <td>4.200000e+01</td>\n",
              "      <td>3.500000e+01</td>\n",
              "      <td>2.516000e+03</td>\n",
              "      <td>5.900000e+01</td>\n",
              "      <td>3.290000e+03</td>\n",
              "      <td>1.480000e+02</td>\n",
              "      <td>2.866892e+06</td>\n",
              "      <td>7.114041e+06</td>\n",
              "    </tr>\n",
              "    <tr>\n",
              "      <th>25%</th>\n",
              "      <td>250.000000</td>\n",
              "      <td>251.000000</td>\n",
              "      <td>5.744050e+04</td>\n",
              "      <td>2.082014e+14</td>\n",
              "      <td>3.365130e+10</td>\n",
              "      <td>3.546071e+13</td>\n",
              "      <td>32.000000</td>\n",
              "      <td>2.000000</td>\n",
              "      <td>43.000000</td>\n",
              "      <td>47.000000</td>\n",
              "      <td>3.565150e+04</td>\n",
              "      <td>4.694750e+03</td>\n",
              "      <td>91.000000</td>\n",
              "      <td>0.000000</td>\n",
              "      <td>0.000000</td>\n",
              "      <td>0.000000</td>\n",
              "      <td>99.000000</td>\n",
              "      <td>0.000000</td>\n",
              "      <td>0.000000</td>\n",
              "      <td>0.000000</td>\n",
              "      <td>1.124035e+05</td>\n",
              "      <td>2.432200e+04</td>\n",
              "      <td>1.487775e+04</td>\n",
              "      <td>2.153975e+04</td>\n",
              "      <td>5.744079e+07</td>\n",
              "      <td>20.000000</td>\n",
              "      <td>10.000000</td>\n",
              "      <td>26.000000</td>\n",
              "      <td>2.000000</td>\n",
              "      <td>39.000000</td>\n",
              "      <td>3.000000</td>\n",
              "      <td>87.000000</td>\n",
              "      <td>106.000000</td>\n",
              "      <td>8.991480e+05</td>\n",
              "      <td>16448.000000</td>\n",
              "      <td>2.882393e+06</td>\n",
              "      <td>1.024279e+06</td>\n",
              "      <td>8.927930e+05</td>\n",
              "      <td>233383.000000</td>\n",
              "      <td>5.833501e+06</td>\n",
              "      <td>5.517965e+06</td>\n",
              "      <td>5.777156e+06</td>\n",
              "      <td>5.475981e+06</td>\n",
              "      <td>2.104733e+08</td>\n",
              "      <td>4.128476e+06</td>\n",
              "      <td>2.101869e+08</td>\n",
              "      <td>4.145943e+06</td>\n",
              "      <td>3.322201e+07</td>\n",
              "      <td>2.431068e+08</td>\n",
              "    </tr>\n",
              "    <tr>\n",
              "      <th>50%</th>\n",
              "      <td>499.000000</td>\n",
              "      <td>500.000000</td>\n",
              "      <td>8.639900e+04</td>\n",
              "      <td>2.082015e+14</td>\n",
              "      <td>3.366371e+10</td>\n",
              "      <td>3.572201e+13</td>\n",
              "      <td>45.000000</td>\n",
              "      <td>5.000000</td>\n",
              "      <td>63.000000</td>\n",
              "      <td>63.000000</td>\n",
              "      <td>5.687300e+05</td>\n",
              "      <td>2.094950e+04</td>\n",
              "      <td>100.000000</td>\n",
              "      <td>0.000000</td>\n",
              "      <td>0.000000</td>\n",
              "      <td>0.000000</td>\n",
              "      <td>100.000000</td>\n",
              "      <td>0.000000</td>\n",
              "      <td>0.000000</td>\n",
              "      <td>0.000000</td>\n",
              "      <td>1.941949e+06</td>\n",
              "      <td>2.297330e+05</td>\n",
              "      <td>3.930450e+04</td>\n",
              "      <td>4.679350e+04</td>\n",
              "      <td>8.639998e+07</td>\n",
              "      <td>128.000000</td>\n",
              "      <td>52.000000</td>\n",
              "      <td>164.000000</td>\n",
              "      <td>8.000000</td>\n",
              "      <td>288.000000</td>\n",
              "      <td>8.000000</td>\n",
              "      <td>203.000000</td>\n",
              "      <td>217.000000</td>\n",
              "      <td>1.794369e+06</td>\n",
              "      <td>32920.000000</td>\n",
              "      <td>5.765829e+06</td>\n",
              "      <td>2.054573e+06</td>\n",
              "      <td>1.793505e+06</td>\n",
              "      <td>466250.000000</td>\n",
              "      <td>1.161602e+07</td>\n",
              "      <td>1.101345e+07</td>\n",
              "      <td>1.164222e+07</td>\n",
              "      <td>1.099638e+07</td>\n",
              "      <td>4.234081e+08</td>\n",
              "      <td>8.291208e+06</td>\n",
              "      <td>4.218030e+08</td>\n",
              "      <td>8.267071e+06</td>\n",
              "      <td>4.114331e+07</td>\n",
              "      <td>4.558411e+08</td>\n",
              "    </tr>\n",
              "    <tr>\n",
              "      <th>75%</th>\n",
              "      <td>749.000000</td>\n",
              "      <td>750.000000</td>\n",
              "      <td>1.324302e+05</td>\n",
              "      <td>2.082018e+14</td>\n",
              "      <td>3.368349e+10</td>\n",
              "      <td>8.611970e+13</td>\n",
              "      <td>70.000000</td>\n",
              "      <td>15.000000</td>\n",
              "      <td>19710.750000</td>\n",
              "      <td>1120.000000</td>\n",
              "      <td>3.768308e+06</td>\n",
              "      <td>8.402025e+04</td>\n",
              "      <td>100.000000</td>\n",
              "      <td>4.000000</td>\n",
              "      <td>1.000000</td>\n",
              "      <td>0.000000</td>\n",
              "      <td>100.000000</td>\n",
              "      <td>0.000000</td>\n",
              "      <td>0.000000</td>\n",
              "      <td>0.000000</td>\n",
              "      <td>2.504290e+07</td>\n",
              "      <td>1.542827e+06</td>\n",
              "      <td>6.796095e+05</td>\n",
              "      <td>5.990952e+05</td>\n",
              "      <td>1.324308e+08</td>\n",
              "      <td>693.500000</td>\n",
              "      <td>203.000000</td>\n",
              "      <td>757.000000</td>\n",
              "      <td>35.000000</td>\n",
              "      <td>1092.000000</td>\n",
              "      <td>31.000000</td>\n",
              "      <td>2650.000000</td>\n",
              "      <td>2451.000000</td>\n",
              "      <td>2.694938e+06</td>\n",
              "      <td>49334.000000</td>\n",
              "      <td>8.623552e+06</td>\n",
              "      <td>3.088454e+06</td>\n",
              "      <td>2.689327e+06</td>\n",
              "      <td>700440.000000</td>\n",
              "      <td>1.744852e+07</td>\n",
              "      <td>1.651556e+07</td>\n",
              "      <td>1.747048e+07</td>\n",
              "      <td>1.650727e+07</td>\n",
              "      <td>6.331742e+08</td>\n",
              "      <td>1.243162e+07</td>\n",
              "      <td>6.316918e+08</td>\n",
              "      <td>1.238415e+07</td>\n",
              "      <td>4.903424e+07</td>\n",
              "      <td>6.657055e+08</td>\n",
              "    </tr>\n",
              "    <tr>\n",
              "      <th>max</th>\n",
              "      <td>999.000000</td>\n",
              "      <td>999.000000</td>\n",
              "      <td>1.859336e+06</td>\n",
              "      <td>2.140743e+14</td>\n",
              "      <td>8.823971e+14</td>\n",
              "      <td>9.900120e+13</td>\n",
              "      <td>96923.000000</td>\n",
              "      <td>7120.000000</td>\n",
              "      <td>378160.000000</td>\n",
              "      <td>58613.000000</td>\n",
              "      <td>4.294426e+09</td>\n",
              "      <td>2.908226e+09</td>\n",
              "      <td>100.000000</td>\n",
              "      <td>93.000000</td>\n",
              "      <td>100.000000</td>\n",
              "      <td>94.000000</td>\n",
              "      <td>100.000000</td>\n",
              "      <td>98.000000</td>\n",
              "      <td>100.000000</td>\n",
              "      <td>96.000000</td>\n",
              "      <td>7.253064e+10</td>\n",
              "      <td>1.491890e+09</td>\n",
              "      <td>1.365365e+08</td>\n",
              "      <td>1.449113e+08</td>\n",
              "      <td>1.859336e+09</td>\n",
              "      <td>81476.000000</td>\n",
              "      <td>85412.000000</td>\n",
              "      <td>58525.000000</td>\n",
              "      <td>50553.000000</td>\n",
              "      <td>66913.000000</td>\n",
              "      <td>49565.000000</td>\n",
              "      <td>604061.000000</td>\n",
              "      <td>604122.000000</td>\n",
              "      <td>3.586064e+06</td>\n",
              "      <td>65870.000000</td>\n",
              "      <td>1.146283e+07</td>\n",
              "      <td>4.121357e+06</td>\n",
              "      <td>3.586146e+06</td>\n",
              "      <td>936418.000000</td>\n",
              "      <td>2.325910e+07</td>\n",
              "      <td>2.201196e+07</td>\n",
              "      <td>2.325919e+07</td>\n",
              "      <td>2.201196e+07</td>\n",
              "      <td>8.434419e+08</td>\n",
              "      <td>1.655879e+07</td>\n",
              "      <td>8.434425e+08</td>\n",
              "      <td>1.655882e+07</td>\n",
              "      <td>7.833131e+07</td>\n",
              "      <td>9.029696e+08</td>\n",
              "    </tr>\n",
              "  </tbody>\n",
              "</table>\n",
              "</div>"
            ],
            "text/plain": [
              "            Start ms         End ms  ...  Total UL (Bytes)  Total DL (Bytes)\n",
              "count  150000.000000  150000.000000  ...      1.500000e+05      1.500000e+05\n",
              "mean      499.188200     498.800880  ...      4.112121e+07      4.546434e+08\n",
              "std       288.611834     288.097653  ...      1.127639e+07      2.441429e+08\n",
              "min         0.000000       0.000000  ...      2.866892e+06      7.114041e+06\n",
              "25%       250.000000     251.000000  ...      3.322201e+07      2.431068e+08\n",
              "50%       499.000000     500.000000  ...      4.114331e+07      4.558411e+08\n",
              "75%       749.000000     750.000000  ...      4.903424e+07      6.657055e+08\n",
              "max       999.000000     999.000000  ...      7.833131e+07      9.029696e+08\n",
              "\n",
              "[8 rows x 49 columns]"
            ]
          },
          "metadata": {
            "tags": []
          },
          "execution_count": 112
        }
      ]
    },
    {
      "cell_type": "code",
      "metadata": {
        "colab": {
          "base_uri": "https://localhost:8080/",
          "height": 739
        },
        "id": "Mvg4UZkVGcXN",
        "outputId": "48fb262f-b806-4fbb-83e4-916272327061"
      },
      "source": [
        "df.columns = df.columns.str.replace(' ','').str.replace('(', '').str.replace(')', '')\n",
        "df"
      ],
      "execution_count": 113,
      "outputs": [
        {
          "output_type": "execute_result",
          "data": {
            "text/html": [
              "<div>\n",
              "<style scoped>\n",
              "    .dataframe tbody tr th:only-of-type {\n",
              "        vertical-align: middle;\n",
              "    }\n",
              "\n",
              "    .dataframe tbody tr th {\n",
              "        vertical-align: top;\n",
              "    }\n",
              "\n",
              "    .dataframe thead th {\n",
              "        text-align: right;\n",
              "    }\n",
              "</style>\n",
              "<table border=\"1\" class=\"dataframe\">\n",
              "  <thead>\n",
              "    <tr style=\"text-align: right;\">\n",
              "      <th></th>\n",
              "      <th>BearerId</th>\n",
              "      <th>Start</th>\n",
              "      <th>Startms</th>\n",
              "      <th>End</th>\n",
              "      <th>Endms</th>\n",
              "      <th>Dur.ms</th>\n",
              "      <th>IMSI</th>\n",
              "      <th>MSISDN/Number</th>\n",
              "      <th>IMEI</th>\n",
              "      <th>LastLocationName</th>\n",
              "      <th>AvgRTTDLms</th>\n",
              "      <th>AvgRTTULms</th>\n",
              "      <th>AvgBearerTPDLkbps</th>\n",
              "      <th>AvgBearerTPULkbps</th>\n",
              "      <th>TCPDLRetrans.VolBytes</th>\n",
              "      <th>TCPULRetrans.VolBytes</th>\n",
              "      <th>DLTP&lt;50Kbps%</th>\n",
              "      <th>50Kbps&lt;DLTP&lt;250Kbps%</th>\n",
              "      <th>250Kbps&lt;DLTP&lt;1Mbps%</th>\n",
              "      <th>DLTP&gt;1Mbps%</th>\n",
              "      <th>ULTP&lt;10Kbps%</th>\n",
              "      <th>10Kbps&lt;ULTP&lt;50Kbps%</th>\n",
              "      <th>50Kbps&lt;ULTP&lt;300Kbps%</th>\n",
              "      <th>ULTP&gt;300Kbps%</th>\n",
              "      <th>HTTPDLBytes</th>\n",
              "      <th>HTTPULBytes</th>\n",
              "      <th>ActivityDurationDLms</th>\n",
              "      <th>ActivityDurationULms</th>\n",
              "      <th>Dur.ms.1</th>\n",
              "      <th>HandsetManufacturer</th>\n",
              "      <th>HandsetType</th>\n",
              "      <th>Nbofsecwith125000B&lt;VolDL</th>\n",
              "      <th>Nbofsecwith1250B&lt;VolUL&lt;6250B</th>\n",
              "      <th>Nbofsecwith31250B&lt;VolDL&lt;125000B</th>\n",
              "      <th>Nbofsecwith37500B&lt;VolUL</th>\n",
              "      <th>Nbofsecwith6250B&lt;VolDL&lt;31250B</th>\n",
              "      <th>Nbofsecwith6250B&lt;VolUL&lt;37500B</th>\n",
              "      <th>NbofsecwithVolDL&lt;6250B</th>\n",
              "      <th>NbofsecwithVolUL&lt;1250B</th>\n",
              "      <th>SocialMediaDLBytes</th>\n",
              "      <th>SocialMediaULBytes</th>\n",
              "      <th>GoogleDLBytes</th>\n",
              "      <th>GoogleULBytes</th>\n",
              "      <th>EmailDLBytes</th>\n",
              "      <th>EmailULBytes</th>\n",
              "      <th>YoutubeDLBytes</th>\n",
              "      <th>YoutubeULBytes</th>\n",
              "      <th>NetflixDLBytes</th>\n",
              "      <th>NetflixULBytes</th>\n",
              "      <th>GamingDLBytes</th>\n",
              "      <th>GamingULBytes</th>\n",
              "      <th>OtherDLBytes</th>\n",
              "      <th>OtherULBytes</th>\n",
              "      <th>TotalULBytes</th>\n",
              "      <th>TotalDLBytes</th>\n",
              "    </tr>\n",
              "  </thead>\n",
              "  <tbody>\n",
              "    <tr>\n",
              "      <th>0</th>\n",
              "      <td>13114483460844900352</td>\n",
              "      <td>2019-04-04 12:01:18</td>\n",
              "      <td>770.0</td>\n",
              "      <td>2019-04-25 14:35:31</td>\n",
              "      <td>662.0</td>\n",
              "      <td>1823652.0</td>\n",
              "      <td>2.082014e+14</td>\n",
              "      <td>3.366496e+10</td>\n",
              "      <td>3.552121e+13</td>\n",
              "      <td>9164566995485190</td>\n",
              "      <td>42.0</td>\n",
              "      <td>5.0</td>\n",
              "      <td>23.0</td>\n",
              "      <td>44.0</td>\n",
              "      <td>NaN</td>\n",
              "      <td>NaN</td>\n",
              "      <td>100.0</td>\n",
              "      <td>0.0</td>\n",
              "      <td>0.0</td>\n",
              "      <td>0.0</td>\n",
              "      <td>100.0</td>\n",
              "      <td>0.0</td>\n",
              "      <td>0.0</td>\n",
              "      <td>0.0</td>\n",
              "      <td>NaN</td>\n",
              "      <td>NaN</td>\n",
              "      <td>37624.0</td>\n",
              "      <td>38787.0</td>\n",
              "      <td>1.823653e+09</td>\n",
              "      <td>Samsung</td>\n",
              "      <td>Samsung Galaxy A5 Sm-A520F</td>\n",
              "      <td>NaN</td>\n",
              "      <td>NaN</td>\n",
              "      <td>NaN</td>\n",
              "      <td>NaN</td>\n",
              "      <td>NaN</td>\n",
              "      <td>NaN</td>\n",
              "      <td>213.0</td>\n",
              "      <td>214.0</td>\n",
              "      <td>1.545765e+06</td>\n",
              "      <td>24420.00000</td>\n",
              "      <td>1.634479e+06</td>\n",
              "      <td>1.271433e+06</td>\n",
              "      <td>3.563542e+06</td>\n",
              "      <td>137762.00000</td>\n",
              "      <td>1.585461e+07</td>\n",
              "      <td>2.501332e+06</td>\n",
              "      <td>8.198936e+06</td>\n",
              "      <td>9.656251e+06</td>\n",
              "      <td>2.780823e+08</td>\n",
              "      <td>1.434415e+07</td>\n",
              "      <td>1.717444e+08</td>\n",
              "      <td>8.814393e+06</td>\n",
              "      <td>36749741.0</td>\n",
              "      <td>308879636.0</td>\n",
              "    </tr>\n",
              "    <tr>\n",
              "      <th>1</th>\n",
              "      <td>13114483482878900224</td>\n",
              "      <td>2019-04-09 13:04:04</td>\n",
              "      <td>235.0</td>\n",
              "      <td>2019-04-25 08:15:48</td>\n",
              "      <td>606.0</td>\n",
              "      <td>1365104.0</td>\n",
              "      <td>2.082019e+14</td>\n",
              "      <td>3.368185e+10</td>\n",
              "      <td>3.579401e+13</td>\n",
              "      <td>L77566A</td>\n",
              "      <td>65.0</td>\n",
              "      <td>5.0</td>\n",
              "      <td>16.0</td>\n",
              "      <td>26.0</td>\n",
              "      <td>NaN</td>\n",
              "      <td>NaN</td>\n",
              "      <td>100.0</td>\n",
              "      <td>0.0</td>\n",
              "      <td>0.0</td>\n",
              "      <td>0.0</td>\n",
              "      <td>100.0</td>\n",
              "      <td>0.0</td>\n",
              "      <td>0.0</td>\n",
              "      <td>0.0</td>\n",
              "      <td>NaN</td>\n",
              "      <td>NaN</td>\n",
              "      <td>168.0</td>\n",
              "      <td>3560.0</td>\n",
              "      <td>1.365104e+09</td>\n",
              "      <td>Samsung</td>\n",
              "      <td>Samsung Galaxy J5 (Sm-J530)</td>\n",
              "      <td>NaN</td>\n",
              "      <td>NaN</td>\n",
              "      <td>NaN</td>\n",
              "      <td>NaN</td>\n",
              "      <td>NaN</td>\n",
              "      <td>NaN</td>\n",
              "      <td>971.0</td>\n",
              "      <td>1022.0</td>\n",
              "      <td>1.926113e+06</td>\n",
              "      <td>7165.00000</td>\n",
              "      <td>3.493924e+06</td>\n",
              "      <td>9.201720e+05</td>\n",
              "      <td>6.290460e+05</td>\n",
              "      <td>308339.00000</td>\n",
              "      <td>2.024740e+07</td>\n",
              "      <td>1.911173e+07</td>\n",
              "      <td>1.833841e+07</td>\n",
              "      <td>1.722713e+07</td>\n",
              "      <td>6.087501e+08</td>\n",
              "      <td>1.170709e+06</td>\n",
              "      <td>5.269042e+08</td>\n",
              "      <td>1.505514e+07</td>\n",
              "      <td>53800391.0</td>\n",
              "      <td>653384965.0</td>\n",
              "    </tr>\n",
              "    <tr>\n",
              "      <th>2</th>\n",
              "      <td>13114483484080500736</td>\n",
              "      <td>2019-04-09 17:42:11</td>\n",
              "      <td>1.0</td>\n",
              "      <td>2019-04-25 11:58:13</td>\n",
              "      <td>652.0</td>\n",
              "      <td>1361762.0</td>\n",
              "      <td>2.082003e+14</td>\n",
              "      <td>3.376063e+10</td>\n",
              "      <td>3.528151e+13</td>\n",
              "      <td>D42335A</td>\n",
              "      <td>NaN</td>\n",
              "      <td>NaN</td>\n",
              "      <td>6.0</td>\n",
              "      <td>9.0</td>\n",
              "      <td>NaN</td>\n",
              "      <td>NaN</td>\n",
              "      <td>100.0</td>\n",
              "      <td>0.0</td>\n",
              "      <td>0.0</td>\n",
              "      <td>0.0</td>\n",
              "      <td>100.0</td>\n",
              "      <td>0.0</td>\n",
              "      <td>0.0</td>\n",
              "      <td>0.0</td>\n",
              "      <td>NaN</td>\n",
              "      <td>NaN</td>\n",
              "      <td>0.0</td>\n",
              "      <td>0.0</td>\n",
              "      <td>1.361763e+09</td>\n",
              "      <td>Samsung</td>\n",
              "      <td>Samsung Galaxy A8 (2018)</td>\n",
              "      <td>NaN</td>\n",
              "      <td>NaN</td>\n",
              "      <td>NaN</td>\n",
              "      <td>NaN</td>\n",
              "      <td>NaN</td>\n",
              "      <td>NaN</td>\n",
              "      <td>751.0</td>\n",
              "      <td>695.0</td>\n",
              "      <td>1.684053e+06</td>\n",
              "      <td>42224.00000</td>\n",
              "      <td>8.535055e+06</td>\n",
              "      <td>1.694064e+06</td>\n",
              "      <td>2.690151e+06</td>\n",
              "      <td>672973.00000</td>\n",
              "      <td>1.972566e+07</td>\n",
              "      <td>1.469958e+07</td>\n",
              "      <td>1.758779e+07</td>\n",
              "      <td>6.163408e+06</td>\n",
              "      <td>2.295846e+08</td>\n",
              "      <td>3.956300e+05</td>\n",
              "      <td>4.106926e+08</td>\n",
              "      <td>4.215763e+06</td>\n",
              "      <td>27883638.0</td>\n",
              "      <td>279807335.0</td>\n",
              "    </tr>\n",
              "    <tr>\n",
              "      <th>3</th>\n",
              "      <td>13114483485442799616</td>\n",
              "      <td>2019-04-10 00:31:25</td>\n",
              "      <td>486.0</td>\n",
              "      <td>2019-04-25 07:36:35</td>\n",
              "      <td>171.0</td>\n",
              "      <td>1321509.0</td>\n",
              "      <td>2.082014e+14</td>\n",
              "      <td>3.375034e+10</td>\n",
              "      <td>3.535661e+13</td>\n",
              "      <td>T21824A</td>\n",
              "      <td>NaN</td>\n",
              "      <td>NaN</td>\n",
              "      <td>44.0</td>\n",
              "      <td>44.0</td>\n",
              "      <td>NaN</td>\n",
              "      <td>NaN</td>\n",
              "      <td>100.0</td>\n",
              "      <td>0.0</td>\n",
              "      <td>0.0</td>\n",
              "      <td>0.0</td>\n",
              "      <td>100.0</td>\n",
              "      <td>0.0</td>\n",
              "      <td>0.0</td>\n",
              "      <td>0.0</td>\n",
              "      <td>NaN</td>\n",
              "      <td>NaN</td>\n",
              "      <td>3330.0</td>\n",
              "      <td>37882.0</td>\n",
              "      <td>1.321510e+09</td>\n",
              "      <td>undefined</td>\n",
              "      <td>undefined</td>\n",
              "      <td>NaN</td>\n",
              "      <td>NaN</td>\n",
              "      <td>NaN</td>\n",
              "      <td>NaN</td>\n",
              "      <td>NaN</td>\n",
              "      <td>NaN</td>\n",
              "      <td>17.0</td>\n",
              "      <td>207.0</td>\n",
              "      <td>6.441210e+05</td>\n",
              "      <td>13372.00000</td>\n",
              "      <td>9.023734e+06</td>\n",
              "      <td>2.788027e+06</td>\n",
              "      <td>1.439754e+06</td>\n",
              "      <td>631229.00000</td>\n",
              "      <td>2.138812e+07</td>\n",
              "      <td>1.514664e+07</td>\n",
              "      <td>1.399465e+07</td>\n",
              "      <td>1.097942e+06</td>\n",
              "      <td>7.995382e+08</td>\n",
              "      <td>1.084972e+07</td>\n",
              "      <td>7.490399e+08</td>\n",
              "      <td>1.279728e+07</td>\n",
              "      <td>43324218.0</td>\n",
              "      <td>846028530.0</td>\n",
              "    </tr>\n",
              "    <tr>\n",
              "      <th>4</th>\n",
              "      <td>13114483499480700928</td>\n",
              "      <td>2019-04-12 20:10:23</td>\n",
              "      <td>565.0</td>\n",
              "      <td>2019-04-25 10:40:32</td>\n",
              "      <td>954.0</td>\n",
              "      <td>1089009.0</td>\n",
              "      <td>2.082014e+14</td>\n",
              "      <td>3.369980e+10</td>\n",
              "      <td>3.540701e+13</td>\n",
              "      <td>D88865A</td>\n",
              "      <td>NaN</td>\n",
              "      <td>NaN</td>\n",
              "      <td>6.0</td>\n",
              "      <td>9.0</td>\n",
              "      <td>NaN</td>\n",
              "      <td>NaN</td>\n",
              "      <td>100.0</td>\n",
              "      <td>0.0</td>\n",
              "      <td>0.0</td>\n",
              "      <td>0.0</td>\n",
              "      <td>100.0</td>\n",
              "      <td>0.0</td>\n",
              "      <td>0.0</td>\n",
              "      <td>0.0</td>\n",
              "      <td>NaN</td>\n",
              "      <td>NaN</td>\n",
              "      <td>0.0</td>\n",
              "      <td>0.0</td>\n",
              "      <td>1.089009e+09</td>\n",
              "      <td>Samsung</td>\n",
              "      <td>Samsung Sm-G390F</td>\n",
              "      <td>NaN</td>\n",
              "      <td>NaN</td>\n",
              "      <td>NaN</td>\n",
              "      <td>NaN</td>\n",
              "      <td>NaN</td>\n",
              "      <td>NaN</td>\n",
              "      <td>607.0</td>\n",
              "      <td>604.0</td>\n",
              "      <td>8.626000e+05</td>\n",
              "      <td>50188.00000</td>\n",
              "      <td>6.248284e+06</td>\n",
              "      <td>1.500559e+06</td>\n",
              "      <td>1.936496e+06</td>\n",
              "      <td>173853.00000</td>\n",
              "      <td>1.525938e+07</td>\n",
              "      <td>1.896287e+07</td>\n",
              "      <td>1.712458e+07</td>\n",
              "      <td>4.152180e+05</td>\n",
              "      <td>5.277072e+08</td>\n",
              "      <td>3.529801e+06</td>\n",
              "      <td>5.507095e+08</td>\n",
              "      <td>1.391032e+07</td>\n",
              "      <td>38542814.0</td>\n",
              "      <td>569138589.0</td>\n",
              "    </tr>\n",
              "    <tr>\n",
              "      <th>...</th>\n",
              "      <td>...</td>\n",
              "      <td>...</td>\n",
              "      <td>...</td>\n",
              "      <td>...</td>\n",
              "      <td>...</td>\n",
              "      <td>...</td>\n",
              "      <td>...</td>\n",
              "      <td>...</td>\n",
              "      <td>...</td>\n",
              "      <td>...</td>\n",
              "      <td>...</td>\n",
              "      <td>...</td>\n",
              "      <td>...</td>\n",
              "      <td>...</td>\n",
              "      <td>...</td>\n",
              "      <td>...</td>\n",
              "      <td>...</td>\n",
              "      <td>...</td>\n",
              "      <td>...</td>\n",
              "      <td>...</td>\n",
              "      <td>...</td>\n",
              "      <td>...</td>\n",
              "      <td>...</td>\n",
              "      <td>...</td>\n",
              "      <td>...</td>\n",
              "      <td>...</td>\n",
              "      <td>...</td>\n",
              "      <td>...</td>\n",
              "      <td>...</td>\n",
              "      <td>...</td>\n",
              "      <td>...</td>\n",
              "      <td>...</td>\n",
              "      <td>...</td>\n",
              "      <td>...</td>\n",
              "      <td>...</td>\n",
              "      <td>...</td>\n",
              "      <td>...</td>\n",
              "      <td>...</td>\n",
              "      <td>...</td>\n",
              "      <td>...</td>\n",
              "      <td>...</td>\n",
              "      <td>...</td>\n",
              "      <td>...</td>\n",
              "      <td>...</td>\n",
              "      <td>...</td>\n",
              "      <td>...</td>\n",
              "      <td>...</td>\n",
              "      <td>...</td>\n",
              "      <td>...</td>\n",
              "      <td>...</td>\n",
              "      <td>...</td>\n",
              "      <td>...</td>\n",
              "      <td>...</td>\n",
              "      <td>...</td>\n",
              "      <td>...</td>\n",
              "    </tr>\n",
              "    <tr>\n",
              "      <th>149996</th>\n",
              "      <td>7277825670196679680</td>\n",
              "      <td>2019-04-29 07:28:42</td>\n",
              "      <td>451.0</td>\n",
              "      <td>2019-04-30 06:02:33</td>\n",
              "      <td>214.0</td>\n",
              "      <td>81230.0</td>\n",
              "      <td>2.082022e+14</td>\n",
              "      <td>3.365069e+10</td>\n",
              "      <td>3.548311e+13</td>\n",
              "      <td>D20434A</td>\n",
              "      <td>32.0</td>\n",
              "      <td>0.0</td>\n",
              "      <td>52.0</td>\n",
              "      <td>65.0</td>\n",
              "      <td>NaN</td>\n",
              "      <td>NaN</td>\n",
              "      <td>100.0</td>\n",
              "      <td>0.0</td>\n",
              "      <td>0.0</td>\n",
              "      <td>0.0</td>\n",
              "      <td>100.0</td>\n",
              "      <td>0.0</td>\n",
              "      <td>0.0</td>\n",
              "      <td>0.0</td>\n",
              "      <td>NaN</td>\n",
              "      <td>NaN</td>\n",
              "      <td>42376.0</td>\n",
              "      <td>41915.0</td>\n",
              "      <td>8.123076e+07</td>\n",
              "      <td>Apple</td>\n",
              "      <td>Apple iPhone 8 Plus (A1897)</td>\n",
              "      <td>NaN</td>\n",
              "      <td>NaN</td>\n",
              "      <td>NaN</td>\n",
              "      <td>NaN</td>\n",
              "      <td>NaN</td>\n",
              "      <td>NaN</td>\n",
              "      <td>223.0</td>\n",
              "      <td>229.0</td>\n",
              "      <td>3.464974e+06</td>\n",
              "      <td>52091.00000</td>\n",
              "      <td>9.967603e+06</td>\n",
              "      <td>2.817311e+06</td>\n",
              "      <td>5.763900e+04</td>\n",
              "      <td>633237.00000</td>\n",
              "      <td>1.619167e+07</td>\n",
              "      <td>1.176343e+07</td>\n",
              "      <td>1.788370e+07</td>\n",
              "      <td>1.967816e+07</td>\n",
              "      <td>5.266097e+08</td>\n",
              "      <td>9.197207e+06</td>\n",
              "      <td>3.264510e+06</td>\n",
              "      <td>1.348742e+07</td>\n",
              "      <td>57628851.0</td>\n",
              "      <td>574175259.0</td>\n",
              "    </tr>\n",
              "    <tr>\n",
              "      <th>149997</th>\n",
              "      <td>7349883264234609664</td>\n",
              "      <td>2019-04-29 07:28:42</td>\n",
              "      <td>483.0</td>\n",
              "      <td>2019-04-30 10:41:33</td>\n",
              "      <td>187.0</td>\n",
              "      <td>97970.0</td>\n",
              "      <td>2.082019e+14</td>\n",
              "      <td>3.366345e+10</td>\n",
              "      <td>3.566051e+13</td>\n",
              "      <td>D10223C</td>\n",
              "      <td>27.0</td>\n",
              "      <td>2.0</td>\n",
              "      <td>23.0</td>\n",
              "      <td>54.0</td>\n",
              "      <td>NaN</td>\n",
              "      <td>NaN</td>\n",
              "      <td>100.0</td>\n",
              "      <td>0.0</td>\n",
              "      <td>0.0</td>\n",
              "      <td>0.0</td>\n",
              "      <td>100.0</td>\n",
              "      <td>0.0</td>\n",
              "      <td>0.0</td>\n",
              "      <td>0.0</td>\n",
              "      <td>NaN</td>\n",
              "      <td>NaN</td>\n",
              "      <td>17264.0</td>\n",
              "      <td>16759.0</td>\n",
              "      <td>9.797070e+07</td>\n",
              "      <td>Apple</td>\n",
              "      <td>Apple iPhone Se (A1723)</td>\n",
              "      <td>NaN</td>\n",
              "      <td>NaN</td>\n",
              "      <td>NaN</td>\n",
              "      <td>NaN</td>\n",
              "      <td>NaN</td>\n",
              "      <td>NaN</td>\n",
              "      <td>105.0</td>\n",
              "      <td>102.0</td>\n",
              "      <td>2.344568e+06</td>\n",
              "      <td>7613.00000</td>\n",
              "      <td>2.229420e+06</td>\n",
              "      <td>2.185941e+06</td>\n",
              "      <td>1.954414e+06</td>\n",
              "      <td>167304.00000</td>\n",
              "      <td>1.387723e+07</td>\n",
              "      <td>8.288284e+06</td>\n",
              "      <td>1.935015e+07</td>\n",
              "      <td>2.129315e+07</td>\n",
              "      <td>6.268931e+08</td>\n",
              "      <td>4.735033e+06</td>\n",
              "      <td>7.121804e+08</td>\n",
              "      <td>2.457758e+06</td>\n",
              "      <td>39135081.0</td>\n",
              "      <td>666648844.0</td>\n",
              "    </tr>\n",
              "    <tr>\n",
              "      <th>149998</th>\n",
              "      <td>13114483573367300096</td>\n",
              "      <td>2019-04-29 07:28:43</td>\n",
              "      <td>283.0</td>\n",
              "      <td>2019-04-30 10:46:12</td>\n",
              "      <td>810.0</td>\n",
              "      <td>98249.0</td>\n",
              "      <td>2.082017e+14</td>\n",
              "      <td>3.362189e+10</td>\n",
              "      <td>3.572121e+13</td>\n",
              "      <td>T51102A</td>\n",
              "      <td>43.0</td>\n",
              "      <td>6.0</td>\n",
              "      <td>43.0</td>\n",
              "      <td>47.0</td>\n",
              "      <td>NaN</td>\n",
              "      <td>NaN</td>\n",
              "      <td>100.0</td>\n",
              "      <td>0.0</td>\n",
              "      <td>0.0</td>\n",
              "      <td>0.0</td>\n",
              "      <td>100.0</td>\n",
              "      <td>0.0</td>\n",
              "      <td>0.0</td>\n",
              "      <td>0.0</td>\n",
              "      <td>NaN</td>\n",
              "      <td>NaN</td>\n",
              "      <td>25003.0</td>\n",
              "      <td>28640.0</td>\n",
              "      <td>9.824953e+07</td>\n",
              "      <td>Apple</td>\n",
              "      <td>Apple iPhone Xs (A2097)</td>\n",
              "      <td>NaN</td>\n",
              "      <td>NaN</td>\n",
              "      <td>NaN</td>\n",
              "      <td>NaN</td>\n",
              "      <td>NaN</td>\n",
              "      <td>NaN</td>\n",
              "      <td>104.0</td>\n",
              "      <td>108.0</td>\n",
              "      <td>1.245845e+06</td>\n",
              "      <td>14394.00000</td>\n",
              "      <td>3.850890e+06</td>\n",
              "      <td>2.734579e+06</td>\n",
              "      <td>1.525734e+06</td>\n",
              "      <td>532543.00000</td>\n",
              "      <td>2.266051e+07</td>\n",
              "      <td>1.855903e+06</td>\n",
              "      <td>9.963942e+06</td>\n",
              "      <td>5.065760e+06</td>\n",
              "      <td>5.535395e+08</td>\n",
              "      <td>1.339432e+07</td>\n",
              "      <td>1.211009e+08</td>\n",
              "      <td>1.131473e+07</td>\n",
              "      <td>34912224.0</td>\n",
              "      <td>592786405.0</td>\n",
              "    </tr>\n",
              "    <tr>\n",
              "      <th>149999</th>\n",
              "      <td>13114483573367300096</td>\n",
              "      <td>2019-04-29 07:28:43</td>\n",
              "      <td>696.0</td>\n",
              "      <td>2019-04-30 10:40:34</td>\n",
              "      <td>327.0</td>\n",
              "      <td>97910.0</td>\n",
              "      <td>2.082021e+14</td>\n",
              "      <td>3.361962e+10</td>\n",
              "      <td>8.618620e+13</td>\n",
              "      <td>L88342B</td>\n",
              "      <td>37.0</td>\n",
              "      <td>5.0</td>\n",
              "      <td>34.0</td>\n",
              "      <td>37.0</td>\n",
              "      <td>NaN</td>\n",
              "      <td>NaN</td>\n",
              "      <td>100.0</td>\n",
              "      <td>0.0</td>\n",
              "      <td>0.0</td>\n",
              "      <td>0.0</td>\n",
              "      <td>100.0</td>\n",
              "      <td>0.0</td>\n",
              "      <td>0.0</td>\n",
              "      <td>0.0</td>\n",
              "      <td>NaN</td>\n",
              "      <td>NaN</td>\n",
              "      <td>13405.0</td>\n",
              "      <td>34088.0</td>\n",
              "      <td>9.791063e+07</td>\n",
              "      <td>Huawei</td>\n",
              "      <td>Huawei Fig-Lx1</td>\n",
              "      <td>NaN</td>\n",
              "      <td>NaN</td>\n",
              "      <td>NaN</td>\n",
              "      <td>NaN</td>\n",
              "      <td>NaN</td>\n",
              "      <td>NaN</td>\n",
              "      <td>43.0</td>\n",
              "      <td>82.0</td>\n",
              "      <td>8.015470e+05</td>\n",
              "      <td>21562.00000</td>\n",
              "      <td>4.189773e+06</td>\n",
              "      <td>3.567494e+06</td>\n",
              "      <td>2.228270e+06</td>\n",
              "      <td>622644.00000</td>\n",
              "      <td>8.817106e+06</td>\n",
              "      <td>8.305402e+06</td>\n",
              "      <td>3.322253e+06</td>\n",
              "      <td>1.317259e+07</td>\n",
              "      <td>3.525370e+08</td>\n",
              "      <td>2.529475e+06</td>\n",
              "      <td>8.147131e+08</td>\n",
              "      <td>1.406930e+06</td>\n",
              "      <td>29626096.0</td>\n",
              "      <td>371895920.0</td>\n",
              "    </tr>\n",
              "    <tr>\n",
              "      <th>150000</th>\n",
              "      <td></td>\n",
              "      <td>NaT</td>\n",
              "      <td>NaN</td>\n",
              "      <td>NaT</td>\n",
              "      <td>NaN</td>\n",
              "      <td>NaN</td>\n",
              "      <td>NaN</td>\n",
              "      <td>NaN</td>\n",
              "      <td>NaN</td>\n",
              "      <td>NaN</td>\n",
              "      <td>NaN</td>\n",
              "      <td>NaN</td>\n",
              "      <td>NaN</td>\n",
              "      <td>NaN</td>\n",
              "      <td>NaN</td>\n",
              "      <td>NaN</td>\n",
              "      <td>NaN</td>\n",
              "      <td>NaN</td>\n",
              "      <td>NaN</td>\n",
              "      <td>NaN</td>\n",
              "      <td>NaN</td>\n",
              "      <td>NaN</td>\n",
              "      <td>NaN</td>\n",
              "      <td>NaN</td>\n",
              "      <td>NaN</td>\n",
              "      <td>NaN</td>\n",
              "      <td>NaN</td>\n",
              "      <td>NaN</td>\n",
              "      <td>NaN</td>\n",
              "      <td>NaN</td>\n",
              "      <td>NaN</td>\n",
              "      <td>NaN</td>\n",
              "      <td>NaN</td>\n",
              "      <td>NaN</td>\n",
              "      <td>NaN</td>\n",
              "      <td>NaN</td>\n",
              "      <td>NaN</td>\n",
              "      <td>NaN</td>\n",
              "      <td>NaN</td>\n",
              "      <td>1.795322e+06</td>\n",
              "      <td>32928.43438</td>\n",
              "      <td>5.750753e+06</td>\n",
              "      <td>2.056542e+06</td>\n",
              "      <td>1.791729e+06</td>\n",
              "      <td>467373.44194</td>\n",
              "      <td>1.163407e+07</td>\n",
              "      <td>1.100941e+07</td>\n",
              "      <td>1.162685e+07</td>\n",
              "      <td>1.100175e+07</td>\n",
              "      <td>4.220447e+08</td>\n",
              "      <td>8.288398e+06</td>\n",
              "      <td>4.211005e+08</td>\n",
              "      <td>8.264799e+06</td>\n",
              "      <td>NaN</td>\n",
              "      <td>NaN</td>\n",
              "    </tr>\n",
              "  </tbody>\n",
              "</table>\n",
              "<p>150001 rows × 55 columns</p>\n",
              "</div>"
            ],
            "text/plain": [
              "                    BearerId               Start  ...  TotalULBytes TotalDLBytes\n",
              "0       13114483460844900352 2019-04-04 12:01:18  ...    36749741.0  308879636.0\n",
              "1       13114483482878900224 2019-04-09 13:04:04  ...    53800391.0  653384965.0\n",
              "2       13114483484080500736 2019-04-09 17:42:11  ...    27883638.0  279807335.0\n",
              "3       13114483485442799616 2019-04-10 00:31:25  ...    43324218.0  846028530.0\n",
              "4       13114483499480700928 2019-04-12 20:10:23  ...    38542814.0  569138589.0\n",
              "...                      ...                 ...  ...           ...          ...\n",
              "149996   7277825670196679680 2019-04-29 07:28:42  ...    57628851.0  574175259.0\n",
              "149997   7349883264234609664 2019-04-29 07:28:42  ...    39135081.0  666648844.0\n",
              "149998  13114483573367300096 2019-04-29 07:28:43  ...    34912224.0  592786405.0\n",
              "149999  13114483573367300096 2019-04-29 07:28:43  ...    29626096.0  371895920.0\n",
              "150000                                       NaT  ...           NaN          NaN\n",
              "\n",
              "[150001 rows x 55 columns]"
            ]
          },
          "metadata": {
            "tags": []
          },
          "execution_count": 113
        }
      ]
    },
    {
      "cell_type": "code",
      "metadata": {
        "id": "WwF_pR4vzVxz",
        "colab": {
          "base_uri": "https://localhost:8080/"
        },
        "outputId": "26349a8f-f78f-4c01-924b-2867724a6218"
      },
      "source": [
        "print(f'Handset Type: {df.HandsetType.count()}')\n",
        "print(f'Handset Type: {df.HandsetManufacturer.count()}')"
      ],
      "execution_count": 114,
      "outputs": [
        {
          "output_type": "stream",
          "text": [
            "Handset Type: 149429\n",
            "Handset Type: 149429\n"
          ],
          "name": "stdout"
        }
      ]
    },
    {
      "cell_type": "code",
      "metadata": {
        "id": "PmteTjDTEa_h",
        "colab": {
          "base_uri": "https://localhost:8080/"
        },
        "outputId": "719ad37e-10d0-40cf-b49b-2d4907ecdff0"
      },
      "source": [
        "print(f'Handset Type: {df.HandsetManufacturer.nunique()}')\n",
        "print(f'Handset Manufacturer: {df.HandsetManufacturer.nunique()}')"
      ],
      "execution_count": 115,
      "outputs": [
        {
          "output_type": "stream",
          "text": [
            "Handset Type: 170\n",
            "Handset Manufacturer: 170\n"
          ],
          "name": "stdout"
        }
      ]
    },
    {
      "cell_type": "code",
      "metadata": {
        "id": "e7OxeF_WEbWz",
        "colab": {
          "base_uri": "https://localhost:8080/"
        },
        "outputId": "89e674d8-69fc-4c63-875b-188dad6da54b"
      },
      "source": [
        "print(f'Handset Type: {df.HandsetType.dtype}')\n",
        "print(f'Handset Manufacturer: {df.HandsetManufacturer.dtype}')"
      ],
      "execution_count": 116,
      "outputs": [
        {
          "output_type": "stream",
          "text": [
            "Handset Type: object\n",
            "Handset Manufacturer: object\n"
          ],
          "name": "stdout"
        }
      ]
    },
    {
      "cell_type": "code",
      "metadata": {
        "id": "KT9Yvc_bEbZz",
        "colab": {
          "base_uri": "https://localhost:8080/"
        },
        "outputId": "4d145d33-a37c-4781-d461-9d802f07a9db"
      },
      "source": [
        "# Now which column(s) has missing values\n",
        "df.isna().sum()"
      ],
      "execution_count": 117,
      "outputs": [
        {
          "output_type": "execute_result",
          "data": {
            "text/plain": [
              "BearerId                                0\n",
              "Start                                   1\n",
              "Startms                                 1\n",
              "End                                     1\n",
              "Endms                                   1\n",
              "Dur.ms                                  1\n",
              "IMSI                                  570\n",
              "MSISDN/Number                        1066\n",
              "IMEI                                  572\n",
              "LastLocationName                     1153\n",
              "AvgRTTDLms                          27829\n",
              "AvgRTTULms                          27812\n",
              "AvgBearerTPDLkbps                       1\n",
              "AvgBearerTPULkbps                       1\n",
              "TCPDLRetrans.VolBytes               88146\n",
              "TCPULRetrans.VolBytes               96649\n",
              "DLTP<50Kbps%                          754\n",
              "50Kbps<DLTP<250Kbps%                  754\n",
              "250Kbps<DLTP<1Mbps%                   754\n",
              "DLTP>1Mbps%                           754\n",
              "ULTP<10Kbps%                          792\n",
              "10Kbps<ULTP<50Kbps%                   792\n",
              "50Kbps<ULTP<300Kbps%                  792\n",
              "ULTP>300Kbps%                         792\n",
              "HTTPDLBytes                         81474\n",
              "HTTPULBytes                         81810\n",
              "ActivityDurationDLms                    1\n",
              "ActivityDurationULms                    1\n",
              "Dur.ms.1                                1\n",
              "HandsetManufacturer                   572\n",
              "HandsetType                           572\n",
              "Nbofsecwith125000B<VolDL            97538\n",
              "Nbofsecwith1250B<VolUL<6250B        92894\n",
              "Nbofsecwith31250B<VolDL<125000B     93586\n",
              "Nbofsecwith37500B<VolUL            130254\n",
              "Nbofsecwith6250B<VolDL<31250B       88317\n",
              "Nbofsecwith6250B<VolUL<37500B      111843\n",
              "NbofsecwithVolDL<6250B                755\n",
              "NbofsecwithVolUL<1250B                793\n",
              "SocialMediaDLBytes                      0\n",
              "SocialMediaULBytes                      0\n",
              "GoogleDLBytes                           0\n",
              "GoogleULBytes                           0\n",
              "EmailDLBytes                            0\n",
              "EmailULBytes                            0\n",
              "YoutubeDLBytes                          0\n",
              "YoutubeULBytes                          0\n",
              "NetflixDLBytes                          0\n",
              "NetflixULBytes                          0\n",
              "GamingDLBytes                           0\n",
              "GamingULBytes                           0\n",
              "OtherDLBytes                            0\n",
              "OtherULBytes                            0\n",
              "TotalULBytes                            1\n",
              "TotalDLBytes                            1\n",
              "dtype: int64"
            ]
          },
          "metadata": {
            "tags": []
          },
          "execution_count": 117
        }
      ]
    },
    {
      "cell_type": "code",
      "metadata": {
        "id": "OpH2jQVBT3v1"
      },
      "source": [
        "\n",
        "\n"
      ],
      "execution_count": null,
      "outputs": []
    },
    {
      "cell_type": "code",
      "metadata": {
        "colab": {
          "base_uri": "https://localhost:8080/"
        },
        "id": "i-AcXmH86_wP",
        "outputId": "e860069e-dbf3-4b0a-9c82-5796438ebf0f"
      },
      "source": [
        "df_clean = df.drop(columns=['TCPDLRetrans.VolBytes', 'TCPULRetrans.VolBytes', 'HTTPDLBytes', 'HTTPULBytes', 'Nbofsecwith125000B<VolDL', 'Nbofsecwith1250B<VolUL<6250B', 'Nbofsecwith31250B<VolDL<125000B', 'Nbofsecwith37500B<VolUL', 'Nbofsecwith6250B<VolDL<31250B', 'Nbofsecwith6250B<VolUL<37500B'])\n",
        "df.info()\n",
        "df_clean.info()"
      ],
      "execution_count": 118,
      "outputs": [
        {
          "output_type": "stream",
          "text": [
            "<class 'pandas.core.frame.DataFrame'>\n",
            "RangeIndex: 150001 entries, 0 to 150000\n",
            "Data columns (total 55 columns):\n",
            " #   Column                           Non-Null Count   Dtype         \n",
            "---  ------                           --------------   -----         \n",
            " 0   BearerId                         150001 non-null  object        \n",
            " 1   Start                            150000 non-null  datetime64[ns]\n",
            " 2   Startms                          150000 non-null  float64       \n",
            " 3   End                              150000 non-null  datetime64[ns]\n",
            " 4   Endms                            150000 non-null  float64       \n",
            " 5   Dur.ms                           150000 non-null  float64       \n",
            " 6   IMSI                             149431 non-null  float64       \n",
            " 7   MSISDN/Number                    148935 non-null  float64       \n",
            " 8   IMEI                             149429 non-null  float64       \n",
            " 9   LastLocationName                 148848 non-null  object        \n",
            " 10  AvgRTTDLms                       122172 non-null  float64       \n",
            " 11  AvgRTTULms                       122189 non-null  float64       \n",
            " 12  AvgBearerTPDLkbps                150000 non-null  float64       \n",
            " 13  AvgBearerTPULkbps                150000 non-null  float64       \n",
            " 14  TCPDLRetrans.VolBytes            61855 non-null   float64       \n",
            " 15  TCPULRetrans.VolBytes            53352 non-null   float64       \n",
            " 16  DLTP<50Kbps%                     149247 non-null  float64       \n",
            " 17  50Kbps<DLTP<250Kbps%             149247 non-null  float64       \n",
            " 18  250Kbps<DLTP<1Mbps%              149247 non-null  float64       \n",
            " 19  DLTP>1Mbps%                      149247 non-null  float64       \n",
            " 20  ULTP<10Kbps%                     149209 non-null  float64       \n",
            " 21  10Kbps<ULTP<50Kbps%              149209 non-null  float64       \n",
            " 22  50Kbps<ULTP<300Kbps%             149209 non-null  float64       \n",
            " 23  ULTP>300Kbps%                    149209 non-null  float64       \n",
            " 24  HTTPDLBytes                      68527 non-null   float64       \n",
            " 25  HTTPULBytes                      68191 non-null   float64       \n",
            " 26  ActivityDurationDLms             150000 non-null  float64       \n",
            " 27  ActivityDurationULms             150000 non-null  float64       \n",
            " 28  Dur.ms.1                         150000 non-null  float64       \n",
            " 29  HandsetManufacturer              149429 non-null  object        \n",
            " 30  HandsetType                      149429 non-null  object        \n",
            " 31  Nbofsecwith125000B<VolDL         52463 non-null   float64       \n",
            " 32  Nbofsecwith1250B<VolUL<6250B     57107 non-null   float64       \n",
            " 33  Nbofsecwith31250B<VolDL<125000B  56415 non-null   float64       \n",
            " 34  Nbofsecwith37500B<VolUL          19747 non-null   float64       \n",
            " 35  Nbofsecwith6250B<VolDL<31250B    61684 non-null   float64       \n",
            " 36  Nbofsecwith6250B<VolUL<37500B    38158 non-null   float64       \n",
            " 37  NbofsecwithVolDL<6250B           149246 non-null  float64       \n",
            " 38  NbofsecwithVolUL<1250B           149208 non-null  float64       \n",
            " 39  SocialMediaDLBytes               150001 non-null  float64       \n",
            " 40  SocialMediaULBytes               150001 non-null  float64       \n",
            " 41  GoogleDLBytes                    150001 non-null  float64       \n",
            " 42  GoogleULBytes                    150001 non-null  float64       \n",
            " 43  EmailDLBytes                     150001 non-null  float64       \n",
            " 44  EmailULBytes                     150001 non-null  float64       \n",
            " 45  YoutubeDLBytes                   150001 non-null  float64       \n",
            " 46  YoutubeULBytes                   150001 non-null  float64       \n",
            " 47  NetflixDLBytes                   150001 non-null  float64       \n",
            " 48  NetflixULBytes                   150001 non-null  float64       \n",
            " 49  GamingDLBytes                    150001 non-null  float64       \n",
            " 50  GamingULBytes                    150001 non-null  float64       \n",
            " 51  OtherDLBytes                     150001 non-null  float64       \n",
            " 52  OtherULBytes                     150001 non-null  float64       \n",
            " 53  TotalULBytes                     150000 non-null  float64       \n",
            " 54  TotalDLBytes                     150000 non-null  float64       \n",
            "dtypes: datetime64[ns](2), float64(49), object(4)\n",
            "memory usage: 62.9+ MB\n",
            "<class 'pandas.core.frame.DataFrame'>\n",
            "RangeIndex: 150001 entries, 0 to 150000\n",
            "Data columns (total 45 columns):\n",
            " #   Column                  Non-Null Count   Dtype         \n",
            "---  ------                  --------------   -----         \n",
            " 0   BearerId                150001 non-null  object        \n",
            " 1   Start                   150000 non-null  datetime64[ns]\n",
            " 2   Startms                 150000 non-null  float64       \n",
            " 3   End                     150000 non-null  datetime64[ns]\n",
            " 4   Endms                   150000 non-null  float64       \n",
            " 5   Dur.ms                  150000 non-null  float64       \n",
            " 6   IMSI                    149431 non-null  float64       \n",
            " 7   MSISDN/Number           148935 non-null  float64       \n",
            " 8   IMEI                    149429 non-null  float64       \n",
            " 9   LastLocationName        148848 non-null  object        \n",
            " 10  AvgRTTDLms              122172 non-null  float64       \n",
            " 11  AvgRTTULms              122189 non-null  float64       \n",
            " 12  AvgBearerTPDLkbps       150000 non-null  float64       \n",
            " 13  AvgBearerTPULkbps       150000 non-null  float64       \n",
            " 14  DLTP<50Kbps%            149247 non-null  float64       \n",
            " 15  50Kbps<DLTP<250Kbps%    149247 non-null  float64       \n",
            " 16  250Kbps<DLTP<1Mbps%     149247 non-null  float64       \n",
            " 17  DLTP>1Mbps%             149247 non-null  float64       \n",
            " 18  ULTP<10Kbps%            149209 non-null  float64       \n",
            " 19  10Kbps<ULTP<50Kbps%     149209 non-null  float64       \n",
            " 20  50Kbps<ULTP<300Kbps%    149209 non-null  float64       \n",
            " 21  ULTP>300Kbps%           149209 non-null  float64       \n",
            " 22  ActivityDurationDLms    150000 non-null  float64       \n",
            " 23  ActivityDurationULms    150000 non-null  float64       \n",
            " 24  Dur.ms.1                150000 non-null  float64       \n",
            " 25  HandsetManufacturer     149429 non-null  object        \n",
            " 26  HandsetType             149429 non-null  object        \n",
            " 27  NbofsecwithVolDL<6250B  149246 non-null  float64       \n",
            " 28  NbofsecwithVolUL<1250B  149208 non-null  float64       \n",
            " 29  SocialMediaDLBytes      150001 non-null  float64       \n",
            " 30  SocialMediaULBytes      150001 non-null  float64       \n",
            " 31  GoogleDLBytes           150001 non-null  float64       \n",
            " 32  GoogleULBytes           150001 non-null  float64       \n",
            " 33  EmailDLBytes            150001 non-null  float64       \n",
            " 34  EmailULBytes            150001 non-null  float64       \n",
            " 35  YoutubeDLBytes          150001 non-null  float64       \n",
            " 36  YoutubeULBytes          150001 non-null  float64       \n",
            " 37  NetflixDLBytes          150001 non-null  float64       \n",
            " 38  NetflixULBytes          150001 non-null  float64       \n",
            " 39  GamingDLBytes           150001 non-null  float64       \n",
            " 40  GamingULBytes           150001 non-null  float64       \n",
            " 41  OtherDLBytes            150001 non-null  float64       \n",
            " 42  OtherULBytes            150001 non-null  float64       \n",
            " 43  TotalULBytes            150000 non-null  float64       \n",
            " 44  TotalDLBytes            150000 non-null  float64       \n",
            "dtypes: datetime64[ns](2), float64(39), object(4)\n",
            "memory usage: 51.5+ MB\n"
          ],
          "name": "stdout"
        }
      ]
    },
    {
      "cell_type": "code",
      "metadata": {
        "colab": {
          "base_uri": "https://localhost:8080/"
        },
        "id": "nj-fkTQYTpGy",
        "outputId": "6d1c8395-c8be-4e57-935c-a5b50b26d187"
      },
      "source": [
        "df_clean.shape"
      ],
      "execution_count": 119,
      "outputs": [
        {
          "output_type": "execute_result",
          "data": {
            "text/plain": [
              "(150001, 45)"
            ]
          },
          "metadata": {
            "tags": []
          },
          "execution_count": 119
        }
      ]
    },
    {
      "cell_type": "code",
      "metadata": {
        "id": "ASdCzf68Ebff"
      },
      "source": [
        "# fill missing with ffill method for columns (diag_1, diag_2, diag_3)\n",
        "\n",
        "def fix_missing_ffill(db, col):\n",
        "    db[col] = db[col].fillna(method='ffill')\n",
        "    return db[col]\n",
        "\n",
        "\n",
        "def fix_missing_bfill(db, col):\n",
        "    db[col] = db[col].fillna(method='bfill')\n",
        "    return db[col]\n",
        "\n",
        "df_clean['TotalULBytes'] = fix_missing_ffill(df_clean, 'TotalULBytes')\n",
        "df_clean['TotalDLBytes'] = fix_missing_ffill(df_clean, 'TotalDLBytes')\n",
        "df_clean['Start'] = fix_missing_ffill(df_clean, 'Start')\n",
        "df_clean['Startms'] = fix_missing_ffill(df_clean, 'Startms')\n",
        "df_clean['End'] = fix_missing_ffill(df_clean, 'End')\n",
        "df_clean['Endms'] = fix_missing_ffill(df_clean, 'Endms')\n",
        "df_clean['Dur.ms'] = fix_missing_ffill(df_clean, 'Dur.ms')\n",
        "df_clean['IMSI'] = fix_missing_ffill(df_clean, 'IMSI')\n",
        "df_clean['MSISDN/Number'] = fix_missing_ffill(df_clean, 'MSISDN/Number')\n",
        "df_clean['IMEI'] = fix_missing_ffill(df_clean, 'IMEI')\n",
        "df_clean['AvgRTTDLms'] = fix_missing_ffill(df_clean, 'AvgRTTDLms')\n",
        "df_clean['AvgRTTULms'] = fix_missing_ffill(df_clean, 'AvgRTTULms')\n",
        "df_clean['AvgBearerTPDLkbps'] = fix_missing_ffill(df_clean, 'AvgBearerTPDLkbps')\n",
        "df_clean['AvgBearerTPULkbps'] = fix_missing_ffill(df_clean, 'AvgBearerTPULkbps')\n",
        "df_clean['DLTP<50Kbps%'] = fix_missing_ffill(df_clean, 'DLTP<50Kbps%')\n",
        "df_clean['50Kbps<DLTP<250Kbps%'] = fix_missing_ffill(df_clean, '50Kbps<DLTP<250Kbps%')\n",
        "df_clean['250Kbps<DLTP<1Mbps%'] = fix_missing_ffill(df_clean, '250Kbps<DLTP<1Mbps%')\n",
        "df_clean['DLTP>1Mbps%'] = fix_missing_ffill(df_clean, 'DLTP>1Mbps%')\n",
        "df_clean['ULTP<10Kbps%'] = fix_missing_ffill(df_clean, 'ULTP<10Kbps%')\n",
        "df_clean['10Kbps<ULTP<50Kbps%'] = fix_missing_ffill(df_clean, '10Kbps<ULTP<50Kbps%')\n",
        "df_clean['50Kbps<ULTP<300Kbps%'] = fix_missing_ffill(df_clean, '50Kbps<ULTP<300Kbps%')\n",
        "df_clean['ULTP>300Kbps%'] = fix_missing_ffill(df_clean, 'ULTP>300Kbps%')\n",
        "df_clean['ActivityDurationDLms'] = fix_missing_ffill(df_clean, 'ActivityDurationDLms')\n",
        "df_clean['ActivityDurationULms'] = fix_missing_ffill(df_clean, 'ActivityDurationULms')\n",
        "df_clean['Dur.ms.1'] = fix_missing_ffill(df_clean, 'Dur.ms.1')\n",
        "df_clean['NbofsecwithVolDL<6250B'] = fix_missing_ffill(df_clean, 'NbofsecwithVolDL<6250B')\n",
        "df_clean['NbofsecwithVolUL<1250B'] = fix_missing_ffill(df_clean, 'NbofsecwithVolUL<1250B')\n",
        "\n",
        "# fill 'race' column with mode \n",
        "df_clean['HandsetType'] = df_clean['HandsetType'].fillna(df_clean['HandsetType'].mode()[0])\n",
        "df_clean['HandsetManufacturer'] = df_clean['HandsetManufacturer'].fillna(df_clean['HandsetManufacturer'].mode()[0])\n",
        "df_clean['LastLocationName'] = df_clean['LastLocationName'].fillna(df_clean['LastLocationName'].mode()[0])\n"
      ],
      "execution_count": null,
      "outputs": []
    },
    {
      "cell_type": "code",
      "metadata": {
        "colab": {
          "base_uri": "https://localhost:8080/"
        },
        "id": "0sd1_ajFNTrg",
        "outputId": "9ff1903f-3ee1-4818-94d4-bd9e1291fbbe"
      },
      "source": [
        "df_clean.isna().sum()"
      ],
      "execution_count": 120,
      "outputs": [
        {
          "output_type": "execute_result",
          "data": {
            "text/plain": [
              "BearerId                      0\n",
              "Start                         1\n",
              "Startms                       1\n",
              "End                           1\n",
              "Endms                         1\n",
              "Dur.ms                        1\n",
              "IMSI                        570\n",
              "MSISDN/Number              1066\n",
              "IMEI                        572\n",
              "LastLocationName           1153\n",
              "AvgRTTDLms                27829\n",
              "AvgRTTULms                27812\n",
              "AvgBearerTPDLkbps             1\n",
              "AvgBearerTPULkbps             1\n",
              "DLTP<50Kbps%                754\n",
              "50Kbps<DLTP<250Kbps%        754\n",
              "250Kbps<DLTP<1Mbps%         754\n",
              "DLTP>1Mbps%                 754\n",
              "ULTP<10Kbps%                792\n",
              "10Kbps<ULTP<50Kbps%         792\n",
              "50Kbps<ULTP<300Kbps%        792\n",
              "ULTP>300Kbps%               792\n",
              "ActivityDurationDLms          1\n",
              "ActivityDurationULms          1\n",
              "Dur.ms.1                      1\n",
              "HandsetManufacturer         572\n",
              "HandsetType                 572\n",
              "NbofsecwithVolDL<6250B      755\n",
              "NbofsecwithVolUL<1250B      793\n",
              "SocialMediaDLBytes            0\n",
              "SocialMediaULBytes            0\n",
              "GoogleDLBytes                 0\n",
              "GoogleULBytes                 0\n",
              "EmailDLBytes                  0\n",
              "EmailULBytes                  0\n",
              "YoutubeDLBytes                0\n",
              "YoutubeULBytes                0\n",
              "NetflixDLBytes                0\n",
              "NetflixULBytes                0\n",
              "GamingDLBytes                 0\n",
              "GamingULBytes                 0\n",
              "OtherDLBytes                  0\n",
              "OtherULBytes                  0\n",
              "TotalULBytes                  1\n",
              "TotalDLBytes                  1\n",
              "dtype: int64"
            ]
          },
          "metadata": {
            "tags": []
          },
          "execution_count": 120
        }
      ]
    },
    {
      "cell_type": "code",
      "metadata": {
        "id": "gTTl-Vt_Ebh1",
        "colab": {
          "base_uri": "https://localhost:8080/"
        },
        "outputId": "dc558d66-e523-4676-fa4b-6c84ca9ef1c6"
      },
      "source": [
        "print(df.TotalDLBytes.min())\n",
        "print(df.TotalULBytes.min())\n",
        "print(df.TotalDLBytes.quantile(.25))\n",
        "print(df.TotalULBytes.quantile(.25))\n",
        "print(df.TotalDLBytes.quantile(.50))\n",
        "print(df.TotalULBytes.quantile(.50))\n",
        "print(df.TotalDLBytes.quantile(.75))\n",
        "print(df.TotalULBytes.quantile(.75))\n",
        "print(df.TotalDLBytes.max())\n",
        "print(df.TotalDLBytes.max())\n",
        "print('\\n')\n",
        "print(df.TotalDLBytes.mean())\n",
        "print(df.TotalULBytes.median())\n",
        "print(df.TotalDLBytes.mode().values[0])"
      ],
      "execution_count": 121,
      "outputs": [
        {
          "output_type": "stream",
          "text": [
            "7114041.0\n",
            "2866892.0\n",
            "243106803.0\n",
            "33222010.5\n",
            "455841077.5\n",
            "41143312.0\n",
            "665705544.0\n",
            "49034238.5\n",
            "902969616.0\n",
            "902969616.0\n",
            "\n",
            "\n",
            "454643430.0789667\n",
            "41143312.0\n",
            "74126119.0\n"
          ],
          "name": "stdout"
        }
      ]
    },
    {
      "cell_type": "code",
      "metadata": {
        "id": "CzbEosm-EbkR",
        "colab": {
          "base_uri": "https://localhost:8080/"
        },
        "outputId": "ca204446-3749-4919-d4a3-d0d79532d355"
      },
      "source": [
        "print(df.TotalDLBytes.std())\n",
        "print(df.TotalULBytes.std())\n"
      ],
      "execution_count": 122,
      "outputs": [
        {
          "output_type": "stream",
          "text": [
            "244142874.37628293\n",
            "11276386.51468901\n"
          ],
          "name": "stdout"
        }
      ]
    },
    {
      "cell_type": "code",
      "metadata": {
        "id": "pf2L6YD2y5iT",
        "colab": {
          "base_uri": "https://localhost:8080/",
          "height": 203
        },
        "outputId": "bbfd643b-73ae-40be-da7e-7b15524870d8"
      },
      "source": [
        "import matplotlib.pyplot as plt\n",
        "import seaborn as sns\n",
        "from sklearn.preprocessing import MinMaxScaler\n",
        "\n",
        "minmax_scaler = MinMaxScaler()\n",
        "\n",
        "# generate 1000 data points randomly drawn from an exponential distribution\n",
        "original_data = pd.DataFrame(np.random.exponential(200, size=2000))\n",
        "\n",
        "original_data.sample(5)"
      ],
      "execution_count": 123,
      "outputs": [
        {
          "output_type": "execute_result",
          "data": {
            "text/html": [
              "<div>\n",
              "<style scoped>\n",
              "    .dataframe tbody tr th:only-of-type {\n",
              "        vertical-align: middle;\n",
              "    }\n",
              "\n",
              "    .dataframe tbody tr th {\n",
              "        vertical-align: top;\n",
              "    }\n",
              "\n",
              "    .dataframe thead th {\n",
              "        text-align: right;\n",
              "    }\n",
              "</style>\n",
              "<table border=\"1\" class=\"dataframe\">\n",
              "  <thead>\n",
              "    <tr style=\"text-align: right;\">\n",
              "      <th></th>\n",
              "      <th>0</th>\n",
              "    </tr>\n",
              "  </thead>\n",
              "  <tbody>\n",
              "    <tr>\n",
              "      <th>847</th>\n",
              "      <td>71.779726</td>\n",
              "    </tr>\n",
              "    <tr>\n",
              "      <th>1710</th>\n",
              "      <td>32.141869</td>\n",
              "    </tr>\n",
              "    <tr>\n",
              "      <th>1323</th>\n",
              "      <td>191.137853</td>\n",
              "    </tr>\n",
              "    <tr>\n",
              "      <th>1</th>\n",
              "      <td>67.171805</td>\n",
              "    </tr>\n",
              "    <tr>\n",
              "      <th>806</th>\n",
              "      <td>1103.239950</td>\n",
              "    </tr>\n",
              "  </tbody>\n",
              "</table>\n",
              "</div>"
            ],
            "text/plain": [
              "                0\n",
              "847     71.779726\n",
              "1710    32.141869\n",
              "1323   191.137853\n",
              "1       67.171805\n",
              "806   1103.239950"
            ]
          },
          "metadata": {
            "tags": []
          },
          "execution_count": 123
        }
      ]
    },
    {
      "cell_type": "markdown",
      "metadata": {
        "id": "nYRXlVuqBlAR"
      },
      "source": [
        "**Scaling and Normalization**"
      ]
    },
    {
      "cell_type": "code",
      "metadata": {
        "id": "XfI-7ez8y5ro",
        "colab": {
          "base_uri": "https://localhost:8080/"
        },
        "outputId": "92d73872-e88b-4db7-c32d-d8ba6a7a6b45"
      },
      "source": [
        "original_data[0].min(), original_data[0].max()"
      ],
      "execution_count": 124,
      "outputs": [
        {
          "output_type": "execute_result",
          "data": {
            "text/plain": [
              "(0.028068163158810156, 1914.9000591927795)"
            ]
          },
          "metadata": {
            "tags": []
          },
          "execution_count": 124
        }
      ]
    },
    {
      "cell_type": "code",
      "metadata": {
        "id": "H5idzKFMy5ur",
        "colab": {
          "base_uri": "https://localhost:8080/",
          "height": 265
        },
        "outputId": "faf18014-2394-4dbb-b547-109380237b90"
      },
      "source": [
        "count, bins, ignored = plt.hist(original_data, 14)\n",
        "plt.show()"
      ],
      "execution_count": 125,
      "outputs": [
        {
          "output_type": "display_data",
          "data": {
            "image/png": "[encoded data removed]",
            "text/plain": [
              "<Figure size 432x288 with 1 Axes>"
            ]
          },
          "metadata": {
            "tags": [],
            "needs_background": "light"
          }
        }
      ]
    },
    {
      "cell_type": "code",
      "metadata": {
        "id": "Cd1cY5Rcy50q",
        "colab": {
          "base_uri": "https://localhost:8080/",
          "height": 390
        },
        "outputId": "7e9fd00a-2b4d-48f2-bf2f-2a5157e49221"
      },
      "source": [
        "# mix-max scale the data between 0 and 1\n",
        "def scaler(df):\n",
        "    scaled_data = minmax_scaler.fit_transform(df)\n",
        "\n",
        "    # plot both together to compare\n",
        "    fig, ax = plt.subplots(1,2, figsize=(10, 6))\n",
        "    sns.histplot(original_data, ax=ax[0])\n",
        "    ax[0].set_title(\"Original Data\")\n",
        "    sns.histplot(scaled_data, ax=ax[1])\n",
        "    ax[1].set_title(\"Scaled data\")\n",
        "    \n",
        "scaler(original_data)"
      ],
      "execution_count": 126,
      "outputs": [
        {
          "output_type": "display_data",
          "data": {
            "image/png": "[encoded data removed]",
            "text/plain": [
              "<Figure size 720x432 with 2 Axes>"
            ]
          },
          "metadata": {
            "tags": [],
            "needs_background": "light"
          }
        }
      ]
    },
    {
      "cell_type": "code",
      "metadata": {
        "id": "8nBFv2-R9DE_",
        "colab": {
          "base_uri": "https://localhost:8080/",
          "height": 390
        },
        "outputId": "7b2691ac-1f43-44bf-b35d-a03d04184fd9"
      },
      "source": [
        "from sklearn.preprocessing import Normalizer\n",
        "\n",
        "def normalizer(df):\n",
        "    norm = Normalizer()\n",
        "    # normalize the exponential data with boxcox\n",
        "    normalized_data = norm.fit_transform(df)\n",
        "\n",
        "    # plot both together to compare\n",
        "    fig, ax=plt.subplots(1,2, figsize=(10, 6))\n",
        "    sns.histplot(df, ax=ax[0])\n",
        "    ax[0].set_title(\"Original Data\")\n",
        "    sns.histplot(normalized_data[0], ax=ax[1])\n",
        "    ax[1].set_title(\"Normalized data\")\n",
        "\n",
        "normalizer(original_data)"
      ],
      "execution_count": 127,
      "outputs": [
        {
          "output_type": "display_data",
          "data": {
            "image/png": "[encoded data removed]",
            "text/plain": [
              "<Figure size 720x432 with 2 Axes>"
            ]
          },
          "metadata": {
            "tags": [],
            "needs_background": "light"
          }
        }
      ]
    },
    {
      "cell_type": "code",
      "metadata": {
        "id": "bSxR4mdb-evj",
        "colab": {
          "base_uri": "https://localhost:8080/"
        },
        "outputId": "05251f7a-9d97-471c-8ed2-164d719dedc5"
      },
      "source": [
        "# check datatypes\n",
        "df_clean.info()"
      ],
      "execution_count": 128,
      "outputs": [
        {
          "output_type": "stream",
          "text": [
            "<class 'pandas.core.frame.DataFrame'>\n",
            "RangeIndex: 150001 entries, 0 to 150000\n",
            "Data columns (total 45 columns):\n",
            " #   Column                  Non-Null Count   Dtype         \n",
            "---  ------                  --------------   -----         \n",
            " 0   BearerId                150001 non-null  object        \n",
            " 1   Start                   150000 non-null  datetime64[ns]\n",
            " 2   Startms                 150000 non-null  float64       \n",
            " 3   End                     150000 non-null  datetime64[ns]\n",
            " 4   Endms                   150000 non-null  float64       \n",
            " 5   Dur.ms                  150000 non-null  float64       \n",
            " 6   IMSI                    149431 non-null  float64       \n",
            " 7   MSISDN/Number           148935 non-null  float64       \n",
            " 8   IMEI                    149429 non-null  float64       \n",
            " 9   LastLocationName        148848 non-null  object        \n",
            " 10  AvgRTTDLms              122172 non-null  float64       \n",
            " 11  AvgRTTULms              122189 non-null  float64       \n",
            " 12  AvgBearerTPDLkbps       150000 non-null  float64       \n",
            " 13  AvgBearerTPULkbps       150000 non-null  float64       \n",
            " 14  DLTP<50Kbps%            149247 non-null  float64       \n",
            " 15  50Kbps<DLTP<250Kbps%    149247 non-null  float64       \n",
            " 16  250Kbps<DLTP<1Mbps%     149247 non-null  float64       \n",
            " 17  DLTP>1Mbps%             149247 non-null  float64       \n",
            " 18  ULTP<10Kbps%            149209 non-null  float64       \n",
            " 19  10Kbps<ULTP<50Kbps%     149209 non-null  float64       \n",
            " 20  50Kbps<ULTP<300Kbps%    149209 non-null  float64       \n",
            " 21  ULTP>300Kbps%           149209 non-null  float64       \n",
            " 22  ActivityDurationDLms    150000 non-null  float64       \n",
            " 23  ActivityDurationULms    150000 non-null  float64       \n",
            " 24  Dur.ms.1                150000 non-null  float64       \n",
            " 25  HandsetManufacturer     149429 non-null  object        \n",
            " 26  HandsetType             149429 non-null  object        \n",
            " 27  NbofsecwithVolDL<6250B  149246 non-null  float64       \n",
            " 28  NbofsecwithVolUL<1250B  149208 non-null  float64       \n",
            " 29  SocialMediaDLBytes      150001 non-null  float64       \n",
            " 30  SocialMediaULBytes      150001 non-null  float64       \n",
            " 31  GoogleDLBytes           150001 non-null  float64       \n",
            " 32  GoogleULBytes           150001 non-null  float64       \n",
            " 33  EmailDLBytes            150001 non-null  float64       \n",
            " 34  EmailULBytes            150001 non-null  float64       \n",
            " 35  YoutubeDLBytes          150001 non-null  float64       \n",
            " 36  YoutubeULBytes          150001 non-null  float64       \n",
            " 37  NetflixDLBytes          150001 non-null  float64       \n",
            " 38  NetflixULBytes          150001 non-null  float64       \n",
            " 39  GamingDLBytes           150001 non-null  float64       \n",
            " 40  GamingULBytes           150001 non-null  float64       \n",
            " 41  OtherDLBytes            150001 non-null  float64       \n",
            " 42  OtherULBytes            150001 non-null  float64       \n",
            " 43  TotalULBytes            150000 non-null  float64       \n",
            " 44  TotalDLBytes            150000 non-null  float64       \n",
            "dtypes: datetime64[ns](2), float64(39), object(4)\n",
            "memory usage: 51.5+ MB\n"
          ],
          "name": "stdout"
        }
      ]
    },
    {
      "cell_type": "code",
      "metadata": {
        "id": "yg61wcLBBzGp"
      },
      "source": [
        ""
      ],
      "execution_count": 27,
      "outputs": []
    },
    {
      "cell_type": "code",
      "metadata": {
        "id": "h-yjxzkhQjTd",
        "colab": {
          "base_uri": "https://localhost:8080/"
        },
        "outputId": "a2f277d2-edf0-4942-8174-91ffad073e44"
      },
      "source": [
        "# Top 10 handsets used by the customers\n",
        "\n",
        "df_clean['HandsetType'].value_counts()[:10]"
      ],
      "execution_count": 129,
      "outputs": [
        {
          "output_type": "execute_result",
          "data": {
            "text/plain": [
              "Huawei B528S-23A                19752\n",
              "Apple iPhone 6S (A1688)          9419\n",
              "Apple iPhone 6 (A1586)           9023\n",
              "undefined                        8987\n",
              "Apple iPhone 7 (A1778)           6326\n",
              "Apple iPhone Se (A1723)          5187\n",
              "Apple iPhone 8 (A1905)           4993\n",
              "Apple iPhone Xr (A2105)          4568\n",
              "Samsung Galaxy S8 (Sm-G950F)     4520\n",
              "Apple iPhone X (A1901)           3813\n",
              "Name: HandsetType, dtype: int64"
            ]
          },
          "metadata": {
            "tags": []
          },
          "execution_count": 129
        }
      ]
    },
    {
      "cell_type": "code",
      "metadata": {
        "id": "q-nHtZklsqV_",
        "colab": {
          "base_uri": "https://localhost:8080/"
        },
        "outputId": "295ceacb-b223-401b-a01d-e00d835968fc"
      },
      "source": [
        "# Top 3 handset manufacturers\n",
        "df_clean['HandsetManufacturer'].value_counts()[:3]"
      ],
      "execution_count": 130,
      "outputs": [
        {
          "output_type": "execute_result",
          "data": {
            "text/plain": [
              "Apple      59565\n",
              "Samsung    40839\n",
              "Huawei     34423\n",
              "Name: HandsetManufacturer, dtype: int64"
            ]
          },
          "metadata": {
            "tags": []
          },
          "execution_count": 130
        }
      ]
    },
    {
      "cell_type": "code",
      "metadata": {
        "id": "vzRjOMPlKvKP",
        "colab": {
          "base_uri": "https://localhost:8080/"
        },
        "outputId": "baa14810-bf10-4cff-b938-cd488a3aaa0a"
      },
      "source": [
        "# Top 5 handsets per top 3 handset manufacturer\n",
        "Apple_Handsets = df_clean[df_clean['HandsetManufacturer'] == 'Apple']\n",
        "Apple_Handsets['HandsetType'].value_counts()[:5]"
      ],
      "execution_count": 131,
      "outputs": [
        {
          "output_type": "execute_result",
          "data": {
            "text/plain": [
              "Apple iPhone 6S (A1688)    9419\n",
              "Apple iPhone 6 (A1586)     9023\n",
              "Apple iPhone 7 (A1778)     6326\n",
              "Apple iPhone Se (A1723)    5187\n",
              "Apple iPhone 8 (A1905)     4993\n",
              "Name: HandsetType, dtype: int64"
            ]
          },
          "metadata": {
            "tags": []
          },
          "execution_count": 131
        }
      ]
    },
    {
      "cell_type": "code",
      "metadata": {
        "id": "sDc3j280Ku2h",
        "colab": {
          "base_uri": "https://localhost:8080/"
        },
        "outputId": "0f77f664-2308-4e7b-9c4e-9e96b984e376"
      },
      "source": [
        "Samsung_Handsets = df_clean[df_clean['HandsetManufacturer'] == 'Samsung']\n",
        "Samsung_Handsets['HandsetType'].value_counts()[:5]"
      ],
      "execution_count": 132,
      "outputs": [
        {
          "output_type": "execute_result",
          "data": {
            "text/plain": [
              "Samsung Galaxy S8 (Sm-G950F)    4520\n",
              "Samsung Galaxy A5 Sm-A520F      3724\n",
              "Samsung Galaxy J5 (Sm-J530)     3696\n",
              "Samsung Galaxy J3 (Sm-J330)     3484\n",
              "Samsung Galaxy S7 (Sm-G930X)    3199\n",
              "Name: HandsetType, dtype: int64"
            ]
          },
          "metadata": {
            "tags": []
          },
          "execution_count": 132
        }
      ]
    },
    {
      "cell_type": "code",
      "metadata": {
        "colab": {
          "base_uri": "https://localhost:8080/"
        },
        "id": "OH_LD3sxc-YS",
        "outputId": "f03c4ec2-aa60-4263-d2b3-6d1a2d9e081c"
      },
      "source": [
        "Huawei_handsets = df_clean[df_clean['HandsetManufacturer'] == 'Huawei']\n",
        "Huawei_handsets['HandsetType'].value_counts()[:5]"
      ],
      "execution_count": 133,
      "outputs": [
        {
          "output_type": "execute_result",
          "data": {
            "text/plain": [
              "Huawei B528S-23A                  19752\n",
              "Huawei E5180                       2079\n",
              "Huawei P20 Lite Huawei Nova 3E     2021\n",
              "Huawei P20                         1480\n",
              "Huawei Y6 2018                      997\n",
              "Name: HandsetType, dtype: int64"
            ]
          },
          "metadata": {
            "tags": []
          },
          "execution_count": 133
        }
      ]
    },
    {
      "cell_type": "markdown",
      "metadata": {
        "id": "62iAzyr2BC8m"
      },
      "source": [
        "**Number of xDR sessions**"
      ]
    },
    {
      "cell_type": "code",
      "metadata": {
        "colab": {
          "base_uri": "https://localhost:8080/",
          "height": 447
        },
        "id": "p43lN3qeek1_",
        "outputId": "5b5130c7-b1ed-41ae-fa19-03a8ff25bacc"
      },
      "source": [
        "sessions = df_clean[['MSISDN/Number','BearerId']]\n",
        "session_count = sessions.groupby(['MSISDN/Number']).count()\n",
        "session_count"
      ],
      "execution_count": 134,
      "outputs": [
        {
          "output_type": "execute_result",
          "data": {
            "text/html": [
              "<div>\n",
              "<style scoped>\n",
              "    .dataframe tbody tr th:only-of-type {\n",
              "        vertical-align: middle;\n",
              "    }\n",
              "\n",
              "    .dataframe tbody tr th {\n",
              "        vertical-align: top;\n",
              "    }\n",
              "\n",
              "    .dataframe thead th {\n",
              "        text-align: right;\n",
              "    }\n",
              "</style>\n",
              "<table border=\"1\" class=\"dataframe\">\n",
              "  <thead>\n",
              "    <tr style=\"text-align: right;\">\n",
              "      <th></th>\n",
              "      <th>BearerId</th>\n",
              "    </tr>\n",
              "    <tr>\n",
              "      <th>MSISDN/Number</th>\n",
              "      <th></th>\n",
              "    </tr>\n",
              "  </thead>\n",
              "  <tbody>\n",
              "    <tr>\n",
              "      <th>3.360100e+10</th>\n",
              "      <td>1</td>\n",
              "    </tr>\n",
              "    <tr>\n",
              "      <th>3.360100e+10</th>\n",
              "      <td>1</td>\n",
              "    </tr>\n",
              "    <tr>\n",
              "      <th>3.360100e+10</th>\n",
              "      <td>1</td>\n",
              "    </tr>\n",
              "    <tr>\n",
              "      <th>3.360101e+10</th>\n",
              "      <td>1</td>\n",
              "    </tr>\n",
              "    <tr>\n",
              "      <th>3.360101e+10</th>\n",
              "      <td>2</td>\n",
              "    </tr>\n",
              "    <tr>\n",
              "      <th>...</th>\n",
              "      <td>...</td>\n",
              "    </tr>\n",
              "    <tr>\n",
              "      <th>3.379000e+10</th>\n",
              "      <td>1</td>\n",
              "    </tr>\n",
              "    <tr>\n",
              "      <th>3.379000e+10</th>\n",
              "      <td>1</td>\n",
              "    </tr>\n",
              "    <tr>\n",
              "      <th>3.197021e+12</th>\n",
              "      <td>1</td>\n",
              "    </tr>\n",
              "    <tr>\n",
              "      <th>3.370000e+14</th>\n",
              "      <td>1</td>\n",
              "    </tr>\n",
              "    <tr>\n",
              "      <th>8.823971e+14</th>\n",
              "      <td>1</td>\n",
              "    </tr>\n",
              "  </tbody>\n",
              "</table>\n",
              "<p>106856 rows × 1 columns</p>\n",
              "</div>"
            ],
            "text/plain": [
              "               BearerId\n",
              "MSISDN/Number          \n",
              "3.360100e+10          1\n",
              "3.360100e+10          1\n",
              "3.360100e+10          1\n",
              "3.360101e+10          1\n",
              "3.360101e+10          2\n",
              "...                 ...\n",
              "3.379000e+10          1\n",
              "3.379000e+10          1\n",
              "3.197021e+12          1\n",
              "3.370000e+14          1\n",
              "8.823971e+14          1\n",
              "\n",
              "[106856 rows x 1 columns]"
            ]
          },
          "metadata": {
            "tags": []
          },
          "execution_count": 134
        }
      ]
    },
    {
      "cell_type": "code",
      "metadata": {
        "id": "Pdqt1i_dekt2",
        "colab": {
          "base_uri": "https://localhost:8080/",
          "height": 295
        },
        "outputId": "89930d61-51b1-4246-9473-905a807092a6"
      },
      "source": [
        "\n",
        "session_count.describe()"
      ],
      "execution_count": 135,
      "outputs": [
        {
          "output_type": "execute_result",
          "data": {
            "text/html": [
              "<div>\n",
              "<style scoped>\n",
              "    .dataframe tbody tr th:only-of-type {\n",
              "        vertical-align: middle;\n",
              "    }\n",
              "\n",
              "    .dataframe tbody tr th {\n",
              "        vertical-align: top;\n",
              "    }\n",
              "\n",
              "    .dataframe thead th {\n",
              "        text-align: right;\n",
              "    }\n",
              "</style>\n",
              "<table border=\"1\" class=\"dataframe\">\n",
              "  <thead>\n",
              "    <tr style=\"text-align: right;\">\n",
              "      <th></th>\n",
              "      <th>BearerId</th>\n",
              "    </tr>\n",
              "  </thead>\n",
              "  <tbody>\n",
              "    <tr>\n",
              "      <th>count</th>\n",
              "      <td>106856.000000</td>\n",
              "    </tr>\n",
              "    <tr>\n",
              "      <th>mean</th>\n",
              "      <td>1.393792</td>\n",
              "    </tr>\n",
              "    <tr>\n",
              "      <th>std</th>\n",
              "      <td>0.806022</td>\n",
              "    </tr>\n",
              "    <tr>\n",
              "      <th>min</th>\n",
              "      <td>1.000000</td>\n",
              "    </tr>\n",
              "    <tr>\n",
              "      <th>25%</th>\n",
              "      <td>1.000000</td>\n",
              "    </tr>\n",
              "    <tr>\n",
              "      <th>50%</th>\n",
              "      <td>1.000000</td>\n",
              "    </tr>\n",
              "    <tr>\n",
              "      <th>75%</th>\n",
              "      <td>2.000000</td>\n",
              "    </tr>\n",
              "    <tr>\n",
              "      <th>max</th>\n",
              "      <td>18.000000</td>\n",
              "    </tr>\n",
              "  </tbody>\n",
              "</table>\n",
              "</div>"
            ],
            "text/plain": [
              "            BearerId\n",
              "count  106856.000000\n",
              "mean        1.393792\n",
              "std         0.806022\n",
              "min         1.000000\n",
              "25%         1.000000\n",
              "50%         1.000000\n",
              "75%         2.000000\n",
              "max        18.000000"
            ]
          },
          "metadata": {
            "tags": []
          },
          "execution_count": 135
        }
      ]
    },
    {
      "cell_type": "code",
      "metadata": {
        "id": "n6cUpufIKuIH"
      },
      "source": [
        ""
      ],
      "execution_count": null,
      "outputs": []
    },
    {
      "cell_type": "markdown",
      "metadata": {
        "id": "lEKu4HVpK4NP"
      },
      "source": [
        "**Session** **Durantion**"
      ]
    },
    {
      "cell_type": "code",
      "metadata": {
        "colab": {
          "base_uri": "https://localhost:8080/"
        },
        "id": "p3_c0K98K9vb",
        "outputId": "93928461-1997-4ca4-8ca6-a2d106e43a9e"
      },
      "source": [
        "# Sessions Durathion\n",
        "session_duration = df_clean.groupby(['MSISDN/Number'])['Dur.ms'].sum()\n",
        "session_duration.head()"
      ],
      "execution_count": 136,
      "outputs": [
        {
          "output_type": "execute_result",
          "data": {
            "text/plain": [
              "MSISDN/Number\n",
              "3.360100e+10    116720.0\n",
              "3.360100e+10    181230.0\n",
              "3.360100e+10    134969.0\n",
              "3.360101e+10     49878.0\n",
              "3.360101e+10     37104.0\n",
              "Name: Dur.ms, dtype: float64"
            ]
          },
          "metadata": {
            "tags": []
          },
          "execution_count": 136
        }
      ]
    },
    {
      "cell_type": "markdown",
      "metadata": {
        "id": "Gy_DF8zkLRU5"
      },
      "source": [
        "**Total UL and DL data**"
      ]
    },
    {
      "cell_type": "code",
      "metadata": {
        "id": "rxBypV_reknJ",
        "colab": {
          "base_uri": "https://localhost:8080/",
          "height": 289
        },
        "outputId": "778a0214-6f24-4cb7-e74b-92ee8ac7e55a"
      },
      "source": [
        "# aggregate of the total download and upload data\n",
        "\n",
        "Total_UL_DL_data = df_clean.groupby('MSISDN/Number')['TotalULBytes', 'TotalDLBytes'].sum()\n",
        "\n",
        "Total_UL_DL_data.head()\n"
      ],
      "execution_count": 137,
      "outputs": [
        {
          "output_type": "stream",
          "text": [
            "/usr/local/lib/python3.7/dist-packages/ipykernel_launcher.py:3: FutureWarning: Indexing with multiple keys (implicitly converted to a tuple of keys) will be deprecated, use a list instead.\n",
            "  This is separate from the ipykernel package so we can avoid doing imports until\n"
          ],
          "name": "stderr"
        },
        {
          "output_type": "execute_result",
          "data": {
            "text/html": [
              "<div>\n",
              "<style scoped>\n",
              "    .dataframe tbody tr th:only-of-type {\n",
              "        vertical-align: middle;\n",
              "    }\n",
              "\n",
              "    .dataframe tbody tr th {\n",
              "        vertical-align: top;\n",
              "    }\n",
              "\n",
              "    .dataframe thead th {\n",
              "        text-align: right;\n",
              "    }\n",
              "</style>\n",
              "<table border=\"1\" class=\"dataframe\">\n",
              "  <thead>\n",
              "    <tr style=\"text-align: right;\">\n",
              "      <th></th>\n",
              "      <th>TotalULBytes</th>\n",
              "      <th>TotalDLBytes</th>\n",
              "    </tr>\n",
              "    <tr>\n",
              "      <th>MSISDN/Number</th>\n",
              "      <th></th>\n",
              "      <th></th>\n",
              "    </tr>\n",
              "  </thead>\n",
              "  <tbody>\n",
              "    <tr>\n",
              "      <th>3.360100e+10</th>\n",
              "      <td>36053108.0</td>\n",
              "      <td>8.426375e+08</td>\n",
              "    </tr>\n",
              "    <tr>\n",
              "      <th>3.360100e+10</th>\n",
              "      <td>36104459.0</td>\n",
              "      <td>1.207552e+08</td>\n",
              "    </tr>\n",
              "    <tr>\n",
              "      <th>3.360100e+10</th>\n",
              "      <td>39306820.0</td>\n",
              "      <td>5.566597e+08</td>\n",
              "    </tr>\n",
              "    <tr>\n",
              "      <th>3.360101e+10</th>\n",
              "      <td>20327526.0</td>\n",
              "      <td>4.019932e+08</td>\n",
              "    </tr>\n",
              "    <tr>\n",
              "      <th>3.360101e+10</th>\n",
              "      <td>94280527.0</td>\n",
              "      <td>1.363130e+09</td>\n",
              "    </tr>\n",
              "  </tbody>\n",
              "</table>\n",
              "</div>"
            ],
            "text/plain": [
              "               TotalULBytes  TotalDLBytes\n",
              "MSISDN/Number                            \n",
              "3.360100e+10     36053108.0  8.426375e+08\n",
              "3.360100e+10     36104459.0  1.207552e+08\n",
              "3.360100e+10     39306820.0  5.566597e+08\n",
              "3.360101e+10     20327526.0  4.019932e+08\n",
              "3.360101e+10     94280527.0  1.363130e+09"
            ]
          },
          "metadata": {
            "tags": []
          },
          "execution_count": 137
        }
      ]
    },
    {
      "cell_type": "code",
      "metadata": {
        "id": "BsLJ-oZBI8od"
      },
      "source": [
        ""
      ],
      "execution_count": null,
      "outputs": []
    },
    {
      "cell_type": "markdown",
      "metadata": {
        "id": "F-vdoxA8Mdxj"
      },
      "source": [
        "**Social Media Sessions**"
      ]
    },
    {
      "cell_type": "code",
      "metadata": {
        "id": "Gp5M8y6Jekfc",
        "colab": {
          "base_uri": "https://localhost:8080/",
          "height": 289
        },
        "outputId": "f31ab177-4d8a-42be-efc9-c866617a0ce2"
      },
      "source": [
        "# aggregate of social media sessions\n",
        "Total_Social_Media_data = df_clean.groupby(['MSISDN/Number'])['SocialMediaDLBytes', 'SocialMediaULBytes'].sum()\n",
        "Total_Social_Media_data.head()"
      ],
      "execution_count": 138,
      "outputs": [
        {
          "output_type": "stream",
          "text": [
            "/usr/local/lib/python3.7/dist-packages/ipykernel_launcher.py:2: FutureWarning: Indexing with multiple keys (implicitly converted to a tuple of keys) will be deprecated, use a list instead.\n",
            "  \n"
          ],
          "name": "stderr"
        },
        {
          "output_type": "execute_result",
          "data": {
            "text/html": [
              "<div>\n",
              "<style scoped>\n",
              "    .dataframe tbody tr th:only-of-type {\n",
              "        vertical-align: middle;\n",
              "    }\n",
              "\n",
              "    .dataframe tbody tr th {\n",
              "        vertical-align: top;\n",
              "    }\n",
              "\n",
              "    .dataframe thead th {\n",
              "        text-align: right;\n",
              "    }\n",
              "</style>\n",
              "<table border=\"1\" class=\"dataframe\">\n",
              "  <thead>\n",
              "    <tr style=\"text-align: right;\">\n",
              "      <th></th>\n",
              "      <th>SocialMediaDLBytes</th>\n",
              "      <th>SocialMediaULBytes</th>\n",
              "    </tr>\n",
              "    <tr>\n",
              "      <th>MSISDN/Number</th>\n",
              "      <th></th>\n",
              "      <th></th>\n",
              "    </tr>\n",
              "  </thead>\n",
              "  <tbody>\n",
              "    <tr>\n",
              "      <th>3.360100e+10</th>\n",
              "      <td>2206504.0</td>\n",
              "      <td>25631.0</td>\n",
              "    </tr>\n",
              "    <tr>\n",
              "      <th>3.360100e+10</th>\n",
              "      <td>2598548.0</td>\n",
              "      <td>62017.0</td>\n",
              "    </tr>\n",
              "    <tr>\n",
              "      <th>3.360100e+10</th>\n",
              "      <td>3148004.0</td>\n",
              "      <td>47619.0</td>\n",
              "    </tr>\n",
              "    <tr>\n",
              "      <th>3.360101e+10</th>\n",
              "      <td>251469.0</td>\n",
              "      <td>28825.0</td>\n",
              "    </tr>\n",
              "    <tr>\n",
              "      <th>3.360101e+10</th>\n",
              "      <td>2861230.0</td>\n",
              "      <td>51312.0</td>\n",
              "    </tr>\n",
              "  </tbody>\n",
              "</table>\n",
              "</div>"
            ],
            "text/plain": [
              "               SocialMediaDLBytes  SocialMediaULBytes\n",
              "MSISDN/Number                                        \n",
              "3.360100e+10            2206504.0             25631.0\n",
              "3.360100e+10            2598548.0             62017.0\n",
              "3.360100e+10            3148004.0             47619.0\n",
              "3.360101e+10             251469.0             28825.0\n",
              "3.360101e+10            2861230.0             51312.0"
            ]
          },
          "metadata": {
            "tags": []
          },
          "execution_count": 138
        }
      ]
    },
    {
      "cell_type": "code",
      "metadata": {
        "id": "eh01sl_sekNB"
      },
      "source": [
        ""
      ],
      "execution_count": null,
      "outputs": []
    },
    {
      "cell_type": "markdown",
      "metadata": {
        "id": "mqEMMWLANGZP"
      },
      "source": [
        "**Google sessions**"
      ]
    },
    {
      "cell_type": "code",
      "metadata": {
        "colab": {
          "base_uri": "https://localhost:8080/",
          "height": 289
        },
        "id": "d_L6R7smNOqB",
        "outputId": "f7fc91f0-1402-4944-a9a4-d4e5bf16cea1"
      },
      "source": [
        "# aggregate of google sessions\n",
        "Total_Google_data = df_clean.groupby(['MSISDN/Number'])['GoogleDLBytes', 'GoogleULBytes'].sum()\n",
        "Total_Google_data.head()"
      ],
      "execution_count": 139,
      "outputs": [
        {
          "output_type": "stream",
          "text": [
            "/usr/local/lib/python3.7/dist-packages/ipykernel_launcher.py:2: FutureWarning: Indexing with multiple keys (implicitly converted to a tuple of keys) will be deprecated, use a list instead.\n",
            "  \n"
          ],
          "name": "stderr"
        },
        {
          "output_type": "execute_result",
          "data": {
            "text/html": [
              "<div>\n",
              "<style scoped>\n",
              "    .dataframe tbody tr th:only-of-type {\n",
              "        vertical-align: middle;\n",
              "    }\n",
              "\n",
              "    .dataframe tbody tr th {\n",
              "        vertical-align: top;\n",
              "    }\n",
              "\n",
              "    .dataframe thead th {\n",
              "        text-align: right;\n",
              "    }\n",
              "</style>\n",
              "<table border=\"1\" class=\"dataframe\">\n",
              "  <thead>\n",
              "    <tr style=\"text-align: right;\">\n",
              "      <th></th>\n",
              "      <th>GoogleDLBytes</th>\n",
              "      <th>GoogleULBytes</th>\n",
              "    </tr>\n",
              "    <tr>\n",
              "      <th>MSISDN/Number</th>\n",
              "      <th></th>\n",
              "      <th></th>\n",
              "    </tr>\n",
              "  </thead>\n",
              "  <tbody>\n",
              "    <tr>\n",
              "      <th>3.360100e+10</th>\n",
              "      <td>3337123.0</td>\n",
              "      <td>1051882.0</td>\n",
              "    </tr>\n",
              "    <tr>\n",
              "      <th>3.360100e+10</th>\n",
              "      <td>4197697.0</td>\n",
              "      <td>1137166.0</td>\n",
              "    </tr>\n",
              "    <tr>\n",
              "      <th>3.360100e+10</th>\n",
              "      <td>3343483.0</td>\n",
              "      <td>99643.0</td>\n",
              "    </tr>\n",
              "    <tr>\n",
              "      <th>3.360101e+10</th>\n",
              "      <td>5937765.0</td>\n",
              "      <td>3740728.0</td>\n",
              "    </tr>\n",
              "    <tr>\n",
              "      <th>3.360101e+10</th>\n",
              "      <td>13728668.0</td>\n",
              "      <td>4770948.0</td>\n",
              "    </tr>\n",
              "  </tbody>\n",
              "</table>\n",
              "</div>"
            ],
            "text/plain": [
              "               GoogleDLBytes  GoogleULBytes\n",
              "MSISDN/Number                              \n",
              "3.360100e+10       3337123.0      1051882.0\n",
              "3.360100e+10       4197697.0      1137166.0\n",
              "3.360100e+10       3343483.0        99643.0\n",
              "3.360101e+10       5937765.0      3740728.0\n",
              "3.360101e+10      13728668.0      4770948.0"
            ]
          },
          "metadata": {
            "tags": []
          },
          "execution_count": 139
        }
      ]
    },
    {
      "cell_type": "markdown",
      "metadata": {
        "id": "sB_71XpMNmfx"
      },
      "source": [
        "**Email sessions**"
      ]
    },
    {
      "cell_type": "code",
      "metadata": {
        "colab": {
          "base_uri": "https://localhost:8080/",
          "height": 289
        },
        "id": "M1FvJfr_NkBj",
        "outputId": "3a0bee41-a6e8-4512-88a0-0f3a2ac8542a"
      },
      "source": [
        "# aggregate of email sessions\n",
        "Total_email_data = df_clean.groupby(['MSISDN/Number'])['EmailDLBytes', 'EmailULBytes'].sum()\n",
        "Total_email_data.head()"
      ],
      "execution_count": 140,
      "outputs": [
        {
          "output_type": "stream",
          "text": [
            "/usr/local/lib/python3.7/dist-packages/ipykernel_launcher.py:2: FutureWarning: Indexing with multiple keys (implicitly converted to a tuple of keys) will be deprecated, use a list instead.\n",
            "  \n"
          ],
          "name": "stderr"
        },
        {
          "output_type": "execute_result",
          "data": {
            "text/html": [
              "<div>\n",
              "<style scoped>\n",
              "    .dataframe tbody tr th:only-of-type {\n",
              "        vertical-align: middle;\n",
              "    }\n",
              "\n",
              "    .dataframe tbody tr th {\n",
              "        vertical-align: top;\n",
              "    }\n",
              "\n",
              "    .dataframe thead th {\n",
              "        text-align: right;\n",
              "    }\n",
              "</style>\n",
              "<table border=\"1\" class=\"dataframe\">\n",
              "  <thead>\n",
              "    <tr style=\"text-align: right;\">\n",
              "      <th></th>\n",
              "      <th>EmailDLBytes</th>\n",
              "      <th>EmailULBytes</th>\n",
              "    </tr>\n",
              "    <tr>\n",
              "      <th>MSISDN/Number</th>\n",
              "      <th></th>\n",
              "      <th></th>\n",
              "    </tr>\n",
              "  </thead>\n",
              "  <tbody>\n",
              "    <tr>\n",
              "      <th>3.360100e+10</th>\n",
              "      <td>837400.0</td>\n",
              "      <td>493962.0</td>\n",
              "    </tr>\n",
              "    <tr>\n",
              "      <th>3.360100e+10</th>\n",
              "      <td>2828821.0</td>\n",
              "      <td>478960.0</td>\n",
              "    </tr>\n",
              "    <tr>\n",
              "      <th>3.360100e+10</th>\n",
              "      <td>2436500.0</td>\n",
              "      <td>768880.0</td>\n",
              "    </tr>\n",
              "    <tr>\n",
              "      <th>3.360101e+10</th>\n",
              "      <td>2178618.0</td>\n",
              "      <td>106052.0</td>\n",
              "    </tr>\n",
              "    <tr>\n",
              "      <th>3.360101e+10</th>\n",
              "      <td>2247808.0</td>\n",
              "      <td>1057661.0</td>\n",
              "    </tr>\n",
              "  </tbody>\n",
              "</table>\n",
              "</div>"
            ],
            "text/plain": [
              "               EmailDLBytes  EmailULBytes\n",
              "MSISDN/Number                            \n",
              "3.360100e+10       837400.0      493962.0\n",
              "3.360100e+10      2828821.0      478960.0\n",
              "3.360100e+10      2436500.0      768880.0\n",
              "3.360101e+10      2178618.0      106052.0\n",
              "3.360101e+10      2247808.0     1057661.0"
            ]
          },
          "metadata": {
            "tags": []
          },
          "execution_count": 140
        }
      ]
    },
    {
      "cell_type": "markdown",
      "metadata": {
        "id": "c3HGDPErN7__"
      },
      "source": [
        "**Youtube sessions**"
      ]
    },
    {
      "cell_type": "code",
      "metadata": {
        "colab": {
          "base_uri": "https://localhost:8080/",
          "height": 289
        },
        "id": "SGQBLdnXN677",
        "outputId": "cd0fa2a1-6a6e-4567-d69b-117fc5990f41"
      },
      "source": [
        "# aggregate of youtube sessions\n",
        "Total_Youtube_data = df_clean.groupby(['MSISDN/Number'])['YoutubeDLBytes', 'YoutubeULBytes'].sum()\n",
        "Total_Youtube_data.head()"
      ],
      "execution_count": 141,
      "outputs": [
        {
          "output_type": "stream",
          "text": [
            "/usr/local/lib/python3.7/dist-packages/ipykernel_launcher.py:2: FutureWarning: Indexing with multiple keys (implicitly converted to a tuple of keys) will be deprecated, use a list instead.\n",
            "  \n"
          ],
          "name": "stderr"
        },
        {
          "output_type": "execute_result",
          "data": {
            "text/html": [
              "<div>\n",
              "<style scoped>\n",
              "    .dataframe tbody tr th:only-of-type {\n",
              "        vertical-align: middle;\n",
              "    }\n",
              "\n",
              "    .dataframe tbody tr th {\n",
              "        vertical-align: top;\n",
              "    }\n",
              "\n",
              "    .dataframe thead th {\n",
              "        text-align: right;\n",
              "    }\n",
              "</style>\n",
              "<table border=\"1\" class=\"dataframe\">\n",
              "  <thead>\n",
              "    <tr style=\"text-align: right;\">\n",
              "      <th></th>\n",
              "      <th>YoutubeDLBytes</th>\n",
              "      <th>YoutubeULBytes</th>\n",
              "    </tr>\n",
              "    <tr>\n",
              "      <th>MSISDN/Number</th>\n",
              "      <th></th>\n",
              "      <th></th>\n",
              "    </tr>\n",
              "  </thead>\n",
              "  <tbody>\n",
              "    <tr>\n",
              "      <th>3.360100e+10</th>\n",
              "      <td>14900201.0</td>\n",
              "      <td>6724347.0</td>\n",
              "    </tr>\n",
              "    <tr>\n",
              "      <th>3.360100e+10</th>\n",
              "      <td>5324251.0</td>\n",
              "      <td>7107972.0</td>\n",
              "    </tr>\n",
              "    <tr>\n",
              "      <th>3.360100e+10</th>\n",
              "      <td>2137272.0</td>\n",
              "      <td>19196298.0</td>\n",
              "    </tr>\n",
              "    <tr>\n",
              "      <th>3.360101e+10</th>\n",
              "      <td>4393123.0</td>\n",
              "      <td>2584198.0</td>\n",
              "    </tr>\n",
              "    <tr>\n",
              "      <th>3.360101e+10</th>\n",
              "      <td>10339971.0</td>\n",
              "      <td>31193031.0</td>\n",
              "    </tr>\n",
              "  </tbody>\n",
              "</table>\n",
              "</div>"
            ],
            "text/plain": [
              "               YoutubeDLBytes  YoutubeULBytes\n",
              "MSISDN/Number                                \n",
              "3.360100e+10       14900201.0       6724347.0\n",
              "3.360100e+10        5324251.0       7107972.0\n",
              "3.360100e+10        2137272.0      19196298.0\n",
              "3.360101e+10        4393123.0       2584198.0\n",
              "3.360101e+10       10339971.0      31193031.0"
            ]
          },
          "metadata": {
            "tags": []
          },
          "execution_count": 141
        }
      ]
    },
    {
      "cell_type": "markdown",
      "metadata": {
        "id": "7JfjvBObOSyw"
      },
      "source": [
        "**Netflix sessions**"
      ]
    },
    {
      "cell_type": "code",
      "metadata": {
        "colab": {
          "base_uri": "https://localhost:8080/",
          "height": 289
        },
        "id": "m5Gvv6g9OTJj",
        "outputId": "d7d97195-7bb7-4481-d537-db91f70244e7"
      },
      "source": [
        "# aggregate of netflix sessions\n",
        "Total_netflix_data = df_clean.groupby(['MSISDN/Number'])['NetflixDLBytes', 'NetflixULBytes'].sum()\n",
        "Total_netflix_data.head()"
      ],
      "execution_count": 142,
      "outputs": [
        {
          "output_type": "stream",
          "text": [
            "/usr/local/lib/python3.7/dist-packages/ipykernel_launcher.py:2: FutureWarning: Indexing with multiple keys (implicitly converted to a tuple of keys) will be deprecated, use a list instead.\n",
            "  \n"
          ],
          "name": "stderr"
        },
        {
          "output_type": "execute_result",
          "data": {
            "text/html": [
              "<div>\n",
              "<style scoped>\n",
              "    .dataframe tbody tr th:only-of-type {\n",
              "        vertical-align: middle;\n",
              "    }\n",
              "\n",
              "    .dataframe tbody tr th {\n",
              "        vertical-align: top;\n",
              "    }\n",
              "\n",
              "    .dataframe thead th {\n",
              "        text-align: right;\n",
              "    }\n",
              "</style>\n",
              "<table border=\"1\" class=\"dataframe\">\n",
              "  <thead>\n",
              "    <tr style=\"text-align: right;\">\n",
              "      <th></th>\n",
              "      <th>NetflixDLBytes</th>\n",
              "      <th>NetflixULBytes</th>\n",
              "    </tr>\n",
              "    <tr>\n",
              "      <th>MSISDN/Number</th>\n",
              "      <th></th>\n",
              "      <th></th>\n",
              "    </tr>\n",
              "  </thead>\n",
              "  <tbody>\n",
              "    <tr>\n",
              "      <th>3.360100e+10</th>\n",
              "      <td>10265105.0</td>\n",
              "      <td>16915876.0</td>\n",
              "    </tr>\n",
              "    <tr>\n",
              "      <th>3.360100e+10</th>\n",
              "      <td>770569.0</td>\n",
              "      <td>10451194.0</td>\n",
              "    </tr>\n",
              "    <tr>\n",
              "      <th>3.360100e+10</th>\n",
              "      <td>16525919.0</td>\n",
              "      <td>2827981.0</td>\n",
              "    </tr>\n",
              "    <tr>\n",
              "      <th>3.360101e+10</th>\n",
              "      <td>1157362.0</td>\n",
              "      <td>784730.0</td>\n",
              "    </tr>\n",
              "    <tr>\n",
              "      <th>3.360101e+10</th>\n",
              "      <td>24971647.0</td>\n",
              "      <td>24230077.0</td>\n",
              "    </tr>\n",
              "  </tbody>\n",
              "</table>\n",
              "</div>"
            ],
            "text/plain": [
              "               NetflixDLBytes  NetflixULBytes\n",
              "MSISDN/Number                                \n",
              "3.360100e+10       10265105.0      16915876.0\n",
              "3.360100e+10         770569.0      10451194.0\n",
              "3.360100e+10       16525919.0       2827981.0\n",
              "3.360101e+10        1157362.0        784730.0\n",
              "3.360101e+10       24971647.0      24230077.0"
            ]
          },
          "metadata": {
            "tags": []
          },
          "execution_count": 142
        }
      ]
    },
    {
      "cell_type": "markdown",
      "metadata": {
        "id": "eTrlpD1oOvz8"
      },
      "source": [
        "**Gaming sessions**"
      ]
    },
    {
      "cell_type": "code",
      "metadata": {
        "colab": {
          "base_uri": "https://localhost:8080/",
          "height": 289
        },
        "id": "1l-tVXRWOu92",
        "outputId": "b95c60cb-8cd1-4008-b3cb-1ca2d37f0765"
      },
      "source": [
        "# aggregate of Gaming sessions\n",
        "Total_Gaming_data = df_clean.groupby(['MSISDN/Number'])['GamingDLBytes', 'GamingULBytes'].sum()\n",
        "Total_Gaming_data.head()"
      ],
      "execution_count": 143,
      "outputs": [
        {
          "output_type": "stream",
          "text": [
            "/usr/local/lib/python3.7/dist-packages/ipykernel_launcher.py:2: FutureWarning: Indexing with multiple keys (implicitly converted to a tuple of keys) will be deprecated, use a list instead.\n",
            "  \n"
          ],
          "name": "stderr"
        },
        {
          "output_type": "execute_result",
          "data": {
            "text/html": [
              "<div>\n",
              "<style scoped>\n",
              "    .dataframe tbody tr th:only-of-type {\n",
              "        vertical-align: middle;\n",
              "    }\n",
              "\n",
              "    .dataframe tbody tr th {\n",
              "        vertical-align: top;\n",
              "    }\n",
              "\n",
              "    .dataframe thead th {\n",
              "        text-align: right;\n",
              "    }\n",
              "</style>\n",
              "<table border=\"1\" class=\"dataframe\">\n",
              "  <thead>\n",
              "    <tr style=\"text-align: right;\">\n",
              "      <th></th>\n",
              "      <th>GamingDLBytes</th>\n",
              "      <th>GamingULBytes</th>\n",
              "    </tr>\n",
              "    <tr>\n",
              "      <th>MSISDN/Number</th>\n",
              "      <th></th>\n",
              "      <th></th>\n",
              "    </tr>\n",
              "  </thead>\n",
              "  <tbody>\n",
              "    <tr>\n",
              "      <th>3.360100e+10</th>\n",
              "      <td>8.110911e+08</td>\n",
              "      <td>1367528.0</td>\n",
              "    </tr>\n",
              "    <tr>\n",
              "      <th>3.360100e+10</th>\n",
              "      <td>1.050353e+08</td>\n",
              "      <td>14714780.0</td>\n",
              "    </tr>\n",
              "    <tr>\n",
              "      <th>3.360100e+10</th>\n",
              "      <td>5.290685e+08</td>\n",
              "      <td>9759228.0</td>\n",
              "    </tr>\n",
              "    <tr>\n",
              "      <th>3.360101e+10</th>\n",
              "      <td>3.880748e+08</td>\n",
              "      <td>3051292.0</td>\n",
              "    </tr>\n",
              "    <tr>\n",
              "      <th>3.360101e+10</th>\n",
              "      <td>1.308981e+09</td>\n",
              "      <td>5816727.0</td>\n",
              "    </tr>\n",
              "  </tbody>\n",
              "</table>\n",
              "</div>"
            ],
            "text/plain": [
              "               GamingDLBytes  GamingULBytes\n",
              "MSISDN/Number                              \n",
              "3.360100e+10    8.110911e+08      1367528.0\n",
              "3.360100e+10    1.050353e+08     14714780.0\n",
              "3.360100e+10    5.290685e+08      9759228.0\n",
              "3.360101e+10    3.880748e+08      3051292.0\n",
              "3.360101e+10    1.308981e+09      5816727.0"
            ]
          },
          "metadata": {
            "tags": []
          },
          "execution_count": 143
        }
      ]
    },
    {
      "cell_type": "markdown",
      "metadata": {
        "id": "qq0ynvoMQGl4"
      },
      "source": [
        "**Other sessions**"
      ]
    },
    {
      "cell_type": "code",
      "metadata": {
        "colab": {
          "base_uri": "https://localhost:8080/",
          "height": 289
        },
        "id": "horjGvAhQJ0f",
        "outputId": "f1cebcec-ccd1-4699-a691-c3a509cc6490"
      },
      "source": [
        "\n",
        "#aggregate of other sessions\n",
        "Total_Other_data = df_clean.groupby(['MSISDN/Number'])['OtherDLBytes', 'OtherULBytes'].sum()\n",
        "Total_Other_data.head()"
      ],
      "execution_count": 144,
      "outputs": [
        {
          "output_type": "stream",
          "text": [
            "/usr/local/lib/python3.7/dist-packages/ipykernel_launcher.py:3: FutureWarning: Indexing with multiple keys (implicitly converted to a tuple of keys) will be deprecated, use a list instead.\n",
            "  This is separate from the ipykernel package so we can avoid doing imports until\n"
          ],
          "name": "stderr"
        },
        {
          "output_type": "execute_result",
          "data": {
            "text/html": [
              "<div>\n",
              "<style scoped>\n",
              "    .dataframe tbody tr th:only-of-type {\n",
              "        vertical-align: middle;\n",
              "    }\n",
              "\n",
              "    .dataframe tbody tr th {\n",
              "        vertical-align: top;\n",
              "    }\n",
              "\n",
              "    .dataframe thead th {\n",
              "        text-align: right;\n",
              "    }\n",
              "</style>\n",
              "<table border=\"1\" class=\"dataframe\">\n",
              "  <thead>\n",
              "    <tr style=\"text-align: right;\">\n",
              "      <th></th>\n",
              "      <th>OtherDLBytes</th>\n",
              "      <th>OtherULBytes</th>\n",
              "    </tr>\n",
              "    <tr>\n",
              "      <th>MSISDN/Number</th>\n",
              "      <th></th>\n",
              "      <th></th>\n",
              "    </tr>\n",
              "  </thead>\n",
              "  <tbody>\n",
              "    <tr>\n",
              "      <th>3.360100e+10</th>\n",
              "      <td>377096990.0</td>\n",
              "      <td>9473882.0</td>\n",
              "    </tr>\n",
              "    <tr>\n",
              "      <th>3.360100e+10</th>\n",
              "      <td>279557701.0</td>\n",
              "      <td>2152370.0</td>\n",
              "    </tr>\n",
              "    <tr>\n",
              "      <th>3.360100e+10</th>\n",
              "      <td>495086501.0</td>\n",
              "      <td>6607171.0</td>\n",
              "    </tr>\n",
              "    <tr>\n",
              "      <th>3.360101e+10</th>\n",
              "      <td>25248001.0</td>\n",
              "      <td>10031701.0</td>\n",
              "    </tr>\n",
              "    <tr>\n",
              "      <th>3.360101e+10</th>\n",
              "      <td>777643713.0</td>\n",
              "      <td>27160771.0</td>\n",
              "    </tr>\n",
              "  </tbody>\n",
              "</table>\n",
              "</div>"
            ],
            "text/plain": [
              "               OtherDLBytes  OtherULBytes\n",
              "MSISDN/Number                            \n",
              "3.360100e+10    377096990.0     9473882.0\n",
              "3.360100e+10    279557701.0     2152370.0\n",
              "3.360100e+10    495086501.0     6607171.0\n",
              "3.360101e+10     25248001.0    10031701.0\n",
              "3.360101e+10    777643713.0    27160771.0"
            ]
          },
          "metadata": {
            "tags": []
          },
          "execution_count": 144
        }
      ]
    },
    {
      "cell_type": "code",
      "metadata": {
        "colab": {
          "base_uri": "https://localhost:8080/",
          "height": 254
        },
        "id": "Qvw6E4OhUhsv",
        "outputId": "994a0de0-0dd9-43a4-c4ae-52db8c925381"
      },
      "source": [
        "df_agg = df_clean[['MSISDN/Number', 'Dur.ms',\n",
        "                'SocialMediaDLBytes','SocialMediaULBytes', 'GoogleDLBytes', \n",
        "                'GoogleULBytes', 'EmailDLBytes', 'EmailULBytes', 'YoutubeDLBytes', \n",
        "                'YoutubeULBytes', 'NetflixDLBytes', 'NetflixULBytes', 'GamingDLBytes', \n",
        "                'GamingULBytes', 'OtherDLBytes', 'OtherULBytes', 'TotalULBytes', 'TotalDLBytes']].groupby(['MSISDN/Number']).sum()\n",
        "df_agg.head()"
      ],
      "execution_count": 145,
      "outputs": [
        {
          "output_type": "execute_result",
          "data": {
            "text/html": [
              "<div>\n",
              "<style scoped>\n",
              "    .dataframe tbody tr th:only-of-type {\n",
              "        vertical-align: middle;\n",
              "    }\n",
              "\n",
              "    .dataframe tbody tr th {\n",
              "        vertical-align: top;\n",
              "    }\n",
              "\n",
              "    .dataframe thead th {\n",
              "        text-align: right;\n",
              "    }\n",
              "</style>\n",
              "<table border=\"1\" class=\"dataframe\">\n",
              "  <thead>\n",
              "    <tr style=\"text-align: right;\">\n",
              "      <th></th>\n",
              "      <th>Dur.ms</th>\n",
              "      <th>SocialMediaDLBytes</th>\n",
              "      <th>SocialMediaULBytes</th>\n",
              "      <th>GoogleDLBytes</th>\n",
              "      <th>GoogleULBytes</th>\n",
              "      <th>EmailDLBytes</th>\n",
              "      <th>EmailULBytes</th>\n",
              "      <th>YoutubeDLBytes</th>\n",
              "      <th>YoutubeULBytes</th>\n",
              "      <th>NetflixDLBytes</th>\n",
              "      <th>NetflixULBytes</th>\n",
              "      <th>GamingDLBytes</th>\n",
              "      <th>GamingULBytes</th>\n",
              "      <th>OtherDLBytes</th>\n",
              "      <th>OtherULBytes</th>\n",
              "      <th>TotalULBytes</th>\n",
              "      <th>TotalDLBytes</th>\n",
              "    </tr>\n",
              "    <tr>\n",
              "      <th>MSISDN/Number</th>\n",
              "      <th></th>\n",
              "      <th></th>\n",
              "      <th></th>\n",
              "      <th></th>\n",
              "      <th></th>\n",
              "      <th></th>\n",
              "      <th></th>\n",
              "      <th></th>\n",
              "      <th></th>\n",
              "      <th></th>\n",
              "      <th></th>\n",
              "      <th></th>\n",
              "      <th></th>\n",
              "      <th></th>\n",
              "      <th></th>\n",
              "      <th></th>\n",
              "      <th></th>\n",
              "    </tr>\n",
              "  </thead>\n",
              "  <tbody>\n",
              "    <tr>\n",
              "      <th>3.360100e+10</th>\n",
              "      <td>116720.0</td>\n",
              "      <td>2206504.0</td>\n",
              "      <td>25631.0</td>\n",
              "      <td>3337123.0</td>\n",
              "      <td>1051882.0</td>\n",
              "      <td>837400.0</td>\n",
              "      <td>493962.0</td>\n",
              "      <td>14900201.0</td>\n",
              "      <td>6724347.0</td>\n",
              "      <td>10265105.0</td>\n",
              "      <td>16915876.0</td>\n",
              "      <td>8.110911e+08</td>\n",
              "      <td>1367528.0</td>\n",
              "      <td>377096990.0</td>\n",
              "      <td>9473882.0</td>\n",
              "      <td>36053108.0</td>\n",
              "      <td>8.426375e+08</td>\n",
              "    </tr>\n",
              "    <tr>\n",
              "      <th>3.360100e+10</th>\n",
              "      <td>181230.0</td>\n",
              "      <td>2598548.0</td>\n",
              "      <td>62017.0</td>\n",
              "      <td>4197697.0</td>\n",
              "      <td>1137166.0</td>\n",
              "      <td>2828821.0</td>\n",
              "      <td>478960.0</td>\n",
              "      <td>5324251.0</td>\n",
              "      <td>7107972.0</td>\n",
              "      <td>770569.0</td>\n",
              "      <td>10451194.0</td>\n",
              "      <td>1.050353e+08</td>\n",
              "      <td>14714780.0</td>\n",
              "      <td>279557701.0</td>\n",
              "      <td>2152370.0</td>\n",
              "      <td>36104459.0</td>\n",
              "      <td>1.207552e+08</td>\n",
              "    </tr>\n",
              "    <tr>\n",
              "      <th>3.360100e+10</th>\n",
              "      <td>134969.0</td>\n",
              "      <td>3148004.0</td>\n",
              "      <td>47619.0</td>\n",
              "      <td>3343483.0</td>\n",
              "      <td>99643.0</td>\n",
              "      <td>2436500.0</td>\n",
              "      <td>768880.0</td>\n",
              "      <td>2137272.0</td>\n",
              "      <td>19196298.0</td>\n",
              "      <td>16525919.0</td>\n",
              "      <td>2827981.0</td>\n",
              "      <td>5.290685e+08</td>\n",
              "      <td>9759228.0</td>\n",
              "      <td>495086501.0</td>\n",
              "      <td>6607171.0</td>\n",
              "      <td>39306820.0</td>\n",
              "      <td>5.566597e+08</td>\n",
              "    </tr>\n",
              "    <tr>\n",
              "      <th>3.360101e+10</th>\n",
              "      <td>49878.0</td>\n",
              "      <td>251469.0</td>\n",
              "      <td>28825.0</td>\n",
              "      <td>5937765.0</td>\n",
              "      <td>3740728.0</td>\n",
              "      <td>2178618.0</td>\n",
              "      <td>106052.0</td>\n",
              "      <td>4393123.0</td>\n",
              "      <td>2584198.0</td>\n",
              "      <td>1157362.0</td>\n",
              "      <td>784730.0</td>\n",
              "      <td>3.880748e+08</td>\n",
              "      <td>3051292.0</td>\n",
              "      <td>25248001.0</td>\n",
              "      <td>10031701.0</td>\n",
              "      <td>20327526.0</td>\n",
              "      <td>4.019932e+08</td>\n",
              "    </tr>\n",
              "    <tr>\n",
              "      <th>3.360101e+10</th>\n",
              "      <td>37104.0</td>\n",
              "      <td>2861230.0</td>\n",
              "      <td>51312.0</td>\n",
              "      <td>13728668.0</td>\n",
              "      <td>4770948.0</td>\n",
              "      <td>2247808.0</td>\n",
              "      <td>1057661.0</td>\n",
              "      <td>10339971.0</td>\n",
              "      <td>31193031.0</td>\n",
              "      <td>24971647.0</td>\n",
              "      <td>24230077.0</td>\n",
              "      <td>1.308981e+09</td>\n",
              "      <td>5816727.0</td>\n",
              "      <td>777643713.0</td>\n",
              "      <td>27160771.0</td>\n",
              "      <td>94280527.0</td>\n",
              "      <td>1.363130e+09</td>\n",
              "    </tr>\n",
              "  </tbody>\n",
              "</table>\n",
              "</div>"
            ],
            "text/plain": [
              "                 Dur.ms  SocialMediaDLBytes  ...  TotalULBytes  TotalDLBytes\n",
              "MSISDN/Number                                ...                            \n",
              "3.360100e+10   116720.0           2206504.0  ...    36053108.0  8.426375e+08\n",
              "3.360100e+10   181230.0           2598548.0  ...    36104459.0  1.207552e+08\n",
              "3.360100e+10   134969.0           3148004.0  ...    39306820.0  5.566597e+08\n",
              "3.360101e+10    49878.0            251469.0  ...    20327526.0  4.019932e+08\n",
              "3.360101e+10    37104.0           2861230.0  ...    94280527.0  1.363130e+09\n",
              "\n",
              "[5 rows x 17 columns]"
            ]
          },
          "metadata": {
            "tags": []
          },
          "execution_count": 145
        }
      ]
    },
    {
      "cell_type": "code",
      "metadata": {
        "colab": {
          "base_uri": "https://localhost:8080/",
          "height": 739
        },
        "id": "aeP4fkd63vnH",
        "outputId": "a1acac79-322c-4068-dccb-c95c4d792273"
      },
      "source": [
        "df_clean"
      ],
      "execution_count": 148,
      "outputs": [
        {
          "output_type": "execute_result",
          "data": {
            "text/html": [
              "<div>\n",
              "<style scoped>\n",
              "    .dataframe tbody tr th:only-of-type {\n",
              "        vertical-align: middle;\n",
              "    }\n",
              "\n",
              "    .dataframe tbody tr th {\n",
              "        vertical-align: top;\n",
              "    }\n",
              "\n",
              "    .dataframe thead th {\n",
              "        text-align: right;\n",
              "    }\n",
              "</style>\n",
              "<table border=\"1\" class=\"dataframe\">\n",
              "  <thead>\n",
              "    <tr style=\"text-align: right;\">\n",
              "      <th></th>\n",
              "      <th>BearerId</th>\n",
              "      <th>Start</th>\n",
              "      <th>Startms</th>\n",
              "      <th>End</th>\n",
              "      <th>Endms</th>\n",
              "      <th>Dur.ms</th>\n",
              "      <th>IMSI</th>\n",
              "      <th>MSISDN/Number</th>\n",
              "      <th>IMEI</th>\n",
              "      <th>LastLocationName</th>\n",
              "      <th>AvgRTTDLms</th>\n",
              "      <th>AvgRTTULms</th>\n",
              "      <th>AvgBearerTPDLkbps</th>\n",
              "      <th>AvgBearerTPULkbps</th>\n",
              "      <th>DLTP&lt;50Kbps%</th>\n",
              "      <th>50Kbps&lt;DLTP&lt;250Kbps%</th>\n",
              "      <th>250Kbps&lt;DLTP&lt;1Mbps%</th>\n",
              "      <th>DLTP&gt;1Mbps%</th>\n",
              "      <th>ULTP&lt;10Kbps%</th>\n",
              "      <th>10Kbps&lt;ULTP&lt;50Kbps%</th>\n",
              "      <th>50Kbps&lt;ULTP&lt;300Kbps%</th>\n",
              "      <th>ULTP&gt;300Kbps%</th>\n",
              "      <th>ActivityDurationDLms</th>\n",
              "      <th>ActivityDurationULms</th>\n",
              "      <th>Dur.ms.1</th>\n",
              "      <th>HandsetManufacturer</th>\n",
              "      <th>HandsetType</th>\n",
              "      <th>NbofsecwithVolDL&lt;6250B</th>\n",
              "      <th>NbofsecwithVolUL&lt;1250B</th>\n",
              "      <th>SocialMediaDLBytes</th>\n",
              "      <th>SocialMediaULBytes</th>\n",
              "      <th>GoogleDLBytes</th>\n",
              "      <th>GoogleULBytes</th>\n",
              "      <th>EmailDLBytes</th>\n",
              "      <th>EmailULBytes</th>\n",
              "      <th>YoutubeDLBytes</th>\n",
              "      <th>YoutubeULBytes</th>\n",
              "      <th>NetflixDLBytes</th>\n",
              "      <th>NetflixULBytes</th>\n",
              "      <th>GamingDLBytes</th>\n",
              "      <th>GamingULBytes</th>\n",
              "      <th>OtherDLBytes</th>\n",
              "      <th>OtherULBytes</th>\n",
              "      <th>TotalULBytes</th>\n",
              "      <th>TotalDLBytes</th>\n",
              "    </tr>\n",
              "  </thead>\n",
              "  <tbody>\n",
              "    <tr>\n",
              "      <th>0</th>\n",
              "      <td>13114483460844900352</td>\n",
              "      <td>2019-04-04 12:01:18</td>\n",
              "      <td>770.0</td>\n",
              "      <td>2019-04-25 14:35:31</td>\n",
              "      <td>662.0</td>\n",
              "      <td>1823652.0</td>\n",
              "      <td>2.082014e+14</td>\n",
              "      <td>3.366496e+10</td>\n",
              "      <td>3.552121e+13</td>\n",
              "      <td>9164566995485190</td>\n",
              "      <td>42.0</td>\n",
              "      <td>5.0</td>\n",
              "      <td>23.0</td>\n",
              "      <td>44.0</td>\n",
              "      <td>100.0</td>\n",
              "      <td>0.0</td>\n",
              "      <td>0.0</td>\n",
              "      <td>0.0</td>\n",
              "      <td>100.0</td>\n",
              "      <td>0.0</td>\n",
              "      <td>0.0</td>\n",
              "      <td>0.0</td>\n",
              "      <td>37624.0</td>\n",
              "      <td>38787.0</td>\n",
              "      <td>1.823653e+09</td>\n",
              "      <td>Samsung</td>\n",
              "      <td>Samsung Galaxy A5 Sm-A520F</td>\n",
              "      <td>213.0</td>\n",
              "      <td>214.0</td>\n",
              "      <td>1.545765e+06</td>\n",
              "      <td>24420.00000</td>\n",
              "      <td>1.634479e+06</td>\n",
              "      <td>1.271433e+06</td>\n",
              "      <td>3.563542e+06</td>\n",
              "      <td>137762.00000</td>\n",
              "      <td>1.585461e+07</td>\n",
              "      <td>2.501332e+06</td>\n",
              "      <td>8.198936e+06</td>\n",
              "      <td>9.656251e+06</td>\n",
              "      <td>2.780823e+08</td>\n",
              "      <td>1.434415e+07</td>\n",
              "      <td>1.717444e+08</td>\n",
              "      <td>8.814393e+06</td>\n",
              "      <td>36749741.0</td>\n",
              "      <td>308879636.0</td>\n",
              "    </tr>\n",
              "    <tr>\n",
              "      <th>1</th>\n",
              "      <td>13114483482878900224</td>\n",
              "      <td>2019-04-09 13:04:04</td>\n",
              "      <td>235.0</td>\n",
              "      <td>2019-04-25 08:15:48</td>\n",
              "      <td>606.0</td>\n",
              "      <td>1365104.0</td>\n",
              "      <td>2.082019e+14</td>\n",
              "      <td>3.368185e+10</td>\n",
              "      <td>3.579401e+13</td>\n",
              "      <td>L77566A</td>\n",
              "      <td>65.0</td>\n",
              "      <td>5.0</td>\n",
              "      <td>16.0</td>\n",
              "      <td>26.0</td>\n",
              "      <td>100.0</td>\n",
              "      <td>0.0</td>\n",
              "      <td>0.0</td>\n",
              "      <td>0.0</td>\n",
              "      <td>100.0</td>\n",
              "      <td>0.0</td>\n",
              "      <td>0.0</td>\n",
              "      <td>0.0</td>\n",
              "      <td>168.0</td>\n",
              "      <td>3560.0</td>\n",
              "      <td>1.365104e+09</td>\n",
              "      <td>Samsung</td>\n",
              "      <td>Samsung Galaxy J5 (Sm-J530)</td>\n",
              "      <td>971.0</td>\n",
              "      <td>1022.0</td>\n",
              "      <td>1.926113e+06</td>\n",
              "      <td>7165.00000</td>\n",
              "      <td>3.493924e+06</td>\n",
              "      <td>9.201720e+05</td>\n",
              "      <td>6.290460e+05</td>\n",
              "      <td>308339.00000</td>\n",
              "      <td>2.024740e+07</td>\n",
              "      <td>1.911173e+07</td>\n",
              "      <td>1.833841e+07</td>\n",
              "      <td>1.722713e+07</td>\n",
              "      <td>6.087501e+08</td>\n",
              "      <td>1.170709e+06</td>\n",
              "      <td>5.269042e+08</td>\n",
              "      <td>1.505514e+07</td>\n",
              "      <td>53800391.0</td>\n",
              "      <td>653384965.0</td>\n",
              "    </tr>\n",
              "    <tr>\n",
              "      <th>2</th>\n",
              "      <td>13114483484080500736</td>\n",
              "      <td>2019-04-09 17:42:11</td>\n",
              "      <td>1.0</td>\n",
              "      <td>2019-04-25 11:58:13</td>\n",
              "      <td>652.0</td>\n",
              "      <td>1361762.0</td>\n",
              "      <td>2.082003e+14</td>\n",
              "      <td>3.376063e+10</td>\n",
              "      <td>3.528151e+13</td>\n",
              "      <td>D42335A</td>\n",
              "      <td>NaN</td>\n",
              "      <td>NaN</td>\n",
              "      <td>6.0</td>\n",
              "      <td>9.0</td>\n",
              "      <td>100.0</td>\n",
              "      <td>0.0</td>\n",
              "      <td>0.0</td>\n",
              "      <td>0.0</td>\n",
              "      <td>100.0</td>\n",
              "      <td>0.0</td>\n",
              "      <td>0.0</td>\n",
              "      <td>0.0</td>\n",
              "      <td>0.0</td>\n",
              "      <td>0.0</td>\n",
              "      <td>1.361763e+09</td>\n",
              "      <td>Samsung</td>\n",
              "      <td>Samsung Galaxy A8 (2018)</td>\n",
              "      <td>751.0</td>\n",
              "      <td>695.0</td>\n",
              "      <td>1.684053e+06</td>\n",
              "      <td>42224.00000</td>\n",
              "      <td>8.535055e+06</td>\n",
              "      <td>1.694064e+06</td>\n",
              "      <td>2.690151e+06</td>\n",
              "      <td>672973.00000</td>\n",
              "      <td>1.972566e+07</td>\n",
              "      <td>1.469958e+07</td>\n",
              "      <td>1.758779e+07</td>\n",
              "      <td>6.163408e+06</td>\n",
              "      <td>2.295846e+08</td>\n",
              "      <td>3.956300e+05</td>\n",
              "      <td>4.106926e+08</td>\n",
              "      <td>4.215763e+06</td>\n",
              "      <td>27883638.0</td>\n",
              "      <td>279807335.0</td>\n",
              "    </tr>\n",
              "    <tr>\n",
              "      <th>3</th>\n",
              "      <td>13114483485442799616</td>\n",
              "      <td>2019-04-10 00:31:25</td>\n",
              "      <td>486.0</td>\n",
              "      <td>2019-04-25 07:36:35</td>\n",
              "      <td>171.0</td>\n",
              "      <td>1321509.0</td>\n",
              "      <td>2.082014e+14</td>\n",
              "      <td>3.375034e+10</td>\n",
              "      <td>3.535661e+13</td>\n",
              "      <td>T21824A</td>\n",
              "      <td>NaN</td>\n",
              "      <td>NaN</td>\n",
              "      <td>44.0</td>\n",
              "      <td>44.0</td>\n",
              "      <td>100.0</td>\n",
              "      <td>0.0</td>\n",
              "      <td>0.0</td>\n",
              "      <td>0.0</td>\n",
              "      <td>100.0</td>\n",
              "      <td>0.0</td>\n",
              "      <td>0.0</td>\n",
              "      <td>0.0</td>\n",
              "      <td>3330.0</td>\n",
              "      <td>37882.0</td>\n",
              "      <td>1.321510e+09</td>\n",
              "      <td>undefined</td>\n",
              "      <td>undefined</td>\n",
              "      <td>17.0</td>\n",
              "      <td>207.0</td>\n",
              "      <td>6.441210e+05</td>\n",
              "      <td>13372.00000</td>\n",
              "      <td>9.023734e+06</td>\n",
              "      <td>2.788027e+06</td>\n",
              "      <td>1.439754e+06</td>\n",
              "      <td>631229.00000</td>\n",
              "      <td>2.138812e+07</td>\n",
              "      <td>1.514664e+07</td>\n",
              "      <td>1.399465e+07</td>\n",
              "      <td>1.097942e+06</td>\n",
              "      <td>7.995382e+08</td>\n",
              "      <td>1.084972e+07</td>\n",
              "      <td>7.490399e+08</td>\n",
              "      <td>1.279728e+07</td>\n",
              "      <td>43324218.0</td>\n",
              "      <td>846028530.0</td>\n",
              "    </tr>\n",
              "    <tr>\n",
              "      <th>4</th>\n",
              "      <td>13114483499480700928</td>\n",
              "      <td>2019-04-12 20:10:23</td>\n",
              "      <td>565.0</td>\n",
              "      <td>2019-04-25 10:40:32</td>\n",
              "      <td>954.0</td>\n",
              "      <td>1089009.0</td>\n",
              "      <td>2.082014e+14</td>\n",
              "      <td>3.369980e+10</td>\n",
              "      <td>3.540701e+13</td>\n",
              "      <td>D88865A</td>\n",
              "      <td>NaN</td>\n",
              "      <td>NaN</td>\n",
              "      <td>6.0</td>\n",
              "      <td>9.0</td>\n",
              "      <td>100.0</td>\n",
              "      <td>0.0</td>\n",
              "      <td>0.0</td>\n",
              "      <td>0.0</td>\n",
              "      <td>100.0</td>\n",
              "      <td>0.0</td>\n",
              "      <td>0.0</td>\n",
              "      <td>0.0</td>\n",
              "      <td>0.0</td>\n",
              "      <td>0.0</td>\n",
              "      <td>1.089009e+09</td>\n",
              "      <td>Samsung</td>\n",
              "      <td>Samsung Sm-G390F</td>\n",
              "      <td>607.0</td>\n",
              "      <td>604.0</td>\n",
              "      <td>8.626000e+05</td>\n",
              "      <td>50188.00000</td>\n",
              "      <td>6.248284e+06</td>\n",
              "      <td>1.500559e+06</td>\n",
              "      <td>1.936496e+06</td>\n",
              "      <td>173853.00000</td>\n",
              "      <td>1.525938e+07</td>\n",
              "      <td>1.896287e+07</td>\n",
              "      <td>1.712458e+07</td>\n",
              "      <td>4.152180e+05</td>\n",
              "      <td>5.277072e+08</td>\n",
              "      <td>3.529801e+06</td>\n",
              "      <td>5.507095e+08</td>\n",
              "      <td>1.391032e+07</td>\n",
              "      <td>38542814.0</td>\n",
              "      <td>569138589.0</td>\n",
              "    </tr>\n",
              "    <tr>\n",
              "      <th>...</th>\n",
              "      <td>...</td>\n",
              "      <td>...</td>\n",
              "      <td>...</td>\n",
              "      <td>...</td>\n",
              "      <td>...</td>\n",
              "      <td>...</td>\n",
              "      <td>...</td>\n",
              "      <td>...</td>\n",
              "      <td>...</td>\n",
              "      <td>...</td>\n",
              "      <td>...</td>\n",
              "      <td>...</td>\n",
              "      <td>...</td>\n",
              "      <td>...</td>\n",
              "      <td>...</td>\n",
              "      <td>...</td>\n",
              "      <td>...</td>\n",
              "      <td>...</td>\n",
              "      <td>...</td>\n",
              "      <td>...</td>\n",
              "      <td>...</td>\n",
              "      <td>...</td>\n",
              "      <td>...</td>\n",
              "      <td>...</td>\n",
              "      <td>...</td>\n",
              "      <td>...</td>\n",
              "      <td>...</td>\n",
              "      <td>...</td>\n",
              "      <td>...</td>\n",
              "      <td>...</td>\n",
              "      <td>...</td>\n",
              "      <td>...</td>\n",
              "      <td>...</td>\n",
              "      <td>...</td>\n",
              "      <td>...</td>\n",
              "      <td>...</td>\n",
              "      <td>...</td>\n",
              "      <td>...</td>\n",
              "      <td>...</td>\n",
              "      <td>...</td>\n",
              "      <td>...</td>\n",
              "      <td>...</td>\n",
              "      <td>...</td>\n",
              "      <td>...</td>\n",
              "      <td>...</td>\n",
              "    </tr>\n",
              "    <tr>\n",
              "      <th>149996</th>\n",
              "      <td>7277825670196679680</td>\n",
              "      <td>2019-04-29 07:28:42</td>\n",
              "      <td>451.0</td>\n",
              "      <td>2019-04-30 06:02:33</td>\n",
              "      <td>214.0</td>\n",
              "      <td>81230.0</td>\n",
              "      <td>2.082022e+14</td>\n",
              "      <td>3.365069e+10</td>\n",
              "      <td>3.548311e+13</td>\n",
              "      <td>D20434A</td>\n",
              "      <td>32.0</td>\n",
              "      <td>0.0</td>\n",
              "      <td>52.0</td>\n",
              "      <td>65.0</td>\n",
              "      <td>100.0</td>\n",
              "      <td>0.0</td>\n",
              "      <td>0.0</td>\n",
              "      <td>0.0</td>\n",
              "      <td>100.0</td>\n",
              "      <td>0.0</td>\n",
              "      <td>0.0</td>\n",
              "      <td>0.0</td>\n",
              "      <td>42376.0</td>\n",
              "      <td>41915.0</td>\n",
              "      <td>8.123076e+07</td>\n",
              "      <td>Apple</td>\n",
              "      <td>Apple iPhone 8 Plus (A1897)</td>\n",
              "      <td>223.0</td>\n",
              "      <td>229.0</td>\n",
              "      <td>3.464974e+06</td>\n",
              "      <td>52091.00000</td>\n",
              "      <td>9.967603e+06</td>\n",
              "      <td>2.817311e+06</td>\n",
              "      <td>5.763900e+04</td>\n",
              "      <td>633237.00000</td>\n",
              "      <td>1.619167e+07</td>\n",
              "      <td>1.176343e+07</td>\n",
              "      <td>1.788370e+07</td>\n",
              "      <td>1.967816e+07</td>\n",
              "      <td>5.266097e+08</td>\n",
              "      <td>9.197207e+06</td>\n",
              "      <td>3.264510e+06</td>\n",
              "      <td>1.348742e+07</td>\n",
              "      <td>57628851.0</td>\n",
              "      <td>574175259.0</td>\n",
              "    </tr>\n",
              "    <tr>\n",
              "      <th>149997</th>\n",
              "      <td>7349883264234609664</td>\n",
              "      <td>2019-04-29 07:28:42</td>\n",
              "      <td>483.0</td>\n",
              "      <td>2019-04-30 10:41:33</td>\n",
              "      <td>187.0</td>\n",
              "      <td>97970.0</td>\n",
              "      <td>2.082019e+14</td>\n",
              "      <td>3.366345e+10</td>\n",
              "      <td>3.566051e+13</td>\n",
              "      <td>D10223C</td>\n",
              "      <td>27.0</td>\n",
              "      <td>2.0</td>\n",
              "      <td>23.0</td>\n",
              "      <td>54.0</td>\n",
              "      <td>100.0</td>\n",
              "      <td>0.0</td>\n",
              "      <td>0.0</td>\n",
              "      <td>0.0</td>\n",
              "      <td>100.0</td>\n",
              "      <td>0.0</td>\n",
              "      <td>0.0</td>\n",
              "      <td>0.0</td>\n",
              "      <td>17264.0</td>\n",
              "      <td>16759.0</td>\n",
              "      <td>9.797070e+07</td>\n",
              "      <td>Apple</td>\n",
              "      <td>Apple iPhone Se (A1723)</td>\n",
              "      <td>105.0</td>\n",
              "      <td>102.0</td>\n",
              "      <td>2.344568e+06</td>\n",
              "      <td>7613.00000</td>\n",
              "      <td>2.229420e+06</td>\n",
              "      <td>2.185941e+06</td>\n",
              "      <td>1.954414e+06</td>\n",
              "      <td>167304.00000</td>\n",
              "      <td>1.387723e+07</td>\n",
              "      <td>8.288284e+06</td>\n",
              "      <td>1.935015e+07</td>\n",
              "      <td>2.129315e+07</td>\n",
              "      <td>6.268931e+08</td>\n",
              "      <td>4.735033e+06</td>\n",
              "      <td>7.121804e+08</td>\n",
              "      <td>2.457758e+06</td>\n",
              "      <td>39135081.0</td>\n",
              "      <td>666648844.0</td>\n",
              "    </tr>\n",
              "    <tr>\n",
              "      <th>149998</th>\n",
              "      <td>13114483573367300096</td>\n",
              "      <td>2019-04-29 07:28:43</td>\n",
              "      <td>283.0</td>\n",
              "      <td>2019-04-30 10:46:12</td>\n",
              "      <td>810.0</td>\n",
              "      <td>98249.0</td>\n",
              "      <td>2.082017e+14</td>\n",
              "      <td>3.362189e+10</td>\n",
              "      <td>3.572121e+13</td>\n",
              "      <td>T51102A</td>\n",
              "      <td>43.0</td>\n",
              "      <td>6.0</td>\n",
              "      <td>43.0</td>\n",
              "      <td>47.0</td>\n",
              "      <td>100.0</td>\n",
              "      <td>0.0</td>\n",
              "      <td>0.0</td>\n",
              "      <td>0.0</td>\n",
              "      <td>100.0</td>\n",
              "      <td>0.0</td>\n",
              "      <td>0.0</td>\n",
              "      <td>0.0</td>\n",
              "      <td>25003.0</td>\n",
              "      <td>28640.0</td>\n",
              "      <td>9.824953e+07</td>\n",
              "      <td>Apple</td>\n",
              "      <td>Apple iPhone Xs (A2097)</td>\n",
              "      <td>104.0</td>\n",
              "      <td>108.0</td>\n",
              "      <td>1.245845e+06</td>\n",
              "      <td>14394.00000</td>\n",
              "      <td>3.850890e+06</td>\n",
              "      <td>2.734579e+06</td>\n",
              "      <td>1.525734e+06</td>\n",
              "      <td>532543.00000</td>\n",
              "      <td>2.266051e+07</td>\n",
              "      <td>1.855903e+06</td>\n",
              "      <td>9.963942e+06</td>\n",
              "      <td>5.065760e+06</td>\n",
              "      <td>5.535395e+08</td>\n",
              "      <td>1.339432e+07</td>\n",
              "      <td>1.211009e+08</td>\n",
              "      <td>1.131473e+07</td>\n",
              "      <td>34912224.0</td>\n",
              "      <td>592786405.0</td>\n",
              "    </tr>\n",
              "    <tr>\n",
              "      <th>149999</th>\n",
              "      <td>13114483573367300096</td>\n",
              "      <td>2019-04-29 07:28:43</td>\n",
              "      <td>696.0</td>\n",
              "      <td>2019-04-30 10:40:34</td>\n",
              "      <td>327.0</td>\n",
              "      <td>97910.0</td>\n",
              "      <td>2.082021e+14</td>\n",
              "      <td>3.361962e+10</td>\n",
              "      <td>8.618620e+13</td>\n",
              "      <td>L88342B</td>\n",
              "      <td>37.0</td>\n",
              "      <td>5.0</td>\n",
              "      <td>34.0</td>\n",
              "      <td>37.0</td>\n",
              "      <td>100.0</td>\n",
              "      <td>0.0</td>\n",
              "      <td>0.0</td>\n",
              "      <td>0.0</td>\n",
              "      <td>100.0</td>\n",
              "      <td>0.0</td>\n",
              "      <td>0.0</td>\n",
              "      <td>0.0</td>\n",
              "      <td>13405.0</td>\n",
              "      <td>34088.0</td>\n",
              "      <td>9.791063e+07</td>\n",
              "      <td>Huawei</td>\n",
              "      <td>Huawei Fig-Lx1</td>\n",
              "      <td>43.0</td>\n",
              "      <td>82.0</td>\n",
              "      <td>8.015470e+05</td>\n",
              "      <td>21562.00000</td>\n",
              "      <td>4.189773e+06</td>\n",
              "      <td>3.567494e+06</td>\n",
              "      <td>2.228270e+06</td>\n",
              "      <td>622644.00000</td>\n",
              "      <td>8.817106e+06</td>\n",
              "      <td>8.305402e+06</td>\n",
              "      <td>3.322253e+06</td>\n",
              "      <td>1.317259e+07</td>\n",
              "      <td>3.525370e+08</td>\n",
              "      <td>2.529475e+06</td>\n",
              "      <td>8.147131e+08</td>\n",
              "      <td>1.406930e+06</td>\n",
              "      <td>29626096.0</td>\n",
              "      <td>371895920.0</td>\n",
              "    </tr>\n",
              "    <tr>\n",
              "      <th>150000</th>\n",
              "      <td></td>\n",
              "      <td>NaT</td>\n",
              "      <td>NaN</td>\n",
              "      <td>NaT</td>\n",
              "      <td>NaN</td>\n",
              "      <td>NaN</td>\n",
              "      <td>NaN</td>\n",
              "      <td>NaN</td>\n",
              "      <td>NaN</td>\n",
              "      <td>NaN</td>\n",
              "      <td>NaN</td>\n",
              "      <td>NaN</td>\n",
              "      <td>NaN</td>\n",
              "      <td>NaN</td>\n",
              "      <td>NaN</td>\n",
              "      <td>NaN</td>\n",
              "      <td>NaN</td>\n",
              "      <td>NaN</td>\n",
              "      <td>NaN</td>\n",
              "      <td>NaN</td>\n",
              "      <td>NaN</td>\n",
              "      <td>NaN</td>\n",
              "      <td>NaN</td>\n",
              "      <td>NaN</td>\n",
              "      <td>NaN</td>\n",
              "      <td>NaN</td>\n",
              "      <td>NaN</td>\n",
              "      <td>NaN</td>\n",
              "      <td>NaN</td>\n",
              "      <td>1.795322e+06</td>\n",
              "      <td>32928.43438</td>\n",
              "      <td>5.750753e+06</td>\n",
              "      <td>2.056542e+06</td>\n",
              "      <td>1.791729e+06</td>\n",
              "      <td>467373.44194</td>\n",
              "      <td>1.163407e+07</td>\n",
              "      <td>1.100941e+07</td>\n",
              "      <td>1.162685e+07</td>\n",
              "      <td>1.100175e+07</td>\n",
              "      <td>4.220447e+08</td>\n",
              "      <td>8.288398e+06</td>\n",
              "      <td>4.211005e+08</td>\n",
              "      <td>8.264799e+06</td>\n",
              "      <td>NaN</td>\n",
              "      <td>NaN</td>\n",
              "    </tr>\n",
              "  </tbody>\n",
              "</table>\n",
              "<p>150001 rows × 45 columns</p>\n",
              "</div>"
            ],
            "text/plain": [
              "                    BearerId               Start  ...  TotalULBytes TotalDLBytes\n",
              "0       13114483460844900352 2019-04-04 12:01:18  ...    36749741.0  308879636.0\n",
              "1       13114483482878900224 2019-04-09 13:04:04  ...    53800391.0  653384965.0\n",
              "2       13114483484080500736 2019-04-09 17:42:11  ...    27883638.0  279807335.0\n",
              "3       13114483485442799616 2019-04-10 00:31:25  ...    43324218.0  846028530.0\n",
              "4       13114483499480700928 2019-04-12 20:10:23  ...    38542814.0  569138589.0\n",
              "...                      ...                 ...  ...           ...          ...\n",
              "149996   7277825670196679680 2019-04-29 07:28:42  ...    57628851.0  574175259.0\n",
              "149997   7349883264234609664 2019-04-29 07:28:42  ...    39135081.0  666648844.0\n",
              "149998  13114483573367300096 2019-04-29 07:28:43  ...    34912224.0  592786405.0\n",
              "149999  13114483573367300096 2019-04-29 07:28:43  ...    29626096.0  371895920.0\n",
              "150000                                       NaT  ...           NaN          NaN\n",
              "\n",
              "[150001 rows x 45 columns]"
            ]
          },
          "metadata": {
            "tags": []
          },
          "execution_count": 148
        }
      ]
    },
    {
      "cell_type": "code",
      "metadata": {
        "colab": {
          "base_uri": "https://localhost:8080/",
          "height": 467
        },
        "id": "prAQjXbn6Ty4",
        "outputId": "b35b35af-04a6-4515-ba22-3216be831d78"
      },
      "source": [
        "df_agg"
      ],
      "execution_count": 151,
      "outputs": [
        {
          "output_type": "execute_result",
          "data": {
            "text/html": [
              "<div>\n",
              "<style scoped>\n",
              "    .dataframe tbody tr th:only-of-type {\n",
              "        vertical-align: middle;\n",
              "    }\n",
              "\n",
              "    .dataframe tbody tr th {\n",
              "        vertical-align: top;\n",
              "    }\n",
              "\n",
              "    .dataframe thead th {\n",
              "        text-align: right;\n",
              "    }\n",
              "</style>\n",
              "<table border=\"1\" class=\"dataframe\">\n",
              "  <thead>\n",
              "    <tr style=\"text-align: right;\">\n",
              "      <th></th>\n",
              "      <th>Dur.ms</th>\n",
              "      <th>SocialMediaDLBytes</th>\n",
              "      <th>SocialMediaULBytes</th>\n",
              "      <th>GoogleDLBytes</th>\n",
              "      <th>GoogleULBytes</th>\n",
              "      <th>EmailDLBytes</th>\n",
              "      <th>EmailULBytes</th>\n",
              "      <th>YoutubeDLBytes</th>\n",
              "      <th>YoutubeULBytes</th>\n",
              "      <th>NetflixDLBytes</th>\n",
              "      <th>NetflixULBytes</th>\n",
              "      <th>GamingDLBytes</th>\n",
              "      <th>GamingULBytes</th>\n",
              "      <th>OtherDLBytes</th>\n",
              "      <th>OtherULBytes</th>\n",
              "      <th>TotalULBytes</th>\n",
              "      <th>TotalDLBytes</th>\n",
              "    </tr>\n",
              "    <tr>\n",
              "      <th>MSISDN/Number</th>\n",
              "      <th></th>\n",
              "      <th></th>\n",
              "      <th></th>\n",
              "      <th></th>\n",
              "      <th></th>\n",
              "      <th></th>\n",
              "      <th></th>\n",
              "      <th></th>\n",
              "      <th></th>\n",
              "      <th></th>\n",
              "      <th></th>\n",
              "      <th></th>\n",
              "      <th></th>\n",
              "      <th></th>\n",
              "      <th></th>\n",
              "      <th></th>\n",
              "      <th></th>\n",
              "    </tr>\n",
              "  </thead>\n",
              "  <tbody>\n",
              "    <tr>\n",
              "      <th>3.360100e+10</th>\n",
              "      <td>116720.0</td>\n",
              "      <td>2206504.0</td>\n",
              "      <td>25631.0</td>\n",
              "      <td>3337123.0</td>\n",
              "      <td>1051882.0</td>\n",
              "      <td>837400.0</td>\n",
              "      <td>493962.0</td>\n",
              "      <td>14900201.0</td>\n",
              "      <td>6724347.0</td>\n",
              "      <td>10265105.0</td>\n",
              "      <td>16915876.0</td>\n",
              "      <td>8.110911e+08</td>\n",
              "      <td>1367528.0</td>\n",
              "      <td>377096990.0</td>\n",
              "      <td>9473882.0</td>\n",
              "      <td>36053108.0</td>\n",
              "      <td>8.426375e+08</td>\n",
              "    </tr>\n",
              "    <tr>\n",
              "      <th>3.360100e+10</th>\n",
              "      <td>181230.0</td>\n",
              "      <td>2598548.0</td>\n",
              "      <td>62017.0</td>\n",
              "      <td>4197697.0</td>\n",
              "      <td>1137166.0</td>\n",
              "      <td>2828821.0</td>\n",
              "      <td>478960.0</td>\n",
              "      <td>5324251.0</td>\n",
              "      <td>7107972.0</td>\n",
              "      <td>770569.0</td>\n",
              "      <td>10451194.0</td>\n",
              "      <td>1.050353e+08</td>\n",
              "      <td>14714780.0</td>\n",
              "      <td>279557701.0</td>\n",
              "      <td>2152370.0</td>\n",
              "      <td>36104459.0</td>\n",
              "      <td>1.207552e+08</td>\n",
              "    </tr>\n",
              "    <tr>\n",
              "      <th>3.360100e+10</th>\n",
              "      <td>134969.0</td>\n",
              "      <td>3148004.0</td>\n",
              "      <td>47619.0</td>\n",
              "      <td>3343483.0</td>\n",
              "      <td>99643.0</td>\n",
              "      <td>2436500.0</td>\n",
              "      <td>768880.0</td>\n",
              "      <td>2137272.0</td>\n",
              "      <td>19196298.0</td>\n",
              "      <td>16525919.0</td>\n",
              "      <td>2827981.0</td>\n",
              "      <td>5.290685e+08</td>\n",
              "      <td>9759228.0</td>\n",
              "      <td>495086501.0</td>\n",
              "      <td>6607171.0</td>\n",
              "      <td>39306820.0</td>\n",
              "      <td>5.566597e+08</td>\n",
              "    </tr>\n",
              "    <tr>\n",
              "      <th>3.360101e+10</th>\n",
              "      <td>49878.0</td>\n",
              "      <td>251469.0</td>\n",
              "      <td>28825.0</td>\n",
              "      <td>5937765.0</td>\n",
              "      <td>3740728.0</td>\n",
              "      <td>2178618.0</td>\n",
              "      <td>106052.0</td>\n",
              "      <td>4393123.0</td>\n",
              "      <td>2584198.0</td>\n",
              "      <td>1157362.0</td>\n",
              "      <td>784730.0</td>\n",
              "      <td>3.880748e+08</td>\n",
              "      <td>3051292.0</td>\n",
              "      <td>25248001.0</td>\n",
              "      <td>10031701.0</td>\n",
              "      <td>20327526.0</td>\n",
              "      <td>4.019932e+08</td>\n",
              "    </tr>\n",
              "    <tr>\n",
              "      <th>3.360101e+10</th>\n",
              "      <td>37104.0</td>\n",
              "      <td>2861230.0</td>\n",
              "      <td>51312.0</td>\n",
              "      <td>13728668.0</td>\n",
              "      <td>4770948.0</td>\n",
              "      <td>2247808.0</td>\n",
              "      <td>1057661.0</td>\n",
              "      <td>10339971.0</td>\n",
              "      <td>31193031.0</td>\n",
              "      <td>24971647.0</td>\n",
              "      <td>24230077.0</td>\n",
              "      <td>1.308981e+09</td>\n",
              "      <td>5816727.0</td>\n",
              "      <td>777643713.0</td>\n",
              "      <td>27160771.0</td>\n",
              "      <td>94280527.0</td>\n",
              "      <td>1.363130e+09</td>\n",
              "    </tr>\n",
              "    <tr>\n",
              "      <th>...</th>\n",
              "      <td>...</td>\n",
              "      <td>...</td>\n",
              "      <td>...</td>\n",
              "      <td>...</td>\n",
              "      <td>...</td>\n",
              "      <td>...</td>\n",
              "      <td>...</td>\n",
              "      <td>...</td>\n",
              "      <td>...</td>\n",
              "      <td>...</td>\n",
              "      <td>...</td>\n",
              "      <td>...</td>\n",
              "      <td>...</td>\n",
              "      <td>...</td>\n",
              "      <td>...</td>\n",
              "      <td>...</td>\n",
              "      <td>...</td>\n",
              "    </tr>\n",
              "    <tr>\n",
              "      <th>3.379000e+10</th>\n",
              "      <td>8810.0</td>\n",
              "      <td>234320.0</td>\n",
              "      <td>65863.0</td>\n",
              "      <td>6834178.0</td>\n",
              "      <td>697091.0</td>\n",
              "      <td>480946.0</td>\n",
              "      <td>525969.0</td>\n",
              "      <td>8294310.0</td>\n",
              "      <td>18353533.0</td>\n",
              "      <td>14754741.0</td>\n",
              "      <td>147797.0</td>\n",
              "      <td>6.573267e+08</td>\n",
              "      <td>3034642.0</td>\n",
              "      <td>291391283.0</td>\n",
              "      <td>3891534.0</td>\n",
              "      <td>26716429.0</td>\n",
              "      <td>6.879252e+08</td>\n",
              "    </tr>\n",
              "    <tr>\n",
              "      <th>3.379000e+10</th>\n",
              "      <td>140988.0</td>\n",
              "      <td>442214.0</td>\n",
              "      <td>56355.0</td>\n",
              "      <td>1472406.0</td>\n",
              "      <td>3957299.0</td>\n",
              "      <td>2513433.0</td>\n",
              "      <td>664.0</td>\n",
              "      <td>5596862.0</td>\n",
              "      <td>14254710.0</td>\n",
              "      <td>6929961.0</td>\n",
              "      <td>1601099.0</td>\n",
              "      <td>4.276202e+08</td>\n",
              "      <td>9383076.0</td>\n",
              "      <td>204636073.0</td>\n",
              "      <td>6479040.0</td>\n",
              "      <td>35732243.0</td>\n",
              "      <td>4.445751e+08</td>\n",
              "    </tr>\n",
              "    <tr>\n",
              "      <th>3.197021e+12</th>\n",
              "      <td>877385.0</td>\n",
              "      <td>668596.0</td>\n",
              "      <td>46628.0</td>\n",
              "      <td>8572779.0</td>\n",
              "      <td>1865881.0</td>\n",
              "      <td>842279.0</td>\n",
              "      <td>678492.0</td>\n",
              "      <td>9839889.0</td>\n",
              "      <td>2120016.0</td>\n",
              "      <td>10340908.0</td>\n",
              "      <td>16251392.0</td>\n",
              "      <td>1.645636e+08</td>\n",
              "      <td>13485133.0</td>\n",
              "      <td>467678100.0</td>\n",
              "      <td>2848373.0</td>\n",
              "      <td>37295915.0</td>\n",
              "      <td>1.948281e+08</td>\n",
              "    </tr>\n",
              "    <tr>\n",
              "      <th>3.370000e+14</th>\n",
              "      <td>253030.0</td>\n",
              "      <td>496337.0</td>\n",
              "      <td>25229.0</td>\n",
              "      <td>8215537.0</td>\n",
              "      <td>1615080.0</td>\n",
              "      <td>2989663.0</td>\n",
              "      <td>328919.0</td>\n",
              "      <td>16690728.0</td>\n",
              "      <td>20044212.0</td>\n",
              "      <td>9983678.0</td>\n",
              "      <td>20921364.0</td>\n",
              "      <td>5.012590e+08</td>\n",
              "      <td>8883653.0</td>\n",
              "      <td>144354057.0</td>\n",
              "      <td>4834382.0</td>\n",
              "      <td>56652839.0</td>\n",
              "      <td>5.396350e+08</td>\n",
              "    </tr>\n",
              "    <tr>\n",
              "      <th>8.823971e+14</th>\n",
              "      <td>869844.0</td>\n",
              "      <td>1500145.0</td>\n",
              "      <td>45943.0</td>\n",
              "      <td>5985089.0</td>\n",
              "      <td>3233558.0</td>\n",
              "      <td>2518425.0</td>\n",
              "      <td>812549.0</td>\n",
              "      <td>18980320.0</td>\n",
              "      <td>21960390.0</td>\n",
              "      <td>21621336.0</td>\n",
              "      <td>7224894.0</td>\n",
              "      <td>2.809228e+07</td>\n",
              "      <td>14977978.0</td>\n",
              "      <td>389159720.0</td>\n",
              "      <td>12200737.0</td>\n",
              "      <td>60456049.0</td>\n",
              "      <td>7.869760e+07</td>\n",
              "    </tr>\n",
              "  </tbody>\n",
              "</table>\n",
              "<p>106856 rows × 17 columns</p>\n",
              "</div>"
            ],
            "text/plain": [
              "                 Dur.ms  SocialMediaDLBytes  ...  TotalULBytes  TotalDLBytes\n",
              "MSISDN/Number                                ...                            \n",
              "3.360100e+10   116720.0           2206504.0  ...    36053108.0  8.426375e+08\n",
              "3.360100e+10   181230.0           2598548.0  ...    36104459.0  1.207552e+08\n",
              "3.360100e+10   134969.0           3148004.0  ...    39306820.0  5.566597e+08\n",
              "3.360101e+10    49878.0            251469.0  ...    20327526.0  4.019932e+08\n",
              "3.360101e+10    37104.0           2861230.0  ...    94280527.0  1.363130e+09\n",
              "...                 ...                 ...  ...           ...           ...\n",
              "3.379000e+10     8810.0            234320.0  ...    26716429.0  6.879252e+08\n",
              "3.379000e+10   140988.0            442214.0  ...    35732243.0  4.445751e+08\n",
              "3.197021e+12   877385.0            668596.0  ...    37295915.0  1.948281e+08\n",
              "3.370000e+14   253030.0            496337.0  ...    56652839.0  5.396350e+08\n",
              "8.823971e+14   869844.0           1500145.0  ...    60456049.0  7.869760e+07\n",
              "\n",
              "[106856 rows x 17 columns]"
            ]
          },
          "metadata": {
            "tags": []
          },
          "execution_count": 151
        }
      ]
    },
    {
      "cell_type": "markdown",
      "metadata": {
        "id": "e18eHkwv01Bn"
      },
      "source": [
        "**EDA**"
      ]
    },
    {
      "cell_type": "markdown",
      "metadata": {
        "id": "SwvYOfY17UT0"
      },
      "source": [
        "**Fill missing values with mean**"
      ]
    },
    {
      "cell_type": "code",
      "metadata": {
        "colab": {
          "base_uri": "https://localhost:8080/",
          "height": 254
        },
        "id": "3IcMmm0d0xi9",
        "outputId": "9c82bf72-9ff2-4195-dcc9-b090b263e68c"
      },
      "source": [
        "new_df = df_agg.copy()\n",
        "new_df.head()"
      ],
      "execution_count": 152,
      "outputs": [
        {
          "output_type": "execute_result",
          "data": {
            "text/html": [
              "<div>\n",
              "<style scoped>\n",
              "    .dataframe tbody tr th:only-of-type {\n",
              "        vertical-align: middle;\n",
              "    }\n",
              "\n",
              "    .dataframe tbody tr th {\n",
              "        vertical-align: top;\n",
              "    }\n",
              "\n",
              "    .dataframe thead th {\n",
              "        text-align: right;\n",
              "    }\n",
              "</style>\n",
              "<table border=\"1\" class=\"dataframe\">\n",
              "  <thead>\n",
              "    <tr style=\"text-align: right;\">\n",
              "      <th></th>\n",
              "      <th>Dur.ms</th>\n",
              "      <th>SocialMediaDLBytes</th>\n",
              "      <th>SocialMediaULBytes</th>\n",
              "      <th>GoogleDLBytes</th>\n",
              "      <th>GoogleULBytes</th>\n",
              "      <th>EmailDLBytes</th>\n",
              "      <th>EmailULBytes</th>\n",
              "      <th>YoutubeDLBytes</th>\n",
              "      <th>YoutubeULBytes</th>\n",
              "      <th>NetflixDLBytes</th>\n",
              "      <th>NetflixULBytes</th>\n",
              "      <th>GamingDLBytes</th>\n",
              "      <th>GamingULBytes</th>\n",
              "      <th>OtherDLBytes</th>\n",
              "      <th>OtherULBytes</th>\n",
              "      <th>TotalULBytes</th>\n",
              "      <th>TotalDLBytes</th>\n",
              "    </tr>\n",
              "    <tr>\n",
              "      <th>MSISDN/Number</th>\n",
              "      <th></th>\n",
              "      <th></th>\n",
              "      <th></th>\n",
              "      <th></th>\n",
              "      <th></th>\n",
              "      <th></th>\n",
              "      <th></th>\n",
              "      <th></th>\n",
              "      <th></th>\n",
              "      <th></th>\n",
              "      <th></th>\n",
              "      <th></th>\n",
              "      <th></th>\n",
              "      <th></th>\n",
              "      <th></th>\n",
              "      <th></th>\n",
              "      <th></th>\n",
              "    </tr>\n",
              "  </thead>\n",
              "  <tbody>\n",
              "    <tr>\n",
              "      <th>3.360100e+10</th>\n",
              "      <td>116720.0</td>\n",
              "      <td>2206504.0</td>\n",
              "      <td>25631.0</td>\n",
              "      <td>3337123.0</td>\n",
              "      <td>1051882.0</td>\n",
              "      <td>837400.0</td>\n",
              "      <td>493962.0</td>\n",
              "      <td>14900201.0</td>\n",
              "      <td>6724347.0</td>\n",
              "      <td>10265105.0</td>\n",
              "      <td>16915876.0</td>\n",
              "      <td>8.110911e+08</td>\n",
              "      <td>1367528.0</td>\n",
              "      <td>377096990.0</td>\n",
              "      <td>9473882.0</td>\n",
              "      <td>36053108.0</td>\n",
              "      <td>8.426375e+08</td>\n",
              "    </tr>\n",
              "    <tr>\n",
              "      <th>3.360100e+10</th>\n",
              "      <td>181230.0</td>\n",
              "      <td>2598548.0</td>\n",
              "      <td>62017.0</td>\n",
              "      <td>4197697.0</td>\n",
              "      <td>1137166.0</td>\n",
              "      <td>2828821.0</td>\n",
              "      <td>478960.0</td>\n",
              "      <td>5324251.0</td>\n",
              "      <td>7107972.0</td>\n",
              "      <td>770569.0</td>\n",
              "      <td>10451194.0</td>\n",
              "      <td>1.050353e+08</td>\n",
              "      <td>14714780.0</td>\n",
              "      <td>279557701.0</td>\n",
              "      <td>2152370.0</td>\n",
              "      <td>36104459.0</td>\n",
              "      <td>1.207552e+08</td>\n",
              "    </tr>\n",
              "    <tr>\n",
              "      <th>3.360100e+10</th>\n",
              "      <td>134969.0</td>\n",
              "      <td>3148004.0</td>\n",
              "      <td>47619.0</td>\n",
              "      <td>3343483.0</td>\n",
              "      <td>99643.0</td>\n",
              "      <td>2436500.0</td>\n",
              "      <td>768880.0</td>\n",
              "      <td>2137272.0</td>\n",
              "      <td>19196298.0</td>\n",
              "      <td>16525919.0</td>\n",
              "      <td>2827981.0</td>\n",
              "      <td>5.290685e+08</td>\n",
              "      <td>9759228.0</td>\n",
              "      <td>495086501.0</td>\n",
              "      <td>6607171.0</td>\n",
              "      <td>39306820.0</td>\n",
              "      <td>5.566597e+08</td>\n",
              "    </tr>\n",
              "    <tr>\n",
              "      <th>3.360101e+10</th>\n",
              "      <td>49878.0</td>\n",
              "      <td>251469.0</td>\n",
              "      <td>28825.0</td>\n",
              "      <td>5937765.0</td>\n",
              "      <td>3740728.0</td>\n",
              "      <td>2178618.0</td>\n",
              "      <td>106052.0</td>\n",
              "      <td>4393123.0</td>\n",
              "      <td>2584198.0</td>\n",
              "      <td>1157362.0</td>\n",
              "      <td>784730.0</td>\n",
              "      <td>3.880748e+08</td>\n",
              "      <td>3051292.0</td>\n",
              "      <td>25248001.0</td>\n",
              "      <td>10031701.0</td>\n",
              "      <td>20327526.0</td>\n",
              "      <td>4.019932e+08</td>\n",
              "    </tr>\n",
              "    <tr>\n",
              "      <th>3.360101e+10</th>\n",
              "      <td>37104.0</td>\n",
              "      <td>2861230.0</td>\n",
              "      <td>51312.0</td>\n",
              "      <td>13728668.0</td>\n",
              "      <td>4770948.0</td>\n",
              "      <td>2247808.0</td>\n",
              "      <td>1057661.0</td>\n",
              "      <td>10339971.0</td>\n",
              "      <td>31193031.0</td>\n",
              "      <td>24971647.0</td>\n",
              "      <td>24230077.0</td>\n",
              "      <td>1.308981e+09</td>\n",
              "      <td>5816727.0</td>\n",
              "      <td>777643713.0</td>\n",
              "      <td>27160771.0</td>\n",
              "      <td>94280527.0</td>\n",
              "      <td>1.363130e+09</td>\n",
              "    </tr>\n",
              "  </tbody>\n",
              "</table>\n",
              "</div>"
            ],
            "text/plain": [
              "                 Dur.ms  SocialMediaDLBytes  ...  TotalULBytes  TotalDLBytes\n",
              "MSISDN/Number                                ...                            \n",
              "3.360100e+10   116720.0           2206504.0  ...    36053108.0  8.426375e+08\n",
              "3.360100e+10   181230.0           2598548.0  ...    36104459.0  1.207552e+08\n",
              "3.360100e+10   134969.0           3148004.0  ...    39306820.0  5.566597e+08\n",
              "3.360101e+10    49878.0            251469.0  ...    20327526.0  4.019932e+08\n",
              "3.360101e+10    37104.0           2861230.0  ...    94280527.0  1.363130e+09\n",
              "\n",
              "[5 rows x 17 columns]"
            ]
          },
          "metadata": {
            "tags": []
          },
          "execution_count": 152
        }
      ]
    },
    {
      "cell_type": "code",
      "metadata": {
        "colab": {
          "base_uri": "https://localhost:8080/"
        },
        "id": "LHjD6vBQ0xm8",
        "outputId": "24d47a6a-ae0d-4633-f58d-f382ef4b73ab"
      },
      "source": [
        "#Fill missing values with mean\n",
        "\n",
        "new_df.fillna(new_df.mean(), inplace = True)\n",
        "\n",
        "# Now which column(s) has missing values\n",
        "new_df.isna().sum()\n"
      ],
      "execution_count": 153,
      "outputs": [
        {
          "output_type": "execute_result",
          "data": {
            "text/plain": [
              "Dur.ms                0\n",
              "SocialMediaDLBytes    0\n",
              "SocialMediaULBytes    0\n",
              "GoogleDLBytes         0\n",
              "GoogleULBytes         0\n",
              "EmailDLBytes          0\n",
              "EmailULBytes          0\n",
              "YoutubeDLBytes        0\n",
              "YoutubeULBytes        0\n",
              "NetflixDLBytes        0\n",
              "NetflixULBytes        0\n",
              "GamingDLBytes         0\n",
              "GamingULBytes         0\n",
              "OtherDLBytes          0\n",
              "OtherULBytes          0\n",
              "TotalULBytes          0\n",
              "TotalDLBytes          0\n",
              "dtype: int64"
            ]
          },
          "metadata": {
            "tags": []
          },
          "execution_count": 153
        }
      ]
    },
    {
      "cell_type": "code",
      "metadata": {
        "colab": {
          "base_uri": "https://localhost:8080/",
          "height": 315
        },
        "id": "V11Rak850xq6",
        "outputId": "e6188c5e-02c6-4223-fb5a-23f39ad231a5"
      },
      "source": [
        "# Down here is a description of all the relevant varibles\n",
        "\n",
        "new_df.describe()"
      ],
      "execution_count": 154,
      "outputs": [
        {
          "output_type": "execute_result",
          "data": {
            "text/html": [
              "<div>\n",
              "<style scoped>\n",
              "    .dataframe tbody tr th:only-of-type {\n",
              "        vertical-align: middle;\n",
              "    }\n",
              "\n",
              "    .dataframe tbody tr th {\n",
              "        vertical-align: top;\n",
              "    }\n",
              "\n",
              "    .dataframe thead th {\n",
              "        text-align: right;\n",
              "    }\n",
              "</style>\n",
              "<table border=\"1\" class=\"dataframe\">\n",
              "  <thead>\n",
              "    <tr style=\"text-align: right;\">\n",
              "      <th></th>\n",
              "      <th>Dur.ms</th>\n",
              "      <th>SocialMediaDLBytes</th>\n",
              "      <th>SocialMediaULBytes</th>\n",
              "      <th>GoogleDLBytes</th>\n",
              "      <th>GoogleULBytes</th>\n",
              "      <th>EmailDLBytes</th>\n",
              "      <th>EmailULBytes</th>\n",
              "      <th>YoutubeDLBytes</th>\n",
              "      <th>YoutubeULBytes</th>\n",
              "      <th>NetflixDLBytes</th>\n",
              "      <th>NetflixULBytes</th>\n",
              "      <th>GamingDLBytes</th>\n",
              "      <th>GamingULBytes</th>\n",
              "      <th>OtherDLBytes</th>\n",
              "      <th>OtherULBytes</th>\n",
              "      <th>TotalULBytes</th>\n",
              "      <th>TotalDLBytes</th>\n",
              "    </tr>\n",
              "  </thead>\n",
              "  <tbody>\n",
              "    <tr>\n",
              "      <th>count</th>\n",
              "      <td>1.068560e+05</td>\n",
              "      <td>1.068560e+05</td>\n",
              "      <td>106856.000000</td>\n",
              "      <td>1.068560e+05</td>\n",
              "      <td>1.068560e+05</td>\n",
              "      <td>1.068560e+05</td>\n",
              "      <td>1.068560e+05</td>\n",
              "      <td>1.068560e+05</td>\n",
              "      <td>1.068560e+05</td>\n",
              "      <td>1.068560e+05</td>\n",
              "      <td>1.068560e+05</td>\n",
              "      <td>1.068560e+05</td>\n",
              "      <td>1.068560e+05</td>\n",
              "      <td>1.068560e+05</td>\n",
              "      <td>1.068560e+05</td>\n",
              "      <td>1.068560e+05</td>\n",
              "      <td>1.068560e+05</td>\n",
              "    </tr>\n",
              "    <tr>\n",
              "      <th>mean</th>\n",
              "      <td>1.461672e+05</td>\n",
              "      <td>2.502081e+06</td>\n",
              "      <td>45886.012802</td>\n",
              "      <td>8.016496e+06</td>\n",
              "      <td>2.865938e+06</td>\n",
              "      <td>2.497352e+06</td>\n",
              "      <td>6.514435e+05</td>\n",
              "      <td>1.621461e+07</td>\n",
              "      <td>1.534379e+07</td>\n",
              "      <td>1.620639e+07</td>\n",
              "      <td>1.533194e+07</td>\n",
              "      <td>5.882158e+08</td>\n",
              "      <td>1.155326e+07</td>\n",
              "      <td>5.869916e+08</td>\n",
              "      <td>1.151716e+07</td>\n",
              "      <td>5.730942e+07</td>\n",
              "      <td>6.336527e+08</td>\n",
              "    </tr>\n",
              "    <tr>\n",
              "      <th>std</th>\n",
              "      <td>1.863587e+05</td>\n",
              "      <td>1.887588e+06</td>\n",
              "      <td>34717.044775</td>\n",
              "      <td>6.065160e+06</td>\n",
              "      <td>2.172787e+06</td>\n",
              "      <td>1.897063e+06</td>\n",
              "      <td>4.948601e+05</td>\n",
              "      <td>1.232294e+07</td>\n",
              "      <td>1.159870e+07</td>\n",
              "      <td>1.231717e+07</td>\n",
              "      <td>1.161060e+07</td>\n",
              "      <td>4.440290e+08</td>\n",
              "      <td>8.731469e+06</td>\n",
              "      <td>4.437790e+08</td>\n",
              "      <td>8.706879e+06</td>\n",
              "      <td>3.565765e+07</td>\n",
              "      <td>4.645551e+08</td>\n",
              "    </tr>\n",
              "    <tr>\n",
              "      <th>min</th>\n",
              "      <td>7.142000e+03</td>\n",
              "      <td>1.200000e+01</td>\n",
              "      <td>0.000000</td>\n",
              "      <td>2.070000e+02</td>\n",
              "      <td>3.000000e+00</td>\n",
              "      <td>9.700000e+01</td>\n",
              "      <td>1.400000e+01</td>\n",
              "      <td>5.300000e+01</td>\n",
              "      <td>1.060000e+02</td>\n",
              "      <td>4.200000e+01</td>\n",
              "      <td>3.500000e+01</td>\n",
              "      <td>2.516000e+03</td>\n",
              "      <td>5.900000e+01</td>\n",
              "      <td>3.290000e+03</td>\n",
              "      <td>1.560000e+02</td>\n",
              "      <td>2.866892e+06</td>\n",
              "      <td>8.827082e+06</td>\n",
              "    </tr>\n",
              "    <tr>\n",
              "      <th>25%</th>\n",
              "      <td>7.130800e+04</td>\n",
              "      <td>1.175902e+06</td>\n",
              "      <td>21600.750000</td>\n",
              "      <td>3.802894e+06</td>\n",
              "      <td>1.341100e+06</td>\n",
              "      <td>1.184544e+06</td>\n",
              "      <td>3.065678e+05</td>\n",
              "      <td>7.647143e+06</td>\n",
              "      <td>7.246758e+06</td>\n",
              "      <td>7.593534e+06</td>\n",
              "      <td>7.206775e+06</td>\n",
              "      <td>2.793230e+08</td>\n",
              "      <td>5.445849e+06</td>\n",
              "      <td>2.767785e+08</td>\n",
              "      <td>5.461189e+06</td>\n",
              "      <td>3.639547e+07</td>\n",
              "      <td>3.148271e+08</td>\n",
              "    </tr>\n",
              "    <tr>\n",
              "      <th>50%</th>\n",
              "      <td>1.027400e+05</td>\n",
              "      <td>2.265000e+06</td>\n",
              "      <td>41559.500000</td>\n",
              "      <td>7.256742e+06</td>\n",
              "      <td>2.593314e+06</td>\n",
              "      <td>2.266259e+06</td>\n",
              "      <td>5.872975e+05</td>\n",
              "      <td>1.460547e+07</td>\n",
              "      <td>1.386731e+07</td>\n",
              "      <td>1.463991e+07</td>\n",
              "      <td>1.387814e+07</td>\n",
              "      <td>5.325190e+08</td>\n",
              "      <td>1.044654e+07</td>\n",
              "      <td>5.299489e+08</td>\n",
              "      <td>1.037673e+07</td>\n",
              "      <td>4.679387e+07</td>\n",
              "      <td>5.703677e+08</td>\n",
              "    </tr>\n",
              "    <tr>\n",
              "      <th>75%</th>\n",
              "      <td>1.727990e+05</td>\n",
              "      <td>3.267238e+06</td>\n",
              "      <td>59919.250000</td>\n",
              "      <td>1.043106e+07</td>\n",
              "      <td>3.743934e+06</td>\n",
              "      <td>3.250651e+06</td>\n",
              "      <td>8.525612e+05</td>\n",
              "      <td>2.112900e+07</td>\n",
              "      <td>1.997808e+07</td>\n",
              "      <td>2.113463e+07</td>\n",
              "      <td>2.000853e+07</td>\n",
              "      <td>7.669561e+08</td>\n",
              "      <td>1.508080e+07</td>\n",
              "      <td>7.653643e+08</td>\n",
              "      <td>1.502752e+07</td>\n",
              "      <td>6.573199e+07</td>\n",
              "      <td>8.073645e+08</td>\n",
              "    </tr>\n",
              "    <tr>\n",
              "      <th>max</th>\n",
              "      <td>1.855375e+07</td>\n",
              "      <td>4.274384e+07</td>\n",
              "      <td>630942.000000</td>\n",
              "      <td>1.161065e+08</td>\n",
              "      <td>3.608540e+07</td>\n",
              "      <td>3.360721e+07</td>\n",
              "      <td>9.013997e+06</td>\n",
              "      <td>2.378830e+08</td>\n",
              "      <td>2.150757e+08</td>\n",
              "      <td>1.994792e+08</td>\n",
              "      <td>2.032419e+08</td>\n",
              "      <td>7.622035e+09</td>\n",
              "      <td>1.547897e+08</td>\n",
              "      <td>8.025477e+09</td>\n",
              "      <td>1.529305e+08</td>\n",
              "      <td>7.295774e+08</td>\n",
              "      <td>8.156743e+09</td>\n",
              "    </tr>\n",
              "  </tbody>\n",
              "</table>\n",
              "</div>"
            ],
            "text/plain": [
              "             Dur.ms  SocialMediaDLBytes  ...  TotalULBytes  TotalDLBytes\n",
              "count  1.068560e+05        1.068560e+05  ...  1.068560e+05  1.068560e+05\n",
              "mean   1.461672e+05        2.502081e+06  ...  5.730942e+07  6.336527e+08\n",
              "std    1.863587e+05        1.887588e+06  ...  3.565765e+07  4.645551e+08\n",
              "min    7.142000e+03        1.200000e+01  ...  2.866892e+06  8.827082e+06\n",
              "25%    7.130800e+04        1.175902e+06  ...  3.639547e+07  3.148271e+08\n",
              "50%    1.027400e+05        2.265000e+06  ...  4.679387e+07  5.703677e+08\n",
              "75%    1.727990e+05        3.267238e+06  ...  6.573199e+07  8.073645e+08\n",
              "max    1.855375e+07        4.274384e+07  ...  7.295774e+08  8.156743e+09\n",
              "\n",
              "[8 rows x 17 columns]"
            ]
          },
          "metadata": {
            "tags": []
          },
          "execution_count": 154
        }
      ]
    },
    {
      "cell_type": "code",
      "metadata": {
        "id": "jwBVs2xR0xtw"
      },
      "source": [
        "#Taking care of the outliers in my dataset\n",
        "\n",
        "def format_float(value):\n",
        "    return f'{value:,.2f}'\n",
        "\n",
        "def convert_bytes_to_megabytes(new_df, bytes_data):\n",
        "    megabyte = 1*10e+5\n",
        "    new_df[bytes_data] = new_df[bytes_data] / megabyte\n",
        "    return new_df[bytes_data]\n",
        "\n",
        "def fix_outlier(new_df, column_list):\n",
        "    for column in column_list:\n",
        "        new_df[column] = np.where(new_df[column] > new_df[column].quantile(0.95), new_df[column].mean(),new_df[column])\n",
        "    \n",
        "    return new_df\n",
        "\n",
        "pd.options.display.float_format = format_float"
      ],
      "execution_count": 155,
      "outputs": []
    },
    {
      "cell_type": "code",
      "metadata": {
        "id": "srkypj1f98nu"
      },
      "source": [
        "new_df = fix_outlier(new_df, list(new_df.columns))"
      ],
      "execution_count": 156,
      "outputs": []
    },
    {
      "cell_type": "markdown",
      "metadata": {
        "id": "mbrAHFL5-aA5"
      },
      "source": [
        "**Non graphical univariate analysis**"
      ]
    },
    {
      "cell_type": "code",
      "metadata": {
        "colab": {
          "base_uri": "https://localhost:8080/"
        },
        "id": "u3nYaJSv-YfX",
        "outputId": "f1858c8a-e0e4-477b-d72e-e3cdae9f7cf7"
      },
      "source": [
        "new_df.columns.tolist()"
      ],
      "execution_count": 157,
      "outputs": [
        {
          "output_type": "execute_result",
          "data": {
            "text/plain": [
              "['Dur.ms',\n",
              " 'SocialMediaDLBytes',\n",
              " 'SocialMediaULBytes',\n",
              " 'GoogleDLBytes',\n",
              " 'GoogleULBytes',\n",
              " 'EmailDLBytes',\n",
              " 'EmailULBytes',\n",
              " 'YoutubeDLBytes',\n",
              " 'YoutubeULBytes',\n",
              " 'NetflixDLBytes',\n",
              " 'NetflixULBytes',\n",
              " 'GamingDLBytes',\n",
              " 'GamingULBytes',\n",
              " 'OtherDLBytes',\n",
              " 'OtherULBytes',\n",
              " 'TotalULBytes',\n",
              " 'TotalDLBytes']"
            ]
          },
          "metadata": {
            "tags": []
          },
          "execution_count": 157
        }
      ]
    },
    {
      "cell_type": "code",
      "metadata": {
        "colab": {
          "base_uri": "https://localhost:8080/"
        },
        "id": "shwHzGCL-YvR",
        "outputId": "916bfcfb-3073-4536-8d76-a8a9cfcde3d6"
      },
      "source": [
        "new_df.dtypes"
      ],
      "execution_count": 158,
      "outputs": [
        {
          "output_type": "execute_result",
          "data": {
            "text/plain": [
              "Dur.ms                float64\n",
              "SocialMediaDLBytes    float64\n",
              "SocialMediaULBytes    float64\n",
              "GoogleDLBytes         float64\n",
              "GoogleULBytes         float64\n",
              "EmailDLBytes          float64\n",
              "EmailULBytes          float64\n",
              "YoutubeDLBytes        float64\n",
              "YoutubeULBytes        float64\n",
              "NetflixDLBytes        float64\n",
              "NetflixULBytes        float64\n",
              "GamingDLBytes         float64\n",
              "GamingULBytes         float64\n",
              "OtherDLBytes          float64\n",
              "OtherULBytes          float64\n",
              "TotalULBytes          float64\n",
              "TotalDLBytes          float64\n",
              "dtype: object"
            ]
          },
          "metadata": {
            "tags": []
          },
          "execution_count": 158
        }
      ]
    },
    {
      "cell_type": "code",
      "metadata": {
        "colab": {
          "base_uri": "https://localhost:8080/"
        },
        "id": "KO1bXzfX-6s2",
        "outputId": "b5b9b39b-5635-4445-b602-ae04d0f0a75e"
      },
      "source": [
        "new_df.shape"
      ],
      "execution_count": 159,
      "outputs": [
        {
          "output_type": "execute_result",
          "data": {
            "text/plain": [
              "(106856, 17)"
            ]
          },
          "metadata": {
            "tags": []
          },
          "execution_count": 159
        }
      ]
    },
    {
      "cell_type": "markdown",
      "metadata": {
        "id": "jg01Eb5f_eEd"
      },
      "source": [
        "**Now follows Feature engineering**"
      ]
    },
    {
      "cell_type": "code",
      "metadata": {
        "colab": {
          "base_uri": "https://localhost:8080/",
          "height": 254
        },
        "id": "aTJniR5V-6mH",
        "outputId": "8a9bb2de-d25b-45ba-a1ae-eaccca429ddb"
      },
      "source": [
        "new_df['SocialMedia'] = new_df['SocialMediaDLBytes'] + new_df['SocialMediaULBytes']\n",
        "new_df['Google'] = new_df['GoogleDLBytes'] + new_df['GoogleULBytes']\n",
        "new_df['Email'] = new_df['EmailDLBytes'] + new_df['EmailULBytes']\n",
        "new_df['Youtube'] = new_df['YoutubeDLBytes'] + new_df['YoutubeULBytes']\n",
        "new_df['Netflix'] = new_df['NetflixDLBytes'] + new_df['NetflixULBytes']\n",
        "new_df['Gaming'] = new_df['GamingDLBytes'] + new_df['GamingULBytes']\n",
        "new_df['Other'] = new_df['OtherDLBytes'] + new_df['OtherULBytes']\n",
        "new_df['Total'] = new_df['TotalDLBytes'] + new_df['TotalULBytes']\n",
        "new_df.head()"
      ],
      "execution_count": 160,
      "outputs": [
        {
          "output_type": "execute_result",
          "data": {
            "text/html": [
              "<div>\n",
              "<style scoped>\n",
              "    .dataframe tbody tr th:only-of-type {\n",
              "        vertical-align: middle;\n",
              "    }\n",
              "\n",
              "    .dataframe tbody tr th {\n",
              "        vertical-align: top;\n",
              "    }\n",
              "\n",
              "    .dataframe thead th {\n",
              "        text-align: right;\n",
              "    }\n",
              "</style>\n",
              "<table border=\"1\" class=\"dataframe\">\n",
              "  <thead>\n",
              "    <tr style=\"text-align: right;\">\n",
              "      <th></th>\n",
              "      <th>Dur.ms</th>\n",
              "      <th>SocialMediaDLBytes</th>\n",
              "      <th>SocialMediaULBytes</th>\n",
              "      <th>GoogleDLBytes</th>\n",
              "      <th>GoogleULBytes</th>\n",
              "      <th>EmailDLBytes</th>\n",
              "      <th>EmailULBytes</th>\n",
              "      <th>YoutubeDLBytes</th>\n",
              "      <th>YoutubeULBytes</th>\n",
              "      <th>NetflixDLBytes</th>\n",
              "      <th>NetflixULBytes</th>\n",
              "      <th>GamingDLBytes</th>\n",
              "      <th>GamingULBytes</th>\n",
              "      <th>OtherDLBytes</th>\n",
              "      <th>OtherULBytes</th>\n",
              "      <th>TotalULBytes</th>\n",
              "      <th>TotalDLBytes</th>\n",
              "      <th>SocialMedia</th>\n",
              "      <th>Google</th>\n",
              "      <th>Email</th>\n",
              "      <th>Youtube</th>\n",
              "      <th>Netflix</th>\n",
              "      <th>Gaming</th>\n",
              "      <th>Other</th>\n",
              "      <th>Total</th>\n",
              "    </tr>\n",
              "    <tr>\n",
              "      <th>MSISDN/Number</th>\n",
              "      <th></th>\n",
              "      <th></th>\n",
              "      <th></th>\n",
              "      <th></th>\n",
              "      <th></th>\n",
              "      <th></th>\n",
              "      <th></th>\n",
              "      <th></th>\n",
              "      <th></th>\n",
              "      <th></th>\n",
              "      <th></th>\n",
              "      <th></th>\n",
              "      <th></th>\n",
              "      <th></th>\n",
              "      <th></th>\n",
              "      <th></th>\n",
              "      <th></th>\n",
              "      <th></th>\n",
              "      <th></th>\n",
              "      <th></th>\n",
              "      <th></th>\n",
              "      <th></th>\n",
              "      <th></th>\n",
              "      <th></th>\n",
              "      <th></th>\n",
              "    </tr>\n",
              "  </thead>\n",
              "  <tbody>\n",
              "    <tr>\n",
              "      <th>33,601,001,722.00</th>\n",
              "      <td>116,720.00</td>\n",
              "      <td>2,206,504.00</td>\n",
              "      <td>25,631.00</td>\n",
              "      <td>3,337,123.00</td>\n",
              "      <td>1,051,882.00</td>\n",
              "      <td>837,400.00</td>\n",
              "      <td>493,962.00</td>\n",
              "      <td>14,900,201.00</td>\n",
              "      <td>6,724,347.00</td>\n",
              "      <td>10,265,105.00</td>\n",
              "      <td>16,915,876.00</td>\n",
              "      <td>811,091,133.00</td>\n",
              "      <td>1,367,528.00</td>\n",
              "      <td>377,096,990.00</td>\n",
              "      <td>9,473,882.00</td>\n",
              "      <td>36,053,108.00</td>\n",
              "      <td>842,637,466.00</td>\n",
              "      <td>2,232,135.00</td>\n",
              "      <td>4,389,005.00</td>\n",
              "      <td>1,331,362.00</td>\n",
              "      <td>21,624,548.00</td>\n",
              "      <td>27,180,981.00</td>\n",
              "      <td>812,458,661.00</td>\n",
              "      <td>386,570,872.00</td>\n",
              "      <td>878,690,574.00</td>\n",
              "    </tr>\n",
              "    <tr>\n",
              "      <th>33,601,001,754.00</th>\n",
              "      <td>181,230.00</td>\n",
              "      <td>2,598,548.00</td>\n",
              "      <td>62,017.00</td>\n",
              "      <td>4,197,697.00</td>\n",
              "      <td>1,137,166.00</td>\n",
              "      <td>2,828,821.00</td>\n",
              "      <td>478,960.00</td>\n",
              "      <td>5,324,251.00</td>\n",
              "      <td>7,107,972.00</td>\n",
              "      <td>770,569.00</td>\n",
              "      <td>10,451,194.00</td>\n",
              "      <td>105,035,298.00</td>\n",
              "      <td>14,714,780.00</td>\n",
              "      <td>279,557,701.00</td>\n",
              "      <td>2,152,370.00</td>\n",
              "      <td>36,104,459.00</td>\n",
              "      <td>120,755,184.00</td>\n",
              "      <td>2,660,565.00</td>\n",
              "      <td>5,334,863.00</td>\n",
              "      <td>3,307,781.00</td>\n",
              "      <td>12,432,223.00</td>\n",
              "      <td>11,221,763.00</td>\n",
              "      <td>119,750,078.00</td>\n",
              "      <td>281,710,071.00</td>\n",
              "      <td>156,859,643.00</td>\n",
              "    </tr>\n",
              "    <tr>\n",
              "      <th>33,601,002,511.00</th>\n",
              "      <td>134,969.00</td>\n",
              "      <td>3,148,004.00</td>\n",
              "      <td>47,619.00</td>\n",
              "      <td>3,343,483.00</td>\n",
              "      <td>99,643.00</td>\n",
              "      <td>2,436,500.00</td>\n",
              "      <td>768,880.00</td>\n",
              "      <td>2,137,272.00</td>\n",
              "      <td>19,196,298.00</td>\n",
              "      <td>16,525,919.00</td>\n",
              "      <td>2,827,981.00</td>\n",
              "      <td>529,068,485.00</td>\n",
              "      <td>9,759,228.00</td>\n",
              "      <td>495,086,501.00</td>\n",
              "      <td>6,607,171.00</td>\n",
              "      <td>39,306,820.00</td>\n",
              "      <td>556,659,663.00</td>\n",
              "      <td>3,195,623.00</td>\n",
              "      <td>3,443,126.00</td>\n",
              "      <td>3,205,380.00</td>\n",
              "      <td>21,333,570.00</td>\n",
              "      <td>19,353,900.00</td>\n",
              "      <td>538,827,713.00</td>\n",
              "      <td>501,693,672.00</td>\n",
              "      <td>595,966,483.00</td>\n",
              "    </tr>\n",
              "    <tr>\n",
              "      <th>33,601,007,832.00</th>\n",
              "      <td>49,878.00</td>\n",
              "      <td>251,469.00</td>\n",
              "      <td>28,825.00</td>\n",
              "      <td>5,937,765.00</td>\n",
              "      <td>3,740,728.00</td>\n",
              "      <td>2,178,618.00</td>\n",
              "      <td>106,052.00</td>\n",
              "      <td>4,393,123.00</td>\n",
              "      <td>2,584,198.00</td>\n",
              "      <td>1,157,362.00</td>\n",
              "      <td>784,730.00</td>\n",
              "      <td>388,074,835.00</td>\n",
              "      <td>3,051,292.00</td>\n",
              "      <td>25,248,001.00</td>\n",
              "      <td>10,031,701.00</td>\n",
              "      <td>20,327,526.00</td>\n",
              "      <td>401,993,172.00</td>\n",
              "      <td>280,294.00</td>\n",
              "      <td>9,678,493.00</td>\n",
              "      <td>2,284,670.00</td>\n",
              "      <td>6,977,321.00</td>\n",
              "      <td>1,942,092.00</td>\n",
              "      <td>391,126,127.00</td>\n",
              "      <td>35,279,702.00</td>\n",
              "      <td>422,320,698.00</td>\n",
              "    </tr>\n",
              "    <tr>\n",
              "      <th>33,601,008,617.00</th>\n",
              "      <td>37,104.00</td>\n",
              "      <td>2,861,230.00</td>\n",
              "      <td>51,312.00</td>\n",
              "      <td>13,728,668.00</td>\n",
              "      <td>4,770,948.00</td>\n",
              "      <td>2,247,808.00</td>\n",
              "      <td>1,057,661.00</td>\n",
              "      <td>10,339,971.00</td>\n",
              "      <td>31,193,031.00</td>\n",
              "      <td>24,971,647.00</td>\n",
              "      <td>24,230,077.00</td>\n",
              "      <td>1,308,981,093.00</td>\n",
              "      <td>5,816,727.00</td>\n",
              "      <td>777,643,713.00</td>\n",
              "      <td>27,160,771.00</td>\n",
              "      <td>94,280,527.00</td>\n",
              "      <td>1,363,130,417.00</td>\n",
              "      <td>2,912,542.00</td>\n",
              "      <td>18,499,616.00</td>\n",
              "      <td>3,305,469.00</td>\n",
              "      <td>41,533,002.00</td>\n",
              "      <td>49,201,724.00</td>\n",
              "      <td>1,314,797,820.00</td>\n",
              "      <td>804,804,484.00</td>\n",
              "      <td>1,457,410,944.00</td>\n",
              "    </tr>\n",
              "  </tbody>\n",
              "</table>\n",
              "</div>"
            ],
            "text/plain": [
              "                      Dur.ms  ...            Total\n",
              "MSISDN/Number                 ...                 \n",
              "33,601,001,722.00 116,720.00  ...   878,690,574.00\n",
              "33,601,001,754.00 181,230.00  ...   156,859,643.00\n",
              "33,601,002,511.00 134,969.00  ...   595,966,483.00\n",
              "33,601,007,832.00  49,878.00  ...   422,320,698.00\n",
              "33,601,008,617.00  37,104.00  ... 1,457,410,944.00\n",
              "\n",
              "[5 rows x 25 columns]"
            ]
          },
          "metadata": {
            "tags": []
          },
          "execution_count": 160
        }
      ]
    },
    {
      "cell_type": "code",
      "metadata": {
        "colab": {
          "base_uri": "https://localhost:8080/",
          "height": 234
        },
        "id": "FgQFEA2_-6Yy",
        "outputId": "cb0fdd40-d710-4a45-fc0c-13138a903360"
      },
      "source": [
        "new_data = new_df[['SocialMedia', 'Google', 'Email', 'Youtube', 'Netflix', 'Gaming', 'Other', 'Total']]\n",
        "new_data.head()"
      ],
      "execution_count": 161,
      "outputs": [
        {
          "output_type": "execute_result",
          "data": {
            "text/html": [
              "<div>\n",
              "<style scoped>\n",
              "    .dataframe tbody tr th:only-of-type {\n",
              "        vertical-align: middle;\n",
              "    }\n",
              "\n",
              "    .dataframe tbody tr th {\n",
              "        vertical-align: top;\n",
              "    }\n",
              "\n",
              "    .dataframe thead th {\n",
              "        text-align: right;\n",
              "    }\n",
              "</style>\n",
              "<table border=\"1\" class=\"dataframe\">\n",
              "  <thead>\n",
              "    <tr style=\"text-align: right;\">\n",
              "      <th></th>\n",
              "      <th>SocialMedia</th>\n",
              "      <th>Google</th>\n",
              "      <th>Email</th>\n",
              "      <th>Youtube</th>\n",
              "      <th>Netflix</th>\n",
              "      <th>Gaming</th>\n",
              "      <th>Other</th>\n",
              "      <th>Total</th>\n",
              "    </tr>\n",
              "    <tr>\n",
              "      <th>MSISDN/Number</th>\n",
              "      <th></th>\n",
              "      <th></th>\n",
              "      <th></th>\n",
              "      <th></th>\n",
              "      <th></th>\n",
              "      <th></th>\n",
              "      <th></th>\n",
              "      <th></th>\n",
              "    </tr>\n",
              "  </thead>\n",
              "  <tbody>\n",
              "    <tr>\n",
              "      <th>33,601,001,722.00</th>\n",
              "      <td>2,232,135.00</td>\n",
              "      <td>4,389,005.00</td>\n",
              "      <td>1,331,362.00</td>\n",
              "      <td>21,624,548.00</td>\n",
              "      <td>27,180,981.00</td>\n",
              "      <td>812,458,661.00</td>\n",
              "      <td>386,570,872.00</td>\n",
              "      <td>878,690,574.00</td>\n",
              "    </tr>\n",
              "    <tr>\n",
              "      <th>33,601,001,754.00</th>\n",
              "      <td>2,660,565.00</td>\n",
              "      <td>5,334,863.00</td>\n",
              "      <td>3,307,781.00</td>\n",
              "      <td>12,432,223.00</td>\n",
              "      <td>11,221,763.00</td>\n",
              "      <td>119,750,078.00</td>\n",
              "      <td>281,710,071.00</td>\n",
              "      <td>156,859,643.00</td>\n",
              "    </tr>\n",
              "    <tr>\n",
              "      <th>33,601,002,511.00</th>\n",
              "      <td>3,195,623.00</td>\n",
              "      <td>3,443,126.00</td>\n",
              "      <td>3,205,380.00</td>\n",
              "      <td>21,333,570.00</td>\n",
              "      <td>19,353,900.00</td>\n",
              "      <td>538,827,713.00</td>\n",
              "      <td>501,693,672.00</td>\n",
              "      <td>595,966,483.00</td>\n",
              "    </tr>\n",
              "    <tr>\n",
              "      <th>33,601,007,832.00</th>\n",
              "      <td>280,294.00</td>\n",
              "      <td>9,678,493.00</td>\n",
              "      <td>2,284,670.00</td>\n",
              "      <td>6,977,321.00</td>\n",
              "      <td>1,942,092.00</td>\n",
              "      <td>391,126,127.00</td>\n",
              "      <td>35,279,702.00</td>\n",
              "      <td>422,320,698.00</td>\n",
              "    </tr>\n",
              "    <tr>\n",
              "      <th>33,601,008,617.00</th>\n",
              "      <td>2,912,542.00</td>\n",
              "      <td>18,499,616.00</td>\n",
              "      <td>3,305,469.00</td>\n",
              "      <td>41,533,002.00</td>\n",
              "      <td>49,201,724.00</td>\n",
              "      <td>1,314,797,820.00</td>\n",
              "      <td>804,804,484.00</td>\n",
              "      <td>1,457,410,944.00</td>\n",
              "    </tr>\n",
              "  </tbody>\n",
              "</table>\n",
              "</div>"
            ],
            "text/plain": [
              "                   SocialMedia        Google  ...          Other            Total\n",
              "MSISDN/Number                                 ...                                \n",
              "33,601,001,722.00 2,232,135.00  4,389,005.00  ... 386,570,872.00   878,690,574.00\n",
              "33,601,001,754.00 2,660,565.00  5,334,863.00  ... 281,710,071.00   156,859,643.00\n",
              "33,601,002,511.00 3,195,623.00  3,443,126.00  ... 501,693,672.00   595,966,483.00\n",
              "33,601,007,832.00   280,294.00  9,678,493.00  ...  35,279,702.00   422,320,698.00\n",
              "33,601,008,617.00 2,912,542.00 18,499,616.00  ... 804,804,484.00 1,457,410,944.00\n",
              "\n",
              "[5 rows x 8 columns]"
            ]
          },
          "metadata": {
            "tags": []
          },
          "execution_count": 161
        }
      ]
    },
    {
      "cell_type": "markdown",
      "metadata": {
        "id": "bdSwb6mf7FkM"
      },
      "source": [
        "**Plotting univariate histograms**"
      ]
    },
    {
      "cell_type": "code",
      "metadata": {
        "id": "uIAKbkAT5eEc",
        "colab": {
          "base_uri": "https://localhost:8080/",
          "height": 417
        },
        "outputId": "a5966de9-b5f6-4e5b-da67-a46652abe01a"
      },
      "source": [
        "# Total data volumes (DL + UL)\n",
        "\n",
        "Totaldata = df_clean[\"TotalDLBytes\"] + df_clean[\"TotalULBytes\"]\n",
        "df_clean[\"Totaldata\"] = Totaldata\n",
        "df_clean[['TotalDLBytes', 'TotalULBytes', 'Totaldata']]"
      ],
      "execution_count": 35,
      "outputs": [
        {
          "output_type": "execute_result",
          "data": {
            "text/html": [
              "<div>\n",
              "<style scoped>\n",
              "    .dataframe tbody tr th:only-of-type {\n",
              "        vertical-align: middle;\n",
              "    }\n",
              "\n",
              "    .dataframe tbody tr th {\n",
              "        vertical-align: top;\n",
              "    }\n",
              "\n",
              "    .dataframe thead th {\n",
              "        text-align: right;\n",
              "    }\n",
              "</style>\n",
              "<table border=\"1\" class=\"dataframe\">\n",
              "  <thead>\n",
              "    <tr style=\"text-align: right;\">\n",
              "      <th></th>\n",
              "      <th>TotalDLBytes</th>\n",
              "      <th>TotalULBytes</th>\n",
              "      <th>Totaldata</th>\n",
              "    </tr>\n",
              "  </thead>\n",
              "  <tbody>\n",
              "    <tr>\n",
              "      <th>0</th>\n",
              "      <td>308879636.0</td>\n",
              "      <td>36749741.0</td>\n",
              "      <td>345629377.0</td>\n",
              "    </tr>\n",
              "    <tr>\n",
              "      <th>1</th>\n",
              "      <td>653384965.0</td>\n",
              "      <td>53800391.0</td>\n",
              "      <td>707185356.0</td>\n",
              "    </tr>\n",
              "    <tr>\n",
              "      <th>2</th>\n",
              "      <td>279807335.0</td>\n",
              "      <td>27883638.0</td>\n",
              "      <td>307690973.0</td>\n",
              "    </tr>\n",
              "    <tr>\n",
              "      <th>3</th>\n",
              "      <td>846028530.0</td>\n",
              "      <td>43324218.0</td>\n",
              "      <td>889352748.0</td>\n",
              "    </tr>\n",
              "    <tr>\n",
              "      <th>4</th>\n",
              "      <td>569138589.0</td>\n",
              "      <td>38542814.0</td>\n",
              "      <td>607681403.0</td>\n",
              "    </tr>\n",
              "    <tr>\n",
              "      <th>...</th>\n",
              "      <td>...</td>\n",
              "      <td>...</td>\n",
              "      <td>...</td>\n",
              "    </tr>\n",
              "    <tr>\n",
              "      <th>149996</th>\n",
              "      <td>574175259.0</td>\n",
              "      <td>57628851.0</td>\n",
              "      <td>631804110.0</td>\n",
              "    </tr>\n",
              "    <tr>\n",
              "      <th>149997</th>\n",
              "      <td>666648844.0</td>\n",
              "      <td>39135081.0</td>\n",
              "      <td>705783925.0</td>\n",
              "    </tr>\n",
              "    <tr>\n",
              "      <th>149998</th>\n",
              "      <td>592786405.0</td>\n",
              "      <td>34912224.0</td>\n",
              "      <td>627698629.0</td>\n",
              "    </tr>\n",
              "    <tr>\n",
              "      <th>149999</th>\n",
              "      <td>371895920.0</td>\n",
              "      <td>29626096.0</td>\n",
              "      <td>401522016.0</td>\n",
              "    </tr>\n",
              "    <tr>\n",
              "      <th>150000</th>\n",
              "      <td>NaN</td>\n",
              "      <td>NaN</td>\n",
              "      <td>NaN</td>\n",
              "    </tr>\n",
              "  </tbody>\n",
              "</table>\n",
              "<p>150001 rows × 3 columns</p>\n",
              "</div>"
            ],
            "text/plain": [
              "        TotalDLBytes  TotalULBytes    Totaldata\n",
              "0        308879636.0    36749741.0  345629377.0\n",
              "1        653384965.0    53800391.0  707185356.0\n",
              "2        279807335.0    27883638.0  307690973.0\n",
              "3        846028530.0    43324218.0  889352748.0\n",
              "4        569138589.0    38542814.0  607681403.0\n",
              "...              ...           ...          ...\n",
              "149996   574175259.0    57628851.0  631804110.0\n",
              "149997   666648844.0    39135081.0  705783925.0\n",
              "149998   592786405.0    34912224.0  627698629.0\n",
              "149999   371895920.0    29626096.0  401522016.0\n",
              "150000           NaN           NaN          NaN\n",
              "\n",
              "[150001 rows x 3 columns]"
            ]
          },
          "metadata": {
            "tags": []
          },
          "execution_count": 35
        }
      ]
    },
    {
      "cell_type": "markdown",
      "metadata": {
        "id": "3WfIU4iZUMAX"
      },
      "source": [
        "**Scatter plot**"
      ]
    },
    {
      "cell_type": "code",
      "metadata": {
        "colab": {
          "base_uri": "https://localhost:8080/",
          "height": 308
        },
        "id": "Yfpla7neLKZY",
        "outputId": "0a61621d-69ca-4366-ac23-5e0635d042ab"
      },
      "source": [
        "df_clean[df_clean['Totaldata'] > 50].sample(100).plot.scatter(x='Totaldata', y='SocialMediaDLBytes')"
      ],
      "execution_count": 36,
      "outputs": [
        {
          "output_type": "execute_result",
          "data": {
            "text/plain": [
              "<matplotlib.axes._subplots.AxesSubplot at 0x7fa84b5376d0>"
            ]
          },
          "metadata": {
            "tags": []
          },
          "execution_count": 36
        },
        {
          "output_type": "display_data",
          "data": {
            "image/png": "[encoded data removed]",
            "text/plain": [
              "<Figure size 432x288 with 1 Axes>"
            ]
          },
          "metadata": {
            "tags": [],
            "needs_background": "light"
          }
        }
      ]
    },
    {
      "cell_type": "code",
      "metadata": {
        "id": "uu25B57e-0Hc"
      },
      "source": [
        ""
      ],
      "execution_count": null,
      "outputs": []
    },
    {
      "cell_type": "code",
      "metadata": {
        "id": "Dw4nxEaV_OOQ"
      },
      "source": [
        ""
      ],
      "execution_count": null,
      "outputs": []
    },
    {
      "cell_type": "code",
      "metadata": {
        "id": "xB3wxTMo-0E4"
      },
      "source": [
        "df_clean.groupby('BearerId').aggregate({'Dur.ms': 'min', 'TotalULBytes': 'min', 'TotalDLBytes': 'min'})"
      ],
      "execution_count": null,
      "outputs": []
    },
    {
      "cell_type": "code",
      "metadata": {
        "colab": {
          "base_uri": "https://localhost:8080/",
          "height": 447
        },
        "id": "rBmu1yRZkMc2",
        "outputId": "5267269e-6a3f-4379-cff8-5f36975fa2d9"
      },
      "source": [
        "\n",
        "data_usage = df_clean[['MSISDN/Number','Dur.ms.1', 'TotalDLBytes', 'TotalULBytes']]\n",
        "data_usage.groupby([\"MSISDN/Number\"]).agg('sum')"
      ],
      "execution_count": 38,
      "outputs": [
        {
          "output_type": "execute_result",
          "data": {
            "text/html": [
              "<div>\n",
              "<style scoped>\n",
              "    .dataframe tbody tr th:only-of-type {\n",
              "        vertical-align: middle;\n",
              "    }\n",
              "\n",
              "    .dataframe tbody tr th {\n",
              "        vertical-align: top;\n",
              "    }\n",
              "\n",
              "    .dataframe thead th {\n",
              "        text-align: right;\n",
              "    }\n",
              "</style>\n",
              "<table border=\"1\" class=\"dataframe\">\n",
              "  <thead>\n",
              "    <tr style=\"text-align: right;\">\n",
              "      <th></th>\n",
              "      <th>Dur.ms.1</th>\n",
              "      <th>TotalDLBytes</th>\n",
              "      <th>TotalULBytes</th>\n",
              "    </tr>\n",
              "    <tr>\n",
              "      <th>MSISDN/Number</th>\n",
              "      <th></th>\n",
              "      <th></th>\n",
              "      <th></th>\n",
              "    </tr>\n",
              "  </thead>\n",
              "  <tbody>\n",
              "    <tr>\n",
              "      <th>3.360100e+10</th>\n",
              "      <td>116720140.0</td>\n",
              "      <td>8.426375e+08</td>\n",
              "      <td>36053108.0</td>\n",
              "    </tr>\n",
              "    <tr>\n",
              "      <th>3.360100e+10</th>\n",
              "      <td>181230963.0</td>\n",
              "      <td>1.207552e+08</td>\n",
              "      <td>36104459.0</td>\n",
              "    </tr>\n",
              "    <tr>\n",
              "      <th>3.360100e+10</th>\n",
              "      <td>134969374.0</td>\n",
              "      <td>5.566597e+08</td>\n",
              "      <td>39306820.0</td>\n",
              "    </tr>\n",
              "    <tr>\n",
              "      <th>3.360101e+10</th>\n",
              "      <td>49878024.0</td>\n",
              "      <td>4.019932e+08</td>\n",
              "      <td>20327526.0</td>\n",
              "    </tr>\n",
              "    <tr>\n",
              "      <th>3.360101e+10</th>\n",
              "      <td>37104453.0</td>\n",
              "      <td>1.363130e+09</td>\n",
              "      <td>94280527.0</td>\n",
              "    </tr>\n",
              "    <tr>\n",
              "      <th>...</th>\n",
              "      <td>...</td>\n",
              "      <td>...</td>\n",
              "      <td>...</td>\n",
              "    </tr>\n",
              "    <tr>\n",
              "      <th>3.379000e+10</th>\n",
              "      <td>8810688.0</td>\n",
              "      <td>6.879252e+08</td>\n",
              "      <td>26716429.0</td>\n",
              "    </tr>\n",
              "    <tr>\n",
              "      <th>3.379000e+10</th>\n",
              "      <td>140988659.0</td>\n",
              "      <td>4.445751e+08</td>\n",
              "      <td>35732243.0</td>\n",
              "    </tr>\n",
              "    <tr>\n",
              "      <th>3.197021e+12</th>\n",
              "      <td>877385325.0</td>\n",
              "      <td>1.948281e+08</td>\n",
              "      <td>37295915.0</td>\n",
              "    </tr>\n",
              "    <tr>\n",
              "      <th>3.370000e+14</th>\n",
              "      <td>253030201.0</td>\n",
              "      <td>5.396350e+08</td>\n",
              "      <td>56652839.0</td>\n",
              "    </tr>\n",
              "    <tr>\n",
              "      <th>8.823971e+14</th>\n",
              "      <td>869844200.0</td>\n",
              "      <td>7.869760e+07</td>\n",
              "      <td>60456049.0</td>\n",
              "    </tr>\n",
              "  </tbody>\n",
              "</table>\n",
              "<p>106856 rows × 3 columns</p>\n",
              "</div>"
            ],
            "text/plain": [
              "                  Dur.ms.1  TotalDLBytes  TotalULBytes\n",
              "MSISDN/Number                                         \n",
              "3.360100e+10   116720140.0  8.426375e+08    36053108.0\n",
              "3.360100e+10   181230963.0  1.207552e+08    36104459.0\n",
              "3.360100e+10   134969374.0  5.566597e+08    39306820.0\n",
              "3.360101e+10    49878024.0  4.019932e+08    20327526.0\n",
              "3.360101e+10    37104453.0  1.363130e+09    94280527.0\n",
              "...                    ...           ...           ...\n",
              "3.379000e+10     8810688.0  6.879252e+08    26716429.0\n",
              "3.379000e+10   140988659.0  4.445751e+08    35732243.0\n",
              "3.197021e+12   877385325.0  1.948281e+08    37295915.0\n",
              "3.370000e+14   253030201.0  5.396350e+08    56652839.0\n",
              "8.823971e+14   869844200.0  7.869760e+07    60456049.0\n",
              "\n",
              "[106856 rows x 3 columns]"
            ]
          },
          "metadata": {
            "tags": []
          },
          "execution_count": 38
        }
      ]
    },
    {
      "cell_type": "code",
      "metadata": {
        "id": "jGbbpPpelaUq",
        "colab": {
          "base_uri": "https://localhost:8080/",
          "height": 467
        },
        "outputId": "3131c2cd-d620-4b3d-d39c-7a8d4d7b7baa"
      },
      "source": [
        "different_application_data = df_clean[['BearerId', 'MSISDN/Number', 'Total_Google_data', 'Total_Youtube_data', \"Total_Netflix_data\", \"Total_Email_data\", \"Total_Gaming_data\", \"Total_Social_Media_data\", \"Total_Other_data\"]]\n",
        "different_application_data.groupby([\"MSISDN/Number\"]).agg('sum')"
      ],
      "execution_count": 50,
      "outputs": [
        {
          "output_type": "execute_result",
          "data": {
            "text/html": [
              "<div>\n",
              "<style scoped>\n",
              "    .dataframe tbody tr th:only-of-type {\n",
              "        vertical-align: middle;\n",
              "    }\n",
              "\n",
              "    .dataframe tbody tr th {\n",
              "        vertical-align: top;\n",
              "    }\n",
              "\n",
              "    .dataframe thead th {\n",
              "        text-align: right;\n",
              "    }\n",
              "</style>\n",
              "<table border=\"1\" class=\"dataframe\">\n",
              "  <thead>\n",
              "    <tr style=\"text-align: right;\">\n",
              "      <th></th>\n",
              "      <th>Total_Google_data</th>\n",
              "      <th>Total_Youtube_data</th>\n",
              "      <th>Total_Netflix_data</th>\n",
              "      <th>Total_Email_data</th>\n",
              "      <th>Total_Gaming_data</th>\n",
              "      <th>Total_Social_Media_data</th>\n",
              "      <th>Total_Other_data</th>\n",
              "    </tr>\n",
              "    <tr>\n",
              "      <th>MSISDN/Number</th>\n",
              "      <th></th>\n",
              "      <th></th>\n",
              "      <th></th>\n",
              "      <th></th>\n",
              "      <th></th>\n",
              "      <th></th>\n",
              "      <th></th>\n",
              "    </tr>\n",
              "  </thead>\n",
              "  <tbody>\n",
              "    <tr>\n",
              "      <th>3.360100e+10</th>\n",
              "      <td>4389005.0</td>\n",
              "      <td>21624548.0</td>\n",
              "      <td>27180981.0</td>\n",
              "      <td>1331362.0</td>\n",
              "      <td>8.124587e+08</td>\n",
              "      <td>2232135.0</td>\n",
              "      <td>386570872.0</td>\n",
              "    </tr>\n",
              "    <tr>\n",
              "      <th>3.360100e+10</th>\n",
              "      <td>5334863.0</td>\n",
              "      <td>12432223.0</td>\n",
              "      <td>11221763.0</td>\n",
              "      <td>3307781.0</td>\n",
              "      <td>1.197501e+08</td>\n",
              "      <td>2660565.0</td>\n",
              "      <td>281710071.0</td>\n",
              "    </tr>\n",
              "    <tr>\n",
              "      <th>3.360100e+10</th>\n",
              "      <td>3443126.0</td>\n",
              "      <td>21333570.0</td>\n",
              "      <td>19353900.0</td>\n",
              "      <td>3205380.0</td>\n",
              "      <td>5.388277e+08</td>\n",
              "      <td>3195623.0</td>\n",
              "      <td>501693672.0</td>\n",
              "    </tr>\n",
              "    <tr>\n",
              "      <th>3.360101e+10</th>\n",
              "      <td>9678493.0</td>\n",
              "      <td>6977321.0</td>\n",
              "      <td>1942092.0</td>\n",
              "      <td>2284670.0</td>\n",
              "      <td>3.911261e+08</td>\n",
              "      <td>280294.0</td>\n",
              "      <td>35279702.0</td>\n",
              "    </tr>\n",
              "    <tr>\n",
              "      <th>3.360101e+10</th>\n",
              "      <td>18499616.0</td>\n",
              "      <td>41533002.0</td>\n",
              "      <td>49201724.0</td>\n",
              "      <td>3305469.0</td>\n",
              "      <td>1.314798e+09</td>\n",
              "      <td>2912542.0</td>\n",
              "      <td>804804484.0</td>\n",
              "    </tr>\n",
              "    <tr>\n",
              "      <th>...</th>\n",
              "      <td>...</td>\n",
              "      <td>...</td>\n",
              "      <td>...</td>\n",
              "      <td>...</td>\n",
              "      <td>...</td>\n",
              "      <td>...</td>\n",
              "      <td>...</td>\n",
              "    </tr>\n",
              "    <tr>\n",
              "      <th>3.379000e+10</th>\n",
              "      <td>7531269.0</td>\n",
              "      <td>26647843.0</td>\n",
              "      <td>14902538.0</td>\n",
              "      <td>1006915.0</td>\n",
              "      <td>6.603614e+08</td>\n",
              "      <td>300183.0</td>\n",
              "      <td>295282817.0</td>\n",
              "    </tr>\n",
              "    <tr>\n",
              "      <th>3.379000e+10</th>\n",
              "      <td>5429705.0</td>\n",
              "      <td>19851572.0</td>\n",
              "      <td>8531060.0</td>\n",
              "      <td>2514097.0</td>\n",
              "      <td>4.370033e+08</td>\n",
              "      <td>498569.0</td>\n",
              "      <td>211115113.0</td>\n",
              "    </tr>\n",
              "    <tr>\n",
              "      <th>3.197021e+12</th>\n",
              "      <td>10438660.0</td>\n",
              "      <td>11959905.0</td>\n",
              "      <td>26592300.0</td>\n",
              "      <td>1520771.0</td>\n",
              "      <td>1.780487e+08</td>\n",
              "      <td>715224.0</td>\n",
              "      <td>470526473.0</td>\n",
              "    </tr>\n",
              "    <tr>\n",
              "      <th>3.370000e+14</th>\n",
              "      <td>9830617.0</td>\n",
              "      <td>36734940.0</td>\n",
              "      <td>30905042.0</td>\n",
              "      <td>3318582.0</td>\n",
              "      <td>5.101427e+08</td>\n",
              "      <td>521566.0</td>\n",
              "      <td>149188439.0</td>\n",
              "    </tr>\n",
              "    <tr>\n",
              "      <th>8.823971e+14</th>\n",
              "      <td>9218647.0</td>\n",
              "      <td>40940710.0</td>\n",
              "      <td>28846230.0</td>\n",
              "      <td>3330974.0</td>\n",
              "      <td>4.307026e+07</td>\n",
              "      <td>1546088.0</td>\n",
              "      <td>401360457.0</td>\n",
              "    </tr>\n",
              "  </tbody>\n",
              "</table>\n",
              "<p>106856 rows × 7 columns</p>\n",
              "</div>"
            ],
            "text/plain": [
              "               Total_Google_data  ...  Total_Other_data\n",
              "MSISDN/Number                     ...                  \n",
              "3.360100e+10           4389005.0  ...       386570872.0\n",
              "3.360100e+10           5334863.0  ...       281710071.0\n",
              "3.360100e+10           3443126.0  ...       501693672.0\n",
              "3.360101e+10           9678493.0  ...        35279702.0\n",
              "3.360101e+10          18499616.0  ...       804804484.0\n",
              "...                          ...  ...               ...\n",
              "3.379000e+10           7531269.0  ...       295282817.0\n",
              "3.379000e+10           5429705.0  ...       211115113.0\n",
              "3.197021e+12          10438660.0  ...       470526473.0\n",
              "3.370000e+14           9830617.0  ...       149188439.0\n",
              "8.823971e+14           9218647.0  ...       401360457.0\n",
              "\n",
              "[106856 rows x 7 columns]"
            ]
          },
          "metadata": {
            "tags": []
          },
          "execution_count": 50
        }
      ]
    },
    {
      "cell_type": "code",
      "metadata": {
        "id": "aTdZGcU_mxWD"
      },
      "source": [
        ""
      ],
      "execution_count": null,
      "outputs": []
    },
    {
      "cell_type": "markdown",
      "metadata": {
        "id": "tRFHI9coMut7"
      },
      "source": [
        "Exploratory Data Anaysis"
      ]
    },
    {
      "cell_type": "code",
      "metadata": {
        "id": "tSbDsTZ5laOq",
        "colab": {
          "base_uri": "https://localhost:8080/",
          "height": 294
        },
        "outputId": "c2494033-20f2-4c35-b967-610e37aa5b80"
      },
      "source": [
        "#looking for outliers in my cleaned data set\n",
        "df_clean.boxplot(column=['Dur.ms.1', \"TotalDLBytes\",\"TotalULBytes\"])"
      ],
      "execution_count": 52,
      "outputs": [
        {
          "output_type": "execute_result",
          "data": {
            "text/plain": [
              "<matplotlib.axes._subplots.AxesSubplot at 0x7fa858b71050>"
            ]
          },
          "metadata": {
            "tags": []
          },
          "execution_count": 52
        },
        {
          "output_type": "display_data",
          "data": {
            "image/png": "[encoded data removed]",
            "text/plain": [
              "<Figure size 432x288 with 1 Axes>"
            ]
          },
          "metadata": {
            "tags": [],
            "needs_background": "light"
          }
        }
      ]
    },
    {
      "cell_type": "code",
      "metadata": {
        "id": "4bd-yml3laKo"
      },
      "source": [
        ""
      ],
      "execution_count": null,
      "outputs": []
    },
    {
      "cell_type": "code",
      "metadata": {
        "id": "G7kr6zpMlaE0"
      },
      "source": [
        ""
      ],
      "execution_count": null,
      "outputs": []
    },
    {
      "cell_type": "code",
      "metadata": {
        "id": "-T0bXHwrlaBk"
      },
      "source": [
        ""
      ],
      "execution_count": null,
      "outputs": []
    },
    {
      "cell_type": "code",
      "metadata": {
        "colab": {
          "base_uri": "https://localhost:8080/"
        },
        "id": "g_U_k7iPLqYl",
        "outputId": "01845461-14b7-4d44-cc39-3be4db747036"
      },
      "source": [
        "# Describe all  relevant variables and associated data types (slide). \n",
        "df_clean.info()\n"
      ],
      "execution_count": 53,
      "outputs": [
        {
          "output_type": "stream",
          "text": [
            "<class 'pandas.core.frame.DataFrame'>\n",
            "RangeIndex: 150001 entries, 0 to 150000\n",
            "Data columns (total 53 columns):\n",
            " #   Column                   Non-Null Count   Dtype         \n",
            "---  ------                   --------------   -----         \n",
            " 0   BearerId                 150001 non-null  object        \n",
            " 1   Start                    150000 non-null  datetime64[ns]\n",
            " 2   Startms                  150000 non-null  float64       \n",
            " 3   End                      150000 non-null  datetime64[ns]\n",
            " 4   Endms                    150000 non-null  float64       \n",
            " 5   Dur.ms                   150000 non-null  float64       \n",
            " 6   IMSI                     149431 non-null  float64       \n",
            " 7   MSISDN/Number            148935 non-null  float64       \n",
            " 8   IMEI                     149429 non-null  float64       \n",
            " 9   LastLocationName         148848 non-null  object        \n",
            " 10  AvgRTTDLms               122172 non-null  float64       \n",
            " 11  AvgRTTULms               122189 non-null  float64       \n",
            " 12  AvgBearerTPDLkbps        150000 non-null  float64       \n",
            " 13  AvgBearerTPULkbps        150000 non-null  float64       \n",
            " 14  DLTP<50Kbps%             149247 non-null  float64       \n",
            " 15  50Kbps<DLTP<250Kbps%     149247 non-null  float64       \n",
            " 16  250Kbps<DLTP<1Mbps%      149247 non-null  float64       \n",
            " 17  DLTP>1Mbps%              149247 non-null  float64       \n",
            " 18  ULTP<10Kbps%             149209 non-null  float64       \n",
            " 19  10Kbps<ULTP<50Kbps%      149209 non-null  float64       \n",
            " 20  50Kbps<ULTP<300Kbps%     149209 non-null  float64       \n",
            " 21  ULTP>300Kbps%            149209 non-null  float64       \n",
            " 22  ActivityDurationDLms     150000 non-null  float64       \n",
            " 23  ActivityDurationULms     150000 non-null  float64       \n",
            " 24  Dur.ms.1                 150000 non-null  float64       \n",
            " 25  HandsetManufacturer      149429 non-null  object        \n",
            " 26  HandsetType              149429 non-null  object        \n",
            " 27  NbofsecwithVolDL<6250B   149246 non-null  float64       \n",
            " 28  NbofsecwithVolUL<1250B   149208 non-null  float64       \n",
            " 29  SocialMediaDLBytes       150001 non-null  float64       \n",
            " 30  SocialMediaULBytes       150001 non-null  float64       \n",
            " 31  GoogleDLBytes            150001 non-null  float64       \n",
            " 32  GoogleULBytes            150001 non-null  float64       \n",
            " 33  EmailDLBytes             150001 non-null  float64       \n",
            " 34  EmailULBytes             150001 non-null  float64       \n",
            " 35  YoutubeDLBytes           150001 non-null  float64       \n",
            " 36  YoutubeULBytes           150001 non-null  float64       \n",
            " 37  NetflixDLBytes           150001 non-null  float64       \n",
            " 38  NetflixULBytes           150001 non-null  float64       \n",
            " 39  GamingDLBytes            150001 non-null  float64       \n",
            " 40  GamingULBytes            150001 non-null  float64       \n",
            " 41  OtherDLBytes             150001 non-null  float64       \n",
            " 42  OtherULBytes             150001 non-null  float64       \n",
            " 43  TotalULBytes             150000 non-null  float64       \n",
            " 44  TotalDLBytes             150000 non-null  float64       \n",
            " 45  Totaldata                150000 non-null  float64       \n",
            " 46  Total_Social_Media_data  150001 non-null  float64       \n",
            " 47  Total_Google_data        150001 non-null  float64       \n",
            " 48  Total_Email_data         150001 non-null  float64       \n",
            " 49  Total_Youtube_data       150001 non-null  float64       \n",
            " 50  Total_Netflix_data       150001 non-null  float64       \n",
            " 51  Total_Gaming_data        150001 non-null  float64       \n",
            " 52  Total_Other_data         150001 non-null  float64       \n",
            "dtypes: datetime64[ns](2), float64(47), object(4)\n",
            "memory usage: 60.7+ MB\n"
          ],
          "name": "stdout"
        }
      ]
    },
    {
      "cell_type": "code",
      "metadata": {
        "id": "nBJR74rtLqOS",
        "colab": {
          "base_uri": "https://localhost:8080/",
          "height": 312
        },
        "outputId": "7082deb7-76ba-4494-92fe-d4552075bd5f"
      },
      "source": [
        "\n",
        "\n",
        "\n",
        "# plotting Histogram for Duration\n",
        "\n",
        "df_clean[\"Dur.ms.1\"].hist(bins = 50)\n",
        "plt.title(\"Duration Histogram in ms\")"
      ],
      "execution_count": 60,
      "outputs": [
        {
          "output_type": "execute_result",
          "data": {
            "text/plain": [
              "Text(0.5, 1.0, 'Duration Histogram in ms')"
            ]
          },
          "metadata": {
            "tags": []
          },
          "execution_count": 60
        },
        {
          "output_type": "display_data",
          "data": {
            "image/png": "[encoded data removed]",
            "text/plain": [
              "<Figure size 432x288 with 1 Axes>"
            ]
          },
          "metadata": {
            "tags": [],
            "needs_background": "light"
          }
        }
      ]
    },
    {
      "cell_type": "code",
      "metadata": {
        "id": "vumTcFz3LqBq",
        "colab": {
          "base_uri": "https://localhost:8080/",
          "height": 312
        },
        "outputId": "4cde4e43-2fac-4973-89c0-cd61ff810fb0"
      },
      "source": [
        "# plotting Total Download Histogram\n",
        "\n",
        "df_clean[\"TotalDLBytes\"].hist(bins = 50)\n",
        "plt.title(\"Total Download Histogram\")\n"
      ],
      "execution_count": 61,
      "outputs": [
        {
          "output_type": "execute_result",
          "data": {
            "text/plain": [
              "Text(0.5, 1.0, 'Total Download Histogram')"
            ]
          },
          "metadata": {
            "tags": []
          },
          "execution_count": 61
        },
        {
          "output_type": "display_data",
          "data": {
            "image/png": "[encoded data removed]",
            "text/plain": [
              "<Figure size 432x288 with 1 Axes>"
            ]
          },
          "metadata": {
            "tags": [],
            "needs_background": "light"
          }
        }
      ]
    },
    {
      "cell_type": "code",
      "metadata": {
        "id": "aW6ws_hULp8f",
        "colab": {
          "base_uri": "https://localhost:8080/",
          "height": 312
        },
        "outputId": "e68c7bbc-04fa-4159-bdf2-2ec76afe0de1"
      },
      "source": [
        "# Plotting Histogram for Total Upload \n",
        "\n",
        "df_clean[\"TotalULBytes\"].hist(bins = 50)\n",
        "plt.title(\"Total Upload Histogram\")"
      ],
      "execution_count": 62,
      "outputs": [
        {
          "output_type": "execute_result",
          "data": {
            "text/plain": [
              "Text(0.5, 1.0, 'Total Upload Histogram')"
            ]
          },
          "metadata": {
            "tags": []
          },
          "execution_count": 62
        },
        {
          "output_type": "display_data",
          "data": {
            "image/png": "[encoded data removed]",
            "text/plain": [
              "<Figure size 432x288 with 1 Axes>"
            ]
          },
          "metadata": {
            "tags": [],
            "needs_background": "light"
          }
        }
      ]
    },
    {
      "cell_type": "code",
      "metadata": {
        "id": "ebm7ciNqLp4u",
        "colab": {
          "base_uri": "https://localhost:8080/",
          "height": 312
        },
        "outputId": "46ac4a26-85b3-4de5-8e89-fa45b54e23af"
      },
      "source": [
        "#plotting Histogram for Total Social Media Data\n",
        "\n",
        "df_clean[\"Total_Social_Media_data\"].hist(bins = 50)\n",
        "plt.title(\"Total Social Media Data Histogram\")"
      ],
      "execution_count": 63,
      "outputs": [
        {
          "output_type": "execute_result",
          "data": {
            "text/plain": [
              "Text(0.5, 1.0, 'Total Social Media Data Histogram')"
            ]
          },
          "metadata": {
            "tags": []
          },
          "execution_count": 63
        },
        {
          "output_type": "display_data",
          "data": {
            "image/png": "[encoded data removed]",
            "text/plain": [
              "<Figure size 432x288 with 1 Axes>"
            ]
          },
          "metadata": {
            "tags": [],
            "needs_background": "light"
          }
        }
      ]
    },
    {
      "cell_type": "code",
      "metadata": {
        "id": "kL2jfYDyJDB4",
        "colab": {
          "base_uri": "https://localhost:8080/",
          "height": 312
        },
        "outputId": "0fbfa2e8-e210-435f-b47e-f18a6a76cddf"
      },
      "source": [
        "# plotting Histogram for Total Google Data\n",
        "\n",
        "df_clean[\"Total_Google_data\"].hist(bins = 50)\n",
        "plt.title(\"Total Google Data Histogram\")"
      ],
      "execution_count": 65,
      "outputs": [
        {
          "output_type": "execute_result",
          "data": {
            "text/plain": [
              "Text(0.5, 1.0, 'Total Google Data Histogram')"
            ]
          },
          "metadata": {
            "tags": []
          },
          "execution_count": 65
        },
        {
          "output_type": "display_data",
          "data": {
            "image/png": "[encoded data removed]",
            "text/plain": [
              "<Figure size 432x288 with 1 Axes>"
            ]
          },
          "metadata": {
            "tags": [],
            "needs_background": "light"
          }
        }
      ]
    },
    {
      "cell_type": "code",
      "metadata": {
        "id": "9aVTL_M8JC_V",
        "colab": {
          "base_uri": "https://localhost:8080/",
          "height": 312
        },
        "outputId": "a6acc042-9291-4778-db5f-b3dcc0a2d97a"
      },
      "source": [
        "# plotting Histogram  for Total Email Data\n",
        "\n",
        "df_clean[\"Total_Email_data\"].hist(bins = 50)\n",
        "plt.title(\"Total Email Data Histogram\")"
      ],
      "execution_count": 70,
      "outputs": [
        {
          "output_type": "execute_result",
          "data": {
            "text/plain": [
              "Text(0.5, 1.0, 'Total Email Data Histogram')"
            ]
          },
          "metadata": {
            "tags": []
          },
          "execution_count": 70
        },
        {
          "output_type": "display_data",
          "data": {
            "image/png": "[encoded data removed]",
            "text/plain": [
              "<Figure size 432x288 with 1 Axes>"
            ]
          },
          "metadata": {
            "tags": [],
            "needs_background": "light"
          }
        }
      ]
    },
    {
      "cell_type": "code",
      "metadata": {
        "id": "oppjByHuJCmT",
        "colab": {
          "base_uri": "https://localhost:8080/",
          "height": 312
        },
        "outputId": "bc6a847f-842f-4286-cc23-0c6fabd5e979"
      },
      "source": [
        "# plotting Histogram for Total Youtube Data \n",
        "\n",
        "df_clean[\"Total_Youtube_data\"].hist(bins = 50)\n",
        "plt.title(\"Total Youtube Data Histogram\")"
      ],
      "execution_count": 69,
      "outputs": [
        {
          "output_type": "execute_result",
          "data": {
            "text/plain": [
              "Text(0.5, 1.0, 'Total Youtube Data Histogram')"
            ]
          },
          "metadata": {
            "tags": []
          },
          "execution_count": 69
        },
        {
          "output_type": "display_data",
          "data": {
            "image/png": "[encoded data removed]",
            "text/plain": [
              "<Figure size 432x288 with 1 Axes>"
            ]
          },
          "metadata": {
            "tags": [],
            "needs_background": "light"
          }
        }
      ]
    },
    {
      "cell_type": "code",
      "metadata": {
        "id": "Phuv9Li2-z3R",
        "colab": {
          "base_uri": "https://localhost:8080/",
          "height": 312
        },
        "outputId": "20c9c140-fb05-4407-d5d3-2d38348302b9"
      },
      "source": [
        "# plotting Histogram for Total Netflix\n",
        "\n",
        "df_clean[\"Total_Netflix_data\"].hist(bins = 50)\n",
        "plt.title(\"Total Netflix Data Histogram\")"
      ],
      "execution_count": 68,
      "outputs": [
        {
          "output_type": "execute_result",
          "data": {
            "text/plain": [
              "Text(0.5, 1.0, 'Total Netflix Data Histogram')"
            ]
          },
          "metadata": {
            "tags": []
          },
          "execution_count": 68
        },
        {
          "output_type": "display_data",
          "data": {
            "image/png": "[encoded data removed]",
            "text/plain": [
              "<Figure size 432x288 with 1 Axes>"
            ]
          },
          "metadata": {
            "tags": [],
            "needs_background": "light"
          }
        }
      ]
    },
    {
      "cell_type": "code",
      "metadata": {
        "colab": {
          "base_uri": "https://localhost:8080/",
          "height": 312
        },
        "id": "u1FN3t5JVbmg",
        "outputId": "438c58c9-d5a9-4fc1-dbb5-d39b087838d1"
      },
      "source": [
        "# plotting Histogram for Total Gaming Data\n",
        "\n",
        "df_clean[\"Total_Gaming_data\"].hist(bins = 50)\n",
        "plt.title(\"Total Gaming Data Histogram\")"
      ],
      "execution_count": 72,
      "outputs": [
        {
          "output_type": "execute_result",
          "data": {
            "text/plain": [
              "Text(0.5, 1.0, 'Total Gaming Data Histogram')"
            ]
          },
          "metadata": {
            "tags": []
          },
          "execution_count": 72
        },
        {
          "output_type": "display_data",
          "data": {
            "image/png": "[encoded data removed]",
            "text/plain": [
              "<Figure size 432x288 with 1 Axes>"
            ]
          },
          "metadata": {
            "tags": [],
            "needs_background": "light"
          }
        }
      ]
    },
    {
      "cell_type": "code",
      "metadata": {
        "colab": {
          "base_uri": "https://localhost:8080/",
          "height": 312
        },
        "id": "-A0VAuj8Vbp4",
        "outputId": "a20f0ff0-04ec-4a9b-87fa-aed9182cced4"
      },
      "source": [
        "# plotting Histogram for Total Other Data\n",
        "\n",
        "df_clean[\"Total_Other_data\"].hist(bins = 50)\n",
        "plt.title(\"Total Other Data Histogram\")"
      ],
      "execution_count": 73,
      "outputs": [
        {
          "output_type": "execute_result",
          "data": {
            "text/plain": [
              "Text(0.5, 1.0, 'Total Other Data Histogram')"
            ]
          },
          "metadata": {
            "tags": []
          },
          "execution_count": 73
        },
        {
          "output_type": "display_data",
          "data": {
            "image/png": "[encoded data removed]",
            "text/plain": [
              "<Figure size 432x288 with 1 Axes>"
            ]
          },
          "metadata": {
            "tags": [],
            "needs_background": "light"
          }
        }
      ]
    },
    {
      "cell_type": "code",
      "metadata": {
        "colab": {
          "base_uri": "https://localhost:8080/",
          "height": 298
        },
        "id": "V2MrqGToVbsn",
        "outputId": "f9c4579c-6210-448d-ef63-281aca359286"
      },
      "source": [
        "# plotting comparisons of each total\n",
        "\n",
        "Total_usage = different_application_data[[\"Total_Google_data\", \"Total_Youtube_data\", \"Total_Netflix_data\", \"Total_Email_data\", \"Total_Gaming_data\", \"Total_Social_Media_data\", \"Total_Other_data\"]]\n",
        "ind = np.arange(7)\n",
        "width =0.8\n",
        "\n",
        "plt.xticks(ind , (\"Google\", \"Youtube\", \"Netflix\", \"Email\", \"Gaming\", \"Social\", \"Other\"))\n",
        "plt.bar(ind, Total_usage.sum(), width, label = \"Total Usage\")\n",
        "plt.title(\"App Data usage\")"
      ],
      "execution_count": 74,
      "outputs": [
        {
          "output_type": "execute_result",
          "data": {
            "text/plain": [
              "Text(0.5, 1.0, 'App Data usage')"
            ]
          },
          "metadata": {
            "tags": []
          },
          "execution_count": 74
        },
        {
          "output_type": "display_data",
          "data": {
            "image/png": "[encoded data removed]",
            "text/plain": [
              "<Figure size 432x288 with 1 Axes>"
            ]
          },
          "metadata": {
            "tags": [],
            "needs_background": "light"
          }
        }
      ]
    },
    {
      "cell_type": "code",
      "metadata": {
        "id": "6nHoDB4wVbu8"
      },
      "source": [
        ""
      ],
      "execution_count": null,
      "outputs": []
    },
    {
      "cell_type": "code",
      "metadata": {
        "id": "rMwbtxPdVbx4"
      },
      "source": [
        ""
      ],
      "execution_count": null,
      "outputs": []
    }
  ]
}
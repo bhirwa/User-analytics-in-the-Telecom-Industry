{
  "nbformat": 4,
  "nbformat_minor": 0,
  "metadata": {
    "colab": {
      "name": "setup.ipynb",
      "provenance": [],
      "collapsed_sections": [],
      "authorship_tag": "ABX9TyMEk1EoNzosgqtwbyQa65nj",
      "include_colab_link": true
    },
    "kernelspec": {
      "display_name": "Python 3",
      "name": "python3"
    },
    "language_info": {
      "name": "python"
    }
  },
  "cells": [
    {
      "cell_type": "markdown",
      "metadata": {
        "id": "view-in-github",
        "colab_type": "text"
      },
      "source": [
        "<a href=\"https://colab.research.google.com/github/bhirwa/User-analytics-in-the-Telecom-Industry/blob/main/setup.ipynb\" target=\"_parent\"><img src=\"https://colab.research.google.com/assets/colab-badge.svg\" alt=\"Open In Colab\"/></a>"
      ]
    },
    {
      "cell_type": "code",
      "metadata": {
        "colab": {
          "base_uri": "https://localhost:8080/"
        },
        "id": "Rlc5JgqNjvBt",
        "outputId": "c5602d26-4e08-46c1-d4dc-2019aae41437"
      },
      "source": [
        "from google.colab import drive\n",
        "drive.mount('/content/gdrive')\n"
      ],
      "execution_count": 188,
      "outputs": [
        {
          "output_type": "stream",
          "text": [
            "Drive already mounted at /content/gdrive; to attempt to forcibly remount, call drive.mount(\"/content/gdrive\", force_remount=True).\n"
          ],
          "name": "stdout"
        }
      ]
    },
    {
      "cell_type": "code",
      "metadata": {
        "id": "5eDIpczIqH9m"
      },
      "source": [
        "import os\n",
        "path = \"/content\" # /content is pretty much the root. you can choose other path in your colab workspace\n",
        "os.chdir(path)"
      ],
      "execution_count": 189,
      "outputs": []
    },
    {
      "cell_type": "code",
      "metadata": {
        "colab": {
          "base_uri": "https://localhost:8080/"
        },
        "id": "bNDTwKc4kjEF",
        "outputId": "e7739029-376e-4f88-d1fc-ddabe4e0c669"
      },
      "source": [
        "!ls gdrive/MyDrive/Colab\\ Notebooks/\n",
        "\n",
        "\n",
        "\n"
      ],
      "execution_count": 190,
      "outputs": [
        {
          "output_type": "stream",
          "text": [
            "Data  setup.ipynb  Untitled0.ipynb\n"
          ],
          "name": "stdout"
        }
      ]
    },
    {
      "cell_type": "code",
      "metadata": {
        "id": "JkHyfxqtntSs",
        "colab": {
          "base_uri": "https://localhost:8080/"
        },
        "outputId": "a4af932a-37d9-42f8-d842-dbe01ef089e7"
      },
      "source": [
        "cd gdrive/MyDrive/Colab\\ Notebooks/"
      ],
      "execution_count": 191,
      "outputs": [
        {
          "output_type": "stream",
          "text": [
            "/content/gdrive/MyDrive/Colab Notebooks\n"
          ],
          "name": "stdout"
        }
      ]
    },
    {
      "cell_type": "code",
      "metadata": {
        "id": "Nb5Bhx-0Q1wg"
      },
      "source": [
        "import pandas as pd\n",
        "import numpy as np "
      ],
      "execution_count": 192,
      "outputs": []
    },
    {
      "cell_type": "code",
      "metadata": {
        "id": "Pe2QcO4zRFMP",
        "colab": {
          "base_uri": "https://localhost:8080/",
          "height": 492
        },
        "outputId": "cbf43a76-3a6e-4e6a-fe1e-d37ac0bd4293"
      },
      "source": [
        "\n",
        "df = pd.read_excel('/content/gdrive/MyDrive/Colab Notebooks/Data/Week1_challenge_data_source.xlsx')\n",
        "df.head()\n"
      ],
      "execution_count": 193,
      "outputs": [
        {
          "output_type": "execute_result",
          "data": {
            "text/html": [
              "<div>\n",
              "<style scoped>\n",
              "    .dataframe tbody tr th:only-of-type {\n",
              "        vertical-align: middle;\n",
              "    }\n",
              "\n",
              "    .dataframe tbody tr th {\n",
              "        vertical-align: top;\n",
              "    }\n",
              "\n",
              "    .dataframe thead th {\n",
              "        text-align: right;\n",
              "    }\n",
              "</style>\n",
              "<table border=\"1\" class=\"dataframe\">\n",
              "  <thead>\n",
              "    <tr style=\"text-align: right;\">\n",
              "      <th></th>\n",
              "      <th>Bearer Id</th>\n",
              "      <th>Start</th>\n",
              "      <th>Start ms</th>\n",
              "      <th>End</th>\n",
              "      <th>End ms</th>\n",
              "      <th>Dur. (ms)</th>\n",
              "      <th>IMSI</th>\n",
              "      <th>MSISDN/Number</th>\n",
              "      <th>IMEI</th>\n",
              "      <th>Last Location Name</th>\n",
              "      <th>Avg RTT DL (ms)</th>\n",
              "      <th>Avg RTT UL (ms)</th>\n",
              "      <th>Avg Bearer TP DL (kbps)</th>\n",
              "      <th>Avg Bearer TP UL (kbps)</th>\n",
              "      <th>TCP DL Retrans. Vol (Bytes)</th>\n",
              "      <th>TCP UL Retrans. Vol (Bytes)</th>\n",
              "      <th>DL TP &lt; 50 Kbps (%)</th>\n",
              "      <th>50 Kbps &lt; DL TP &lt; 250 Kbps (%)</th>\n",
              "      <th>250 Kbps &lt; DL TP &lt; 1 Mbps (%)</th>\n",
              "      <th>DL TP &gt; 1 Mbps (%)</th>\n",
              "      <th>UL TP &lt; 10 Kbps (%)</th>\n",
              "      <th>10 Kbps &lt; UL TP &lt; 50 Kbps (%)</th>\n",
              "      <th>50 Kbps &lt; UL TP &lt; 300 Kbps (%)</th>\n",
              "      <th>UL TP &gt; 300 Kbps (%)</th>\n",
              "      <th>HTTP DL (Bytes)</th>\n",
              "      <th>HTTP UL (Bytes)</th>\n",
              "      <th>Activity Duration DL (ms)</th>\n",
              "      <th>Activity Duration UL (ms)</th>\n",
              "      <th>Dur. (ms).1</th>\n",
              "      <th>Handset Manufacturer</th>\n",
              "      <th>Handset Type</th>\n",
              "      <th>Nb of sec with 125000B &lt; Vol DL</th>\n",
              "      <th>Nb of sec with 1250B &lt; Vol UL &lt; 6250B</th>\n",
              "      <th>Nb of sec with 31250B &lt; Vol DL &lt; 125000B</th>\n",
              "      <th>Nb of sec with 37500B &lt; Vol UL</th>\n",
              "      <th>Nb of sec with 6250B &lt; Vol DL &lt; 31250B</th>\n",
              "      <th>Nb of sec with 6250B &lt; Vol UL &lt; 37500B</th>\n",
              "      <th>Nb of sec with Vol DL &lt; 6250B</th>\n",
              "      <th>Nb of sec with Vol UL &lt; 1250B</th>\n",
              "      <th>Social Media DL (Bytes)</th>\n",
              "      <th>Social Media UL (Bytes)</th>\n",
              "      <th>Google DL (Bytes)</th>\n",
              "      <th>Google UL (Bytes)</th>\n",
              "      <th>Email DL (Bytes)</th>\n",
              "      <th>Email UL (Bytes)</th>\n",
              "      <th>Youtube DL (Bytes)</th>\n",
              "      <th>Youtube UL (Bytes)</th>\n",
              "      <th>Netflix DL (Bytes)</th>\n",
              "      <th>Netflix UL (Bytes)</th>\n",
              "      <th>Gaming DL (Bytes)</th>\n",
              "      <th>Gaming UL (Bytes)</th>\n",
              "      <th>Other DL (Bytes)</th>\n",
              "      <th>Other UL (Bytes)</th>\n",
              "      <th>Total UL (Bytes)</th>\n",
              "      <th>Total DL (Bytes)</th>\n",
              "    </tr>\n",
              "  </thead>\n",
              "  <tbody>\n",
              "    <tr>\n",
              "      <th>0</th>\n",
              "      <td>13114483460844900352</td>\n",
              "      <td>2019-04-04 12:01:18</td>\n",
              "      <td>770.0</td>\n",
              "      <td>2019-04-25 14:35:31</td>\n",
              "      <td>662.0</td>\n",
              "      <td>1823652.0</td>\n",
              "      <td>2.082014e+14</td>\n",
              "      <td>3.366496e+10</td>\n",
              "      <td>3.552121e+13</td>\n",
              "      <td>9164566995485190</td>\n",
              "      <td>42.0</td>\n",
              "      <td>5.0</td>\n",
              "      <td>23.0</td>\n",
              "      <td>44.0</td>\n",
              "      <td>NaN</td>\n",
              "      <td>NaN</td>\n",
              "      <td>100.0</td>\n",
              "      <td>0.0</td>\n",
              "      <td>0.0</td>\n",
              "      <td>0.0</td>\n",
              "      <td>100.0</td>\n",
              "      <td>0.0</td>\n",
              "      <td>0.0</td>\n",
              "      <td>0.0</td>\n",
              "      <td>NaN</td>\n",
              "      <td>NaN</td>\n",
              "      <td>37624.0</td>\n",
              "      <td>38787.0</td>\n",
              "      <td>1.823653e+09</td>\n",
              "      <td>Samsung</td>\n",
              "      <td>Samsung Galaxy A5 Sm-A520F</td>\n",
              "      <td>NaN</td>\n",
              "      <td>NaN</td>\n",
              "      <td>NaN</td>\n",
              "      <td>NaN</td>\n",
              "      <td>NaN</td>\n",
              "      <td>NaN</td>\n",
              "      <td>213.0</td>\n",
              "      <td>214.0</td>\n",
              "      <td>1545765.0</td>\n",
              "      <td>24420.0</td>\n",
              "      <td>1634479.0</td>\n",
              "      <td>1271433.0</td>\n",
              "      <td>3563542.0</td>\n",
              "      <td>137762.0</td>\n",
              "      <td>15854611.0</td>\n",
              "      <td>2501332.0</td>\n",
              "      <td>8198936.0</td>\n",
              "      <td>9656251.0</td>\n",
              "      <td>278082303.0</td>\n",
              "      <td>14344150.0</td>\n",
              "      <td>171744450.0</td>\n",
              "      <td>8814393.0</td>\n",
              "      <td>36749741.0</td>\n",
              "      <td>308879636.0</td>\n",
              "    </tr>\n",
              "    <tr>\n",
              "      <th>1</th>\n",
              "      <td>13114483482878900224</td>\n",
              "      <td>2019-04-09 13:04:04</td>\n",
              "      <td>235.0</td>\n",
              "      <td>2019-04-25 08:15:48</td>\n",
              "      <td>606.0</td>\n",
              "      <td>1365104.0</td>\n",
              "      <td>2.082019e+14</td>\n",
              "      <td>3.368185e+10</td>\n",
              "      <td>3.579401e+13</td>\n",
              "      <td>L77566A</td>\n",
              "      <td>65.0</td>\n",
              "      <td>5.0</td>\n",
              "      <td>16.0</td>\n",
              "      <td>26.0</td>\n",
              "      <td>NaN</td>\n",
              "      <td>NaN</td>\n",
              "      <td>100.0</td>\n",
              "      <td>0.0</td>\n",
              "      <td>0.0</td>\n",
              "      <td>0.0</td>\n",
              "      <td>100.0</td>\n",
              "      <td>0.0</td>\n",
              "      <td>0.0</td>\n",
              "      <td>0.0</td>\n",
              "      <td>NaN</td>\n",
              "      <td>NaN</td>\n",
              "      <td>168.0</td>\n",
              "      <td>3560.0</td>\n",
              "      <td>1.365104e+09</td>\n",
              "      <td>Samsung</td>\n",
              "      <td>Samsung Galaxy J5 (Sm-J530)</td>\n",
              "      <td>NaN</td>\n",
              "      <td>NaN</td>\n",
              "      <td>NaN</td>\n",
              "      <td>NaN</td>\n",
              "      <td>NaN</td>\n",
              "      <td>NaN</td>\n",
              "      <td>971.0</td>\n",
              "      <td>1022.0</td>\n",
              "      <td>1926113.0</td>\n",
              "      <td>7165.0</td>\n",
              "      <td>3493924.0</td>\n",
              "      <td>920172.0</td>\n",
              "      <td>629046.0</td>\n",
              "      <td>308339.0</td>\n",
              "      <td>20247395.0</td>\n",
              "      <td>19111729.0</td>\n",
              "      <td>18338413.0</td>\n",
              "      <td>17227132.0</td>\n",
              "      <td>608750074.0</td>\n",
              "      <td>1170709.0</td>\n",
              "      <td>526904238.0</td>\n",
              "      <td>15055145.0</td>\n",
              "      <td>53800391.0</td>\n",
              "      <td>653384965.0</td>\n",
              "    </tr>\n",
              "    <tr>\n",
              "      <th>2</th>\n",
              "      <td>13114483484080500736</td>\n",
              "      <td>2019-04-09 17:42:11</td>\n",
              "      <td>1.0</td>\n",
              "      <td>2019-04-25 11:58:13</td>\n",
              "      <td>652.0</td>\n",
              "      <td>1361762.0</td>\n",
              "      <td>2.082003e+14</td>\n",
              "      <td>3.376063e+10</td>\n",
              "      <td>3.528151e+13</td>\n",
              "      <td>D42335A</td>\n",
              "      <td>NaN</td>\n",
              "      <td>NaN</td>\n",
              "      <td>6.0</td>\n",
              "      <td>9.0</td>\n",
              "      <td>NaN</td>\n",
              "      <td>NaN</td>\n",
              "      <td>100.0</td>\n",
              "      <td>0.0</td>\n",
              "      <td>0.0</td>\n",
              "      <td>0.0</td>\n",
              "      <td>100.0</td>\n",
              "      <td>0.0</td>\n",
              "      <td>0.0</td>\n",
              "      <td>0.0</td>\n",
              "      <td>NaN</td>\n",
              "      <td>NaN</td>\n",
              "      <td>0.0</td>\n",
              "      <td>0.0</td>\n",
              "      <td>1.361763e+09</td>\n",
              "      <td>Samsung</td>\n",
              "      <td>Samsung Galaxy A8 (2018)</td>\n",
              "      <td>NaN</td>\n",
              "      <td>NaN</td>\n",
              "      <td>NaN</td>\n",
              "      <td>NaN</td>\n",
              "      <td>NaN</td>\n",
              "      <td>NaN</td>\n",
              "      <td>751.0</td>\n",
              "      <td>695.0</td>\n",
              "      <td>1684053.0</td>\n",
              "      <td>42224.0</td>\n",
              "      <td>8535055.0</td>\n",
              "      <td>1694064.0</td>\n",
              "      <td>2690151.0</td>\n",
              "      <td>672973.0</td>\n",
              "      <td>19725661.0</td>\n",
              "      <td>14699576.0</td>\n",
              "      <td>17587794.0</td>\n",
              "      <td>6163408.0</td>\n",
              "      <td>229584621.0</td>\n",
              "      <td>395630.0</td>\n",
              "      <td>410692588.0</td>\n",
              "      <td>4215763.0</td>\n",
              "      <td>27883638.0</td>\n",
              "      <td>279807335.0</td>\n",
              "    </tr>\n",
              "    <tr>\n",
              "      <th>3</th>\n",
              "      <td>13114483485442799616</td>\n",
              "      <td>2019-04-10 00:31:25</td>\n",
              "      <td>486.0</td>\n",
              "      <td>2019-04-25 07:36:35</td>\n",
              "      <td>171.0</td>\n",
              "      <td>1321509.0</td>\n",
              "      <td>2.082014e+14</td>\n",
              "      <td>3.375034e+10</td>\n",
              "      <td>3.535661e+13</td>\n",
              "      <td>T21824A</td>\n",
              "      <td>NaN</td>\n",
              "      <td>NaN</td>\n",
              "      <td>44.0</td>\n",
              "      <td>44.0</td>\n",
              "      <td>NaN</td>\n",
              "      <td>NaN</td>\n",
              "      <td>100.0</td>\n",
              "      <td>0.0</td>\n",
              "      <td>0.0</td>\n",
              "      <td>0.0</td>\n",
              "      <td>100.0</td>\n",
              "      <td>0.0</td>\n",
              "      <td>0.0</td>\n",
              "      <td>0.0</td>\n",
              "      <td>NaN</td>\n",
              "      <td>NaN</td>\n",
              "      <td>3330.0</td>\n",
              "      <td>37882.0</td>\n",
              "      <td>1.321510e+09</td>\n",
              "      <td>undefined</td>\n",
              "      <td>undefined</td>\n",
              "      <td>NaN</td>\n",
              "      <td>NaN</td>\n",
              "      <td>NaN</td>\n",
              "      <td>NaN</td>\n",
              "      <td>NaN</td>\n",
              "      <td>NaN</td>\n",
              "      <td>17.0</td>\n",
              "      <td>207.0</td>\n",
              "      <td>644121.0</td>\n",
              "      <td>13372.0</td>\n",
              "      <td>9023734.0</td>\n",
              "      <td>2788027.0</td>\n",
              "      <td>1439754.0</td>\n",
              "      <td>631229.0</td>\n",
              "      <td>21388122.0</td>\n",
              "      <td>15146643.0</td>\n",
              "      <td>13994646.0</td>\n",
              "      <td>1097942.0</td>\n",
              "      <td>799538153.0</td>\n",
              "      <td>10849722.0</td>\n",
              "      <td>749039933.0</td>\n",
              "      <td>12797283.0</td>\n",
              "      <td>43324218.0</td>\n",
              "      <td>846028530.0</td>\n",
              "    </tr>\n",
              "    <tr>\n",
              "      <th>4</th>\n",
              "      <td>13114483499480700928</td>\n",
              "      <td>2019-04-12 20:10:23</td>\n",
              "      <td>565.0</td>\n",
              "      <td>2019-04-25 10:40:32</td>\n",
              "      <td>954.0</td>\n",
              "      <td>1089009.0</td>\n",
              "      <td>2.082014e+14</td>\n",
              "      <td>3.369980e+10</td>\n",
              "      <td>3.540701e+13</td>\n",
              "      <td>D88865A</td>\n",
              "      <td>NaN</td>\n",
              "      <td>NaN</td>\n",
              "      <td>6.0</td>\n",
              "      <td>9.0</td>\n",
              "      <td>NaN</td>\n",
              "      <td>NaN</td>\n",
              "      <td>100.0</td>\n",
              "      <td>0.0</td>\n",
              "      <td>0.0</td>\n",
              "      <td>0.0</td>\n",
              "      <td>100.0</td>\n",
              "      <td>0.0</td>\n",
              "      <td>0.0</td>\n",
              "      <td>0.0</td>\n",
              "      <td>NaN</td>\n",
              "      <td>NaN</td>\n",
              "      <td>0.0</td>\n",
              "      <td>0.0</td>\n",
              "      <td>1.089009e+09</td>\n",
              "      <td>Samsung</td>\n",
              "      <td>Samsung Sm-G390F</td>\n",
              "      <td>NaN</td>\n",
              "      <td>NaN</td>\n",
              "      <td>NaN</td>\n",
              "      <td>NaN</td>\n",
              "      <td>NaN</td>\n",
              "      <td>NaN</td>\n",
              "      <td>607.0</td>\n",
              "      <td>604.0</td>\n",
              "      <td>862600.0</td>\n",
              "      <td>50188.0</td>\n",
              "      <td>6248284.0</td>\n",
              "      <td>1500559.0</td>\n",
              "      <td>1936496.0</td>\n",
              "      <td>173853.0</td>\n",
              "      <td>15259380.0</td>\n",
              "      <td>18962873.0</td>\n",
              "      <td>17124581.0</td>\n",
              "      <td>415218.0</td>\n",
              "      <td>527707248.0</td>\n",
              "      <td>3529801.0</td>\n",
              "      <td>550709500.0</td>\n",
              "      <td>13910322.0</td>\n",
              "      <td>38542814.0</td>\n",
              "      <td>569138589.0</td>\n",
              "    </tr>\n",
              "  </tbody>\n",
              "</table>\n",
              "</div>"
            ],
            "text/plain": [
              "              Bearer Id               Start  ...  Total UL (Bytes) Total DL (Bytes)\n",
              "0  13114483460844900352 2019-04-04 12:01:18  ...        36749741.0      308879636.0\n",
              "1  13114483482878900224 2019-04-09 13:04:04  ...        53800391.0      653384965.0\n",
              "2  13114483484080500736 2019-04-09 17:42:11  ...        27883638.0      279807335.0\n",
              "3  13114483485442799616 2019-04-10 00:31:25  ...        43324218.0      846028530.0\n",
              "4  13114483499480700928 2019-04-12 20:10:23  ...        38542814.0      569138589.0\n",
              "\n",
              "[5 rows x 55 columns]"
            ]
          },
          "metadata": {
            "tags": []
          },
          "execution_count": 193
        }
      ]
    },
    {
      "cell_type": "code",
      "metadata": {
        "id": "epJLX5KVtpXm",
        "colab": {
          "base_uri": "https://localhost:8080/"
        },
        "outputId": "259c1d19-e630-4344-db88-4d3254c54d85"
      },
      "source": [
        "# column names\n",
        "df.columns.tolist()"
      ],
      "execution_count": 171,
      "outputs": [
        {
          "output_type": "execute_result",
          "data": {
            "text/plain": [
              "['BearerId',\n",
              " 'Start',\n",
              " 'Startms',\n",
              " 'End',\n",
              " 'Endms',\n",
              " 'Dur.ms',\n",
              " 'IMSI',\n",
              " 'MSISDN/Number',\n",
              " 'IMEI',\n",
              " 'LastLocationName',\n",
              " 'AvgRTTDLms',\n",
              " 'AvgRTTULms',\n",
              " 'AvgBearerTPDLkbps',\n",
              " 'AvgBearerTPULkbps',\n",
              " 'TCPDLRetrans.VolBytes',\n",
              " 'TCPULRetrans.VolBytes',\n",
              " 'DLTP<50Kbps%',\n",
              " '50Kbps<DLTP<250Kbps%',\n",
              " '250Kbps<DLTP<1Mbps%',\n",
              " 'DLTP>1Mbps%',\n",
              " 'ULTP<10Kbps%',\n",
              " '10Kbps<ULTP<50Kbps%',\n",
              " '50Kbps<ULTP<300Kbps%',\n",
              " 'ULTP>300Kbps%',\n",
              " 'HTTPDLBytes',\n",
              " 'HTTPULBytes',\n",
              " 'ActivityDurationDLms',\n",
              " 'ActivityDurationULms',\n",
              " 'Dur.ms.1',\n",
              " 'HandsetManufacturer',\n",
              " 'HandsetType',\n",
              " 'Nbofsecwith125000B<VolDL',\n",
              " 'Nbofsecwith1250B<VolUL<6250B',\n",
              " 'Nbofsecwith31250B<VolDL<125000B',\n",
              " 'Nbofsecwith37500B<VolUL',\n",
              " 'Nbofsecwith6250B<VolDL<31250B',\n",
              " 'Nbofsecwith6250B<VolUL<37500B',\n",
              " 'NbofsecwithVolDL<6250B',\n",
              " 'NbofsecwithVolUL<1250B',\n",
              " 'SocialMediaDLBytes',\n",
              " 'SocialMediaULBytes',\n",
              " 'GoogleDLBytes',\n",
              " 'GoogleULBytes',\n",
              " 'EmailDLBytes',\n",
              " 'EmailULBytes',\n",
              " 'YoutubeDLBytes',\n",
              " 'YoutubeULBytes',\n",
              " 'NetflixDLBytes',\n",
              " 'NetflixULBytes',\n",
              " 'GamingDLBytes',\n",
              " 'GamingULBytes',\n",
              " 'OtherDLBytes',\n",
              " 'OtherULBytes',\n",
              " 'TotalULBytes',\n",
              " 'TotalDLBytes']"
            ]
          },
          "metadata": {
            "tags": []
          },
          "execution_count": 171
        }
      ]
    },
    {
      "cell_type": "code",
      "metadata": {
        "id": "c2AId08-tqwf",
        "colab": {
          "base_uri": "https://localhost:8080/"
        },
        "outputId": "1170a40c-54c0-4150-d534-8929fbf525f9"
      },
      "source": [
        "# number of data points\n",
        "print(f\" There are {df.shape[0]} rows and {df.shape[1]} columns\")"
      ],
      "execution_count": 172,
      "outputs": [
        {
          "output_type": "stream",
          "text": [
            " There are 150001 rows and 55 columns\n"
          ],
          "name": "stdout"
        }
      ]
    },
    {
      "cell_type": "code",
      "metadata": {
        "id": "SuPjM4kGtqzj",
        "colab": {
          "base_uri": "https://localhost:8080/"
        },
        "outputId": "203d7704-e867-45ff-8921-338bceec64ae"
      },
      "source": [
        "# how many missing values exist or better still what is the % of missing values in the dataset?\n",
        "def percent_missing(db):\n",
        "\n",
        "    # Calculate total number of cells in dataframe\n",
        "    totalCells = np.product(db.shape)\n",
        "\n",
        "    # Count number of missing values per column\n",
        "    missingCount = db.isnull().sum()\n",
        "\n",
        "    # Calculate total number of missing values\n",
        "    totalMissing = missingCount.sum()\n",
        "\n",
        "    # Calculate percentage of missing values\n",
        "    print(\"The Telecommunication industry dataset contains\", round(((totalMissing/totalCells) * 100), 2), \"%\", \"missing values.\")\n",
        "\n",
        "percent_missing(df)"
      ],
      "execution_count": 211,
      "outputs": [
        {
          "output_type": "stream",
          "text": [
            "The Telecommunication industry dataset contains 12.49 % missing values.\n"
          ],
          "name": "stdout"
        }
      ]
    },
    {
      "cell_type": "code",
      "metadata": {
        "id": "OFygLkeGtrIj"
      },
      "source": [
        ""
      ],
      "execution_count": null,
      "outputs": []
    },
    {
      "cell_type": "code",
      "metadata": {
        "id": "iKm3KrBWJjU7"
      },
      "source": [
        ""
      ],
      "execution_count": null,
      "outputs": []
    },
    {
      "cell_type": "code",
      "metadata": {
        "id": "sVMRkmyDzVvK",
        "colab": {
          "base_uri": "https://localhost:8080/",
          "height": 315
        },
        "outputId": "af72d544-f9f0-43cc-9e30-a5e6a12608ae"
      },
      "source": [
        "df.describe()"
      ],
      "execution_count": 212,
      "outputs": [
        {
          "output_type": "execute_result",
          "data": {
            "text/html": [
              "<div>\n",
              "<style scoped>\n",
              "    .dataframe tbody tr th:only-of-type {\n",
              "        vertical-align: middle;\n",
              "    }\n",
              "\n",
              "    .dataframe tbody tr th {\n",
              "        vertical-align: top;\n",
              "    }\n",
              "\n",
              "    .dataframe thead th {\n",
              "        text-align: right;\n",
              "    }\n",
              "</style>\n",
              "<table border=\"1\" class=\"dataframe\">\n",
              "  <thead>\n",
              "    <tr style=\"text-align: right;\">\n",
              "      <th></th>\n",
              "      <th>Startms</th>\n",
              "      <th>Endms</th>\n",
              "      <th>Dur.ms</th>\n",
              "      <th>IMSI</th>\n",
              "      <th>MSISDN/Number</th>\n",
              "      <th>IMEI</th>\n",
              "      <th>AvgRTTDLms</th>\n",
              "      <th>AvgRTTULms</th>\n",
              "      <th>AvgBearerTPDLkbps</th>\n",
              "      <th>AvgBearerTPULkbps</th>\n",
              "      <th>TCPDLRetrans.VolBytes</th>\n",
              "      <th>TCPULRetrans.VolBytes</th>\n",
              "      <th>DLTP&lt;50Kbps%</th>\n",
              "      <th>50Kbps&lt;DLTP&lt;250Kbps%</th>\n",
              "      <th>250Kbps&lt;DLTP&lt;1Mbps%</th>\n",
              "      <th>DLTP&gt;1Mbps%</th>\n",
              "      <th>ULTP&lt;10Kbps%</th>\n",
              "      <th>10Kbps&lt;ULTP&lt;50Kbps%</th>\n",
              "      <th>50Kbps&lt;ULTP&lt;300Kbps%</th>\n",
              "      <th>ULTP&gt;300Kbps%</th>\n",
              "      <th>HTTPDLBytes</th>\n",
              "      <th>HTTPULBytes</th>\n",
              "      <th>ActivityDurationDLms</th>\n",
              "      <th>ActivityDurationULms</th>\n",
              "      <th>Dur.ms.1</th>\n",
              "      <th>Nbofsecwith125000B&lt;VolDL</th>\n",
              "      <th>Nbofsecwith1250B&lt;VolUL&lt;6250B</th>\n",
              "      <th>Nbofsecwith31250B&lt;VolDL&lt;125000B</th>\n",
              "      <th>Nbofsecwith37500B&lt;VolUL</th>\n",
              "      <th>Nbofsecwith6250B&lt;VolDL&lt;31250B</th>\n",
              "      <th>Nbofsecwith6250B&lt;VolUL&lt;37500B</th>\n",
              "      <th>NbofsecwithVolDL&lt;6250B</th>\n",
              "      <th>NbofsecwithVolUL&lt;1250B</th>\n",
              "      <th>SocialMediaDLBytes</th>\n",
              "      <th>SocialMediaULBytes</th>\n",
              "      <th>GoogleDLBytes</th>\n",
              "      <th>GoogleULBytes</th>\n",
              "      <th>EmailDLBytes</th>\n",
              "      <th>EmailULBytes</th>\n",
              "      <th>YoutubeDLBytes</th>\n",
              "      <th>YoutubeULBytes</th>\n",
              "      <th>NetflixDLBytes</th>\n",
              "      <th>NetflixULBytes</th>\n",
              "      <th>GamingDLBytes</th>\n",
              "      <th>GamingULBytes</th>\n",
              "      <th>OtherDLBytes</th>\n",
              "      <th>OtherULBytes</th>\n",
              "      <th>TotalULBytes</th>\n",
              "      <th>TotalDLBytes</th>\n",
              "    </tr>\n",
              "  </thead>\n",
              "  <tbody>\n",
              "    <tr>\n",
              "      <th>count</th>\n",
              "      <td>150000.000000</td>\n",
              "      <td>150000.000000</td>\n",
              "      <td>1.500000e+05</td>\n",
              "      <td>1.494310e+05</td>\n",
              "      <td>1.489350e+05</td>\n",
              "      <td>1.494290e+05</td>\n",
              "      <td>122172.000000</td>\n",
              "      <td>122189.000000</td>\n",
              "      <td>150000.000000</td>\n",
              "      <td>150000.000000</td>\n",
              "      <td>6.185500e+04</td>\n",
              "      <td>5.335200e+04</td>\n",
              "      <td>149247.000000</td>\n",
              "      <td>149247.000000</td>\n",
              "      <td>149247.000000</td>\n",
              "      <td>149247.000000</td>\n",
              "      <td>149209.000000</td>\n",
              "      <td>149209.000000</td>\n",
              "      <td>149209.000000</td>\n",
              "      <td>149209.000000</td>\n",
              "      <td>6.852700e+04</td>\n",
              "      <td>6.819100e+04</td>\n",
              "      <td>1.500000e+05</td>\n",
              "      <td>1.500000e+05</td>\n",
              "      <td>1.500000e+05</td>\n",
              "      <td>52463.000000</td>\n",
              "      <td>57107.000000</td>\n",
              "      <td>56415.000000</td>\n",
              "      <td>19747.000000</td>\n",
              "      <td>61684.000000</td>\n",
              "      <td>38158.000000</td>\n",
              "      <td>149246.000000</td>\n",
              "      <td>149208.000000</td>\n",
              "      <td>1.500010e+05</td>\n",
              "      <td>150001.000000</td>\n",
              "      <td>1.500010e+05</td>\n",
              "      <td>1.500010e+05</td>\n",
              "      <td>1.500010e+05</td>\n",
              "      <td>150001.000000</td>\n",
              "      <td>1.500010e+05</td>\n",
              "      <td>1.500010e+05</td>\n",
              "      <td>1.500010e+05</td>\n",
              "      <td>1.500010e+05</td>\n",
              "      <td>1.500010e+05</td>\n",
              "      <td>1.500010e+05</td>\n",
              "      <td>1.500010e+05</td>\n",
              "      <td>1.500010e+05</td>\n",
              "      <td>1.500000e+05</td>\n",
              "      <td>1.500000e+05</td>\n",
              "    </tr>\n",
              "    <tr>\n",
              "      <th>mean</th>\n",
              "      <td>499.188200</td>\n",
              "      <td>498.800880</td>\n",
              "      <td>1.046086e+05</td>\n",
              "      <td>2.082016e+14</td>\n",
              "      <td>4.188282e+10</td>\n",
              "      <td>4.847455e+13</td>\n",
              "      <td>109.795706</td>\n",
              "      <td>17.662883</td>\n",
              "      <td>13300.045927</td>\n",
              "      <td>1770.428647</td>\n",
              "      <td>2.080991e+07</td>\n",
              "      <td>7.596587e+05</td>\n",
              "      <td>92.844754</td>\n",
              "      <td>3.069355</td>\n",
              "      <td>1.717341</td>\n",
              "      <td>1.609654</td>\n",
              "      <td>98.530142</td>\n",
              "      <td>0.776749</td>\n",
              "      <td>0.147987</td>\n",
              "      <td>0.078923</td>\n",
              "      <td>1.144710e+08</td>\n",
              "      <td>3.242301e+06</td>\n",
              "      <td>1.829177e+06</td>\n",
              "      <td>1.408880e+06</td>\n",
              "      <td>1.046091e+08</td>\n",
              "      <td>989.699998</td>\n",
              "      <td>340.434395</td>\n",
              "      <td>810.837401</td>\n",
              "      <td>149.257052</td>\n",
              "      <td>965.464756</td>\n",
              "      <td>141.304812</td>\n",
              "      <td>3719.787552</td>\n",
              "      <td>4022.083454</td>\n",
              "      <td>1.795322e+06</td>\n",
              "      <td>32928.434380</td>\n",
              "      <td>5.750753e+06</td>\n",
              "      <td>2.056542e+06</td>\n",
              "      <td>1.791729e+06</td>\n",
              "      <td>467373.441940</td>\n",
              "      <td>1.163407e+07</td>\n",
              "      <td>1.100941e+07</td>\n",
              "      <td>1.162685e+07</td>\n",
              "      <td>1.100175e+07</td>\n",
              "      <td>4.220447e+08</td>\n",
              "      <td>8.288398e+06</td>\n",
              "      <td>4.211005e+08</td>\n",
              "      <td>8.264799e+06</td>\n",
              "      <td>4.112121e+07</td>\n",
              "      <td>4.546434e+08</td>\n",
              "    </tr>\n",
              "    <tr>\n",
              "      <th>std</th>\n",
              "      <td>288.611834</td>\n",
              "      <td>288.097653</td>\n",
              "      <td>8.103762e+04</td>\n",
              "      <td>2.148809e+10</td>\n",
              "      <td>2.447443e+12</td>\n",
              "      <td>2.241637e+13</td>\n",
              "      <td>619.782739</td>\n",
              "      <td>84.793524</td>\n",
              "      <td>23971.878541</td>\n",
              "      <td>4625.355500</td>\n",
              "      <td>1.825665e+08</td>\n",
              "      <td>2.645305e+07</td>\n",
              "      <td>13.038031</td>\n",
              "      <td>6.215233</td>\n",
              "      <td>4.159538</td>\n",
              "      <td>4.828890</td>\n",
              "      <td>4.634285</td>\n",
              "      <td>3.225176</td>\n",
              "      <td>1.624523</td>\n",
              "      <td>1.295396</td>\n",
              "      <td>9.631946e+08</td>\n",
              "      <td>1.957064e+07</td>\n",
              "      <td>5.696395e+06</td>\n",
              "      <td>4.643231e+06</td>\n",
              "      <td>8.103761e+07</td>\n",
              "      <td>2546.524440</td>\n",
              "      <td>1445.365032</td>\n",
              "      <td>1842.162008</td>\n",
              "      <td>1219.112287</td>\n",
              "      <td>1946.387608</td>\n",
              "      <td>993.349688</td>\n",
              "      <td>9171.609010</td>\n",
              "      <td>10160.324314</td>\n",
              "      <td>1.035482e+06</td>\n",
              "      <td>19006.178256</td>\n",
              "      <td>3.309097e+06</td>\n",
              "      <td>1.189917e+06</td>\n",
              "      <td>1.035840e+06</td>\n",
              "      <td>269969.307031</td>\n",
              "      <td>6.710569e+06</td>\n",
              "      <td>6.345423e+06</td>\n",
              "      <td>6.725218e+06</td>\n",
              "      <td>6.359490e+06</td>\n",
              "      <td>2.439675e+08</td>\n",
              "      <td>4.782700e+06</td>\n",
              "      <td>2.432050e+08</td>\n",
              "      <td>4.769004e+06</td>\n",
              "      <td>1.127639e+07</td>\n",
              "      <td>2.441429e+08</td>\n",
              "    </tr>\n",
              "    <tr>\n",
              "      <th>min</th>\n",
              "      <td>0.000000</td>\n",
              "      <td>0.000000</td>\n",
              "      <td>7.142000e+03</td>\n",
              "      <td>2.040471e+14</td>\n",
              "      <td>3.360100e+10</td>\n",
              "      <td>4.400152e+11</td>\n",
              "      <td>0.000000</td>\n",
              "      <td>0.000000</td>\n",
              "      <td>0.000000</td>\n",
              "      <td>0.000000</td>\n",
              "      <td>2.000000e+00</td>\n",
              "      <td>1.000000e+00</td>\n",
              "      <td>0.000000</td>\n",
              "      <td>0.000000</td>\n",
              "      <td>0.000000</td>\n",
              "      <td>0.000000</td>\n",
              "      <td>0.000000</td>\n",
              "      <td>0.000000</td>\n",
              "      <td>0.000000</td>\n",
              "      <td>0.000000</td>\n",
              "      <td>4.000000e+01</td>\n",
              "      <td>4.000000e+01</td>\n",
              "      <td>0.000000e+00</td>\n",
              "      <td>0.000000e+00</td>\n",
              "      <td>7.142988e+06</td>\n",
              "      <td>1.000000</td>\n",
              "      <td>1.000000</td>\n",
              "      <td>1.000000</td>\n",
              "      <td>1.000000</td>\n",
              "      <td>1.000000</td>\n",
              "      <td>1.000000</td>\n",
              "      <td>1.000000</td>\n",
              "      <td>1.000000</td>\n",
              "      <td>1.200000e+01</td>\n",
              "      <td>0.000000</td>\n",
              "      <td>2.070000e+02</td>\n",
              "      <td>3.000000e+00</td>\n",
              "      <td>1.400000e+01</td>\n",
              "      <td>2.000000</td>\n",
              "      <td>5.300000e+01</td>\n",
              "      <td>1.050000e+02</td>\n",
              "      <td>4.200000e+01</td>\n",
              "      <td>3.500000e+01</td>\n",
              "      <td>2.516000e+03</td>\n",
              "      <td>5.900000e+01</td>\n",
              "      <td>3.290000e+03</td>\n",
              "      <td>1.480000e+02</td>\n",
              "      <td>2.866892e+06</td>\n",
              "      <td>7.114041e+06</td>\n",
              "    </tr>\n",
              "    <tr>\n",
              "      <th>25%</th>\n",
              "      <td>250.000000</td>\n",
              "      <td>251.000000</td>\n",
              "      <td>5.744050e+04</td>\n",
              "      <td>2.082014e+14</td>\n",
              "      <td>3.365130e+10</td>\n",
              "      <td>3.546071e+13</td>\n",
              "      <td>32.000000</td>\n",
              "      <td>2.000000</td>\n",
              "      <td>43.000000</td>\n",
              "      <td>47.000000</td>\n",
              "      <td>3.565150e+04</td>\n",
              "      <td>4.694750e+03</td>\n",
              "      <td>91.000000</td>\n",
              "      <td>0.000000</td>\n",
              "      <td>0.000000</td>\n",
              "      <td>0.000000</td>\n",
              "      <td>99.000000</td>\n",
              "      <td>0.000000</td>\n",
              "      <td>0.000000</td>\n",
              "      <td>0.000000</td>\n",
              "      <td>1.124035e+05</td>\n",
              "      <td>2.432200e+04</td>\n",
              "      <td>1.487775e+04</td>\n",
              "      <td>2.153975e+04</td>\n",
              "      <td>5.744079e+07</td>\n",
              "      <td>20.000000</td>\n",
              "      <td>10.000000</td>\n",
              "      <td>26.000000</td>\n",
              "      <td>2.000000</td>\n",
              "      <td>39.000000</td>\n",
              "      <td>3.000000</td>\n",
              "      <td>87.000000</td>\n",
              "      <td>106.000000</td>\n",
              "      <td>8.991480e+05</td>\n",
              "      <td>16448.000000</td>\n",
              "      <td>2.882393e+06</td>\n",
              "      <td>1.024279e+06</td>\n",
              "      <td>8.927930e+05</td>\n",
              "      <td>233383.000000</td>\n",
              "      <td>5.833501e+06</td>\n",
              "      <td>5.517965e+06</td>\n",
              "      <td>5.777156e+06</td>\n",
              "      <td>5.475981e+06</td>\n",
              "      <td>2.104733e+08</td>\n",
              "      <td>4.128476e+06</td>\n",
              "      <td>2.101869e+08</td>\n",
              "      <td>4.145943e+06</td>\n",
              "      <td>3.322201e+07</td>\n",
              "      <td>2.431068e+08</td>\n",
              "    </tr>\n",
              "    <tr>\n",
              "      <th>50%</th>\n",
              "      <td>499.000000</td>\n",
              "      <td>500.000000</td>\n",
              "      <td>8.639900e+04</td>\n",
              "      <td>2.082015e+14</td>\n",
              "      <td>3.366371e+10</td>\n",
              "      <td>3.572201e+13</td>\n",
              "      <td>45.000000</td>\n",
              "      <td>5.000000</td>\n",
              "      <td>63.000000</td>\n",
              "      <td>63.000000</td>\n",
              "      <td>5.687300e+05</td>\n",
              "      <td>2.094950e+04</td>\n",
              "      <td>100.000000</td>\n",
              "      <td>0.000000</td>\n",
              "      <td>0.000000</td>\n",
              "      <td>0.000000</td>\n",
              "      <td>100.000000</td>\n",
              "      <td>0.000000</td>\n",
              "      <td>0.000000</td>\n",
              "      <td>0.000000</td>\n",
              "      <td>1.941949e+06</td>\n",
              "      <td>2.297330e+05</td>\n",
              "      <td>3.930450e+04</td>\n",
              "      <td>4.679350e+04</td>\n",
              "      <td>8.639998e+07</td>\n",
              "      <td>128.000000</td>\n",
              "      <td>52.000000</td>\n",
              "      <td>164.000000</td>\n",
              "      <td>8.000000</td>\n",
              "      <td>288.000000</td>\n",
              "      <td>8.000000</td>\n",
              "      <td>203.000000</td>\n",
              "      <td>217.000000</td>\n",
              "      <td>1.794369e+06</td>\n",
              "      <td>32920.000000</td>\n",
              "      <td>5.765829e+06</td>\n",
              "      <td>2.054573e+06</td>\n",
              "      <td>1.793505e+06</td>\n",
              "      <td>466250.000000</td>\n",
              "      <td>1.161602e+07</td>\n",
              "      <td>1.101345e+07</td>\n",
              "      <td>1.164222e+07</td>\n",
              "      <td>1.099638e+07</td>\n",
              "      <td>4.234081e+08</td>\n",
              "      <td>8.291208e+06</td>\n",
              "      <td>4.218030e+08</td>\n",
              "      <td>8.267071e+06</td>\n",
              "      <td>4.114331e+07</td>\n",
              "      <td>4.558411e+08</td>\n",
              "    </tr>\n",
              "    <tr>\n",
              "      <th>75%</th>\n",
              "      <td>749.000000</td>\n",
              "      <td>750.000000</td>\n",
              "      <td>1.324302e+05</td>\n",
              "      <td>2.082018e+14</td>\n",
              "      <td>3.368349e+10</td>\n",
              "      <td>8.611970e+13</td>\n",
              "      <td>70.000000</td>\n",
              "      <td>15.000000</td>\n",
              "      <td>19710.750000</td>\n",
              "      <td>1120.000000</td>\n",
              "      <td>3.768308e+06</td>\n",
              "      <td>8.402025e+04</td>\n",
              "      <td>100.000000</td>\n",
              "      <td>4.000000</td>\n",
              "      <td>1.000000</td>\n",
              "      <td>0.000000</td>\n",
              "      <td>100.000000</td>\n",
              "      <td>0.000000</td>\n",
              "      <td>0.000000</td>\n",
              "      <td>0.000000</td>\n",
              "      <td>2.504290e+07</td>\n",
              "      <td>1.542827e+06</td>\n",
              "      <td>6.796095e+05</td>\n",
              "      <td>5.990952e+05</td>\n",
              "      <td>1.324308e+08</td>\n",
              "      <td>693.500000</td>\n",
              "      <td>203.000000</td>\n",
              "      <td>757.000000</td>\n",
              "      <td>35.000000</td>\n",
              "      <td>1092.000000</td>\n",
              "      <td>31.000000</td>\n",
              "      <td>2650.000000</td>\n",
              "      <td>2451.000000</td>\n",
              "      <td>2.694938e+06</td>\n",
              "      <td>49334.000000</td>\n",
              "      <td>8.623552e+06</td>\n",
              "      <td>3.088454e+06</td>\n",
              "      <td>2.689327e+06</td>\n",
              "      <td>700440.000000</td>\n",
              "      <td>1.744852e+07</td>\n",
              "      <td>1.651556e+07</td>\n",
              "      <td>1.747048e+07</td>\n",
              "      <td>1.650727e+07</td>\n",
              "      <td>6.331742e+08</td>\n",
              "      <td>1.243162e+07</td>\n",
              "      <td>6.316918e+08</td>\n",
              "      <td>1.238415e+07</td>\n",
              "      <td>4.903424e+07</td>\n",
              "      <td>6.657055e+08</td>\n",
              "    </tr>\n",
              "    <tr>\n",
              "      <th>max</th>\n",
              "      <td>999.000000</td>\n",
              "      <td>999.000000</td>\n",
              "      <td>1.859336e+06</td>\n",
              "      <td>2.140743e+14</td>\n",
              "      <td>8.823971e+14</td>\n",
              "      <td>9.900120e+13</td>\n",
              "      <td>96923.000000</td>\n",
              "      <td>7120.000000</td>\n",
              "      <td>378160.000000</td>\n",
              "      <td>58613.000000</td>\n",
              "      <td>4.294426e+09</td>\n",
              "      <td>2.908226e+09</td>\n",
              "      <td>100.000000</td>\n",
              "      <td>93.000000</td>\n",
              "      <td>100.000000</td>\n",
              "      <td>94.000000</td>\n",
              "      <td>100.000000</td>\n",
              "      <td>98.000000</td>\n",
              "      <td>100.000000</td>\n",
              "      <td>96.000000</td>\n",
              "      <td>7.253064e+10</td>\n",
              "      <td>1.491890e+09</td>\n",
              "      <td>1.365365e+08</td>\n",
              "      <td>1.449113e+08</td>\n",
              "      <td>1.859336e+09</td>\n",
              "      <td>81476.000000</td>\n",
              "      <td>85412.000000</td>\n",
              "      <td>58525.000000</td>\n",
              "      <td>50553.000000</td>\n",
              "      <td>66913.000000</td>\n",
              "      <td>49565.000000</td>\n",
              "      <td>604061.000000</td>\n",
              "      <td>604122.000000</td>\n",
              "      <td>3.586064e+06</td>\n",
              "      <td>65870.000000</td>\n",
              "      <td>1.146283e+07</td>\n",
              "      <td>4.121357e+06</td>\n",
              "      <td>3.586146e+06</td>\n",
              "      <td>936418.000000</td>\n",
              "      <td>2.325910e+07</td>\n",
              "      <td>2.201196e+07</td>\n",
              "      <td>2.325919e+07</td>\n",
              "      <td>2.201196e+07</td>\n",
              "      <td>8.434419e+08</td>\n",
              "      <td>1.655879e+07</td>\n",
              "      <td>8.434425e+08</td>\n",
              "      <td>1.655882e+07</td>\n",
              "      <td>7.833131e+07</td>\n",
              "      <td>9.029696e+08</td>\n",
              "    </tr>\n",
              "  </tbody>\n",
              "</table>\n",
              "</div>"
            ],
            "text/plain": [
              "             Startms          Endms  ...  TotalULBytes  TotalDLBytes\n",
              "count  150000.000000  150000.000000  ...  1.500000e+05  1.500000e+05\n",
              "mean      499.188200     498.800880  ...  4.112121e+07  4.546434e+08\n",
              "std       288.611834     288.097653  ...  1.127639e+07  2.441429e+08\n",
              "min         0.000000       0.000000  ...  2.866892e+06  7.114041e+06\n",
              "25%       250.000000     251.000000  ...  3.322201e+07  2.431068e+08\n",
              "50%       499.000000     500.000000  ...  4.114331e+07  4.558411e+08\n",
              "75%       749.000000     750.000000  ...  4.903424e+07  6.657055e+08\n",
              "max       999.000000     999.000000  ...  7.833131e+07  9.029696e+08\n",
              "\n",
              "[8 rows x 49 columns]"
            ]
          },
          "metadata": {
            "tags": []
          },
          "execution_count": 212
        }
      ]
    },
    {
      "cell_type": "code",
      "metadata": {
        "id": "WwF_pR4vzVxz",
        "colab": {
          "base_uri": "https://localhost:8080/"
        },
        "outputId": "4f1c985a-3610-4779-a80f-5aaa6af3ad46"
      },
      "source": [
        "print(f'Handset Type: {df.HandsetType.count()}')\n",
        "print(f'Handset Type: {df.HandsetManufacturer.count()}')"
      ],
      "execution_count": 213,
      "outputs": [
        {
          "output_type": "stream",
          "text": [
            "Handset Type: 149429\n",
            "Handset Type: 149429\n"
          ],
          "name": "stdout"
        }
      ]
    },
    {
      "cell_type": "code",
      "metadata": {
        "id": "PmteTjDTEa_h",
        "colab": {
          "base_uri": "https://localhost:8080/"
        },
        "outputId": "9a15cbe1-0f13-4228-c0d1-da7ee5566d11"
      },
      "source": [
        "print(f'Handset Type: {df.HandsetManufacturer.nunique()}')\n",
        "print(f'Handset Manufacturer: {df.HandsetManufacturer.nunique()}')"
      ],
      "execution_count": 198,
      "outputs": [
        {
          "output_type": "stream",
          "text": [
            "Handset Type: 170\n",
            "Handset Manufacturer: 170\n"
          ],
          "name": "stdout"
        }
      ]
    },
    {
      "cell_type": "code",
      "metadata": {
        "id": "e7OxeF_WEbWz",
        "colab": {
          "base_uri": "https://localhost:8080/"
        },
        "outputId": "71061220-463a-4a4b-a239-2cc6b5c038de"
      },
      "source": [
        "print(f'Handset Type: {df.HandsetType.dtype}')\n",
        "print(f'Handset Manufacturer: {df.HandsetManufacturer.dtype}')"
      ],
      "execution_count": 199,
      "outputs": [
        {
          "output_type": "stream",
          "text": [
            "Handset Type: object\n",
            "Handset Manufacturer: object\n"
          ],
          "name": "stdout"
        }
      ]
    },
    {
      "cell_type": "code",
      "metadata": {
        "id": "KT9Yvc_bEbZz",
        "colab": {
          "base_uri": "https://localhost:8080/"
        },
        "outputId": "0f1799ca-6987-41e5-dc79-40e9ee372b0d"
      },
      "source": [
        "# Now which column(s) has missing values\n",
        "df.isna().sum()"
      ],
      "execution_count": 214,
      "outputs": [
        {
          "output_type": "execute_result",
          "data": {
            "text/plain": [
              "BearerId                                0\n",
              "Start                                   1\n",
              "Startms                                 1\n",
              "End                                     1\n",
              "Endms                                   1\n",
              "Dur.ms                                  1\n",
              "IMSI                                  570\n",
              "MSISDN/Number                        1066\n",
              "IMEI                                  572\n",
              "LastLocationName                     1153\n",
              "AvgRTTDLms                          27829\n",
              "AvgRTTULms                          27812\n",
              "AvgBearerTPDLkbps                       1\n",
              "AvgBearerTPULkbps                       1\n",
              "TCPDLRetrans.VolBytes               88146\n",
              "TCPULRetrans.VolBytes               96649\n",
              "DLTP<50Kbps%                          754\n",
              "50Kbps<DLTP<250Kbps%                  754\n",
              "250Kbps<DLTP<1Mbps%                   754\n",
              "DLTP>1Mbps%                           754\n",
              "ULTP<10Kbps%                          792\n",
              "10Kbps<ULTP<50Kbps%                   792\n",
              "50Kbps<ULTP<300Kbps%                  792\n",
              "ULTP>300Kbps%                         792\n",
              "HTTPDLBytes                         81474\n",
              "HTTPULBytes                         81810\n",
              "ActivityDurationDLms                    1\n",
              "ActivityDurationULms                    1\n",
              "Dur.ms.1                                1\n",
              "HandsetManufacturer                   572\n",
              "HandsetType                           572\n",
              "Nbofsecwith125000B<VolDL            97538\n",
              "Nbofsecwith1250B<VolUL<6250B        92894\n",
              "Nbofsecwith31250B<VolDL<125000B     93586\n",
              "Nbofsecwith37500B<VolUL            130254\n",
              "Nbofsecwith6250B<VolDL<31250B       88317\n",
              "Nbofsecwith6250B<VolUL<37500B      111843\n",
              "NbofsecwithVolDL<6250B                755\n",
              "NbofsecwithVolUL<1250B                793\n",
              "SocialMediaDLBytes                      0\n",
              "SocialMediaULBytes                      0\n",
              "GoogleDLBytes                           0\n",
              "GoogleULBytes                           0\n",
              "EmailDLBytes                            0\n",
              "EmailULBytes                            0\n",
              "YoutubeDLBytes                          0\n",
              "YoutubeULBytes                          0\n",
              "NetflixDLBytes                          0\n",
              "NetflixULBytes                          0\n",
              "GamingDLBytes                           0\n",
              "GamingULBytes                           0\n",
              "OtherDLBytes                            0\n",
              "OtherULBytes                            0\n",
              "TotalULBytes                            1\n",
              "TotalDLBytes                            1\n",
              "dtype: int64"
            ]
          },
          "metadata": {
            "tags": []
          },
          "execution_count": 214
        }
      ]
    },
    {
      "cell_type": "code",
      "metadata": {
        "id": "OpH2jQVBT3v1",
        "colab": {
          "base_uri": "https://localhost:8080/"
        },
        "outputId": "93d5d9b2-303b-4ed0-9919-2db65c24d35c"
      },
      "source": [
        "\n",
        "df.columns = df.columns.str.replace(' ','').str.replace('(', '').str.replace(')', '')\n",
        "df.info()\n"
      ],
      "execution_count": 221,
      "outputs": [
        {
          "output_type": "stream",
          "text": [
            "<class 'pandas.core.frame.DataFrame'>\n",
            "RangeIndex: 150001 entries, 0 to 150000\n",
            "Data columns (total 39 columns):\n",
            " #   Column                  Non-Null Count   Dtype         \n",
            "---  ------                  --------------   -----         \n",
            " 0   BearerId                150001 non-null  object        \n",
            " 1   Start                   150000 non-null  datetime64[ns]\n",
            " 2   Startms                 150000 non-null  float64       \n",
            " 3   End                     150000 non-null  datetime64[ns]\n",
            " 4   Endms                   150000 non-null  float64       \n",
            " 5   Dur.ms                  150000 non-null  float64       \n",
            " 6   IMSI                    149431 non-null  float64       \n",
            " 7   MSISDN/Number           148935 non-null  float64       \n",
            " 8   IMEI                    149429 non-null  float64       \n",
            " 9   LastLocationName        148848 non-null  object        \n",
            " 10  AvgRTTDLms              122172 non-null  float64       \n",
            " 11  AvgRTTULms              122189 non-null  float64       \n",
            " 12  AvgBearerTPDLkbps       150000 non-null  float64       \n",
            " 13  AvgBearerTPULkbps       150000 non-null  float64       \n",
            " 14  DLTP<50Kbps%            149247 non-null  float64       \n",
            " 15  ULTP<10Kbps%            149209 non-null  float64       \n",
            " 16  ActivityDurationDLms    150000 non-null  float64       \n",
            " 17  ActivityDurationULms    150000 non-null  float64       \n",
            " 18  Dur.ms.1                150000 non-null  float64       \n",
            " 19  HandsetManufacturer     149429 non-null  object        \n",
            " 20  HandsetType             149429 non-null  object        \n",
            " 21  NbofsecwithVolDL<6250B  149246 non-null  float64       \n",
            " 22  NbofsecwithVolUL<1250B  149208 non-null  float64       \n",
            " 23  SocialMediaDLBytes      150001 non-null  float64       \n",
            " 24  SocialMediaULBytes      150001 non-null  float64       \n",
            " 25  GoogleDLBytes           150001 non-null  float64       \n",
            " 26  GoogleULBytes           150001 non-null  float64       \n",
            " 27  EmailDLBytes            150001 non-null  float64       \n",
            " 28  EmailULBytes            150001 non-null  float64       \n",
            " 29  YoutubeDLBytes          150001 non-null  float64       \n",
            " 30  YoutubeULBytes          150001 non-null  float64       \n",
            " 31  NetflixDLBytes          150001 non-null  float64       \n",
            " 32  NetflixULBytes          150001 non-null  float64       \n",
            " 33  GamingDLBytes           150001 non-null  float64       \n",
            " 34  GamingULBytes           150001 non-null  float64       \n",
            " 35  OtherDLBytes            150001 non-null  float64       \n",
            " 36  OtherULBytes            150001 non-null  float64       \n",
            " 37  TotalULBytes            150000 non-null  float64       \n",
            " 38  TotalDLBytes            150000 non-null  float64       \n",
            "dtypes: datetime64[ns](2), float64(33), object(4)\n",
            "memory usage: 44.6+ MB\n"
          ],
          "name": "stdout"
        }
      ]
    },
    {
      "cell_type": "code",
      "metadata": {
        "id": "i-AcXmH86_wP"
      },
      "source": [
        "df = df.drop(columns = ['TCPDLRetrans.VolBytes', 'TCPULRetrans.VolBytes', '50Kbps<DLTP<250Kbps%', '250Kbps<DLTP<1Mbps%', 'DLTP>1Mbps%', '10Kbps<ULTP<50Kbps%', '50Kbps<ULTP<300Kbps%', 'ULTP>300Kbps%', 'HTTPDLBytes', 'HTTPULBytes', 'Nbofsecwith125000B<VolDL', 'Nbofsecwith1250B<VolUL<6250B', 'Nbofsecwith31250B<VolDL<125000B', 'Nbofsecwith37500B<VolUL', 'Nbofsecwith6250B<VolDL<31250B', 'Nbofsecwith6250B<VolUL<37500B'], axis = 1)\n"
      ],
      "execution_count": null,
      "outputs": []
    },
    {
      "cell_type": "code",
      "metadata": {
        "id": "ASdCzf68Ebff",
        "colab": {
          "base_uri": "https://localhost:8080/",
          "height": 387
        },
        "outputId": "10d57d10-3381-4db0-8c19-2ebb0f8acc82"
      },
      "source": [
        "\n",
        "# fill missing with ffill method for columns (TotalULBytes, TotalDLBytes)\n",
        "\n",
        "cols = ['Startms', ['Endms', 'Dur.ms', 'IMSI', 'MSISDN/Number', 'IMEI','AvgRTTDLms', 'AvgRTTULms', 'AvgBearerTPDLkbps', 'AvgBearerTPULkbps'   ]]\n",
        "\n",
        "\n",
        "\n",
        "# fill 'Handset Type' and 'Handset Manufacturer' column with mode \n",
        "\n",
        "df_clean['HandsetType'] = df_clean['HandsetType'].fillna(df_clean['HandsetType'].mode())\n",
        "df_clean['HandsetType'] = df_clean['HandsetType'].fillna(df_clean['HandsetType'].mode())\n",
        "df_clean['HandsetType'] = df_clean['HandsetType'].fillna(df_clean['HandsetType'].mode())\n",
        "df_clean['HandsetType'] = df_clean['HandsetType'].fillna(df_clean['HandsetType'].mode())\n",
        "df_clean['HandsetType'] = df_clean['HandsetType'].fillna(df_clean['HandsetType'].mode())"
      ],
      "execution_count": 231,
      "outputs": [
        {
          "output_type": "error",
          "ename": "IndexError",
          "evalue": "ignored",
          "traceback": [
            "\u001b[0;31m---------------------------------------------------------------------------\u001b[0m",
            "\u001b[0;31mIndexError\u001b[0m                                Traceback (most recent call last)",
            "\u001b[0;32m<ipython-input-231-abf3932020c1>\u001b[0m in \u001b[0;36m<module>\u001b[0;34m()\u001b[0m\n\u001b[1;32m     12\u001b[0m     \u001b[0;32mreturn\u001b[0m \u001b[0mdb\u001b[0m\u001b[0;34m[\u001b[0m\u001b[0mcol\u001b[0m\u001b[0;34m]\u001b[0m\u001b[0;34m\u001b[0m\u001b[0;34m\u001b[0m\u001b[0m\n\u001b[1;32m     13\u001b[0m \u001b[0;34m\u001b[0m\u001b[0m\n\u001b[0;32m---> 14\u001b[0;31m \u001b[0mdf_clean\u001b[0m\u001b[0;34m[\u001b[0m\u001b[0;34m'TotalULBytes'\u001b[0m\u001b[0;34m]\u001b[0m \u001b[0;34m=\u001b[0m \u001b[0mfix_missing_ffill\u001b[0m\u001b[0;34m(\u001b[0m\u001b[0mdf_clean\u001b[0m\u001b[0;34m,\u001b[0m \u001b[0;34m'TotalULBytes'\u001b[0m\u001b[0;34m)\u001b[0m\u001b[0;34m\u001b[0m\u001b[0;34m\u001b[0m\u001b[0m\n\u001b[0m\u001b[1;32m     15\u001b[0m \u001b[0mdf_clean\u001b[0m\u001b[0;34m[\u001b[0m\u001b[0;34m'TotalDLBytes'\u001b[0m\u001b[0;34m]\u001b[0m \u001b[0;34m=\u001b[0m \u001b[0mfix_missing_ffill\u001b[0m\u001b[0;34m(\u001b[0m\u001b[0mdf_clean\u001b[0m\u001b[0;34m,\u001b[0m \u001b[0;34m'TotalDLBytes'\u001b[0m\u001b[0;34m)\u001b[0m\u001b[0;34m\u001b[0m\u001b[0;34m\u001b[0m\u001b[0m\n\u001b[1;32m     16\u001b[0m \u001b[0mdf_clean\u001b[0m\u001b[0;34m[\u001b[0m\u001b[0;34m'TotalULBytes'\u001b[0m\u001b[0;34m]\u001b[0m \u001b[0;34m=\u001b[0m \u001b[0mfix_missing_ffill\u001b[0m\u001b[0;34m(\u001b[0m\u001b[0mdf_clean\u001b[0m\u001b[0;34m,\u001b[0m \u001b[0;34m'TotalULBytes'\u001b[0m\u001b[0;34m)\u001b[0m\u001b[0;34m\u001b[0m\u001b[0;34m\u001b[0m\u001b[0m\n",
            "\u001b[0;32m<ipython-input-231-abf3932020c1>\u001b[0m in \u001b[0;36mfix_missing_ffill\u001b[0;34m(db, col)\u001b[0m\n\u001b[1;32m      4\u001b[0m \u001b[0;34m\u001b[0m\u001b[0m\n\u001b[1;32m      5\u001b[0m \u001b[0;32mdef\u001b[0m \u001b[0mfix_missing_ffill\u001b[0m\u001b[0;34m(\u001b[0m\u001b[0mdb\u001b[0m\u001b[0;34m,\u001b[0m \u001b[0mcol\u001b[0m\u001b[0;34m)\u001b[0m\u001b[0;34m:\u001b[0m\u001b[0;34m\u001b[0m\u001b[0;34m\u001b[0m\u001b[0m\n\u001b[0;32m----> 6\u001b[0;31m     \u001b[0mdb\u001b[0m\u001b[0;34m[\u001b[0m\u001b[0mcol\u001b[0m\u001b[0;34m]\u001b[0m \u001b[0;34m=\u001b[0m \u001b[0mdb\u001b[0m\u001b[0;34m[\u001b[0m\u001b[0mcol\u001b[0m\u001b[0;34m]\u001b[0m\u001b[0;34m.\u001b[0m\u001b[0mfillna\u001b[0m\u001b[0;34m(\u001b[0m\u001b[0mmethod\u001b[0m\u001b[0;34m=\u001b[0m\u001b[0;34m'ffill'\u001b[0m\u001b[0;34m)\u001b[0m\u001b[0;34m\u001b[0m\u001b[0;34m\u001b[0m\u001b[0m\n\u001b[0m\u001b[1;32m      7\u001b[0m     \u001b[0;32mreturn\u001b[0m \u001b[0mdb\u001b[0m\u001b[0;34m[\u001b[0m\u001b[0mcol\u001b[0m\u001b[0;34m]\u001b[0m\u001b[0;34m\u001b[0m\u001b[0;34m\u001b[0m\u001b[0m\n\u001b[1;32m      8\u001b[0m \u001b[0;34m\u001b[0m\u001b[0m\n",
            "\u001b[0;32m/usr/local/lib/python3.7/dist-packages/pandas/core/indexes/base.py\u001b[0m in \u001b[0;36m__getitem__\u001b[0;34m(self, key)\u001b[0m\n\u001b[1;32m   4102\u001b[0m         \u001b[0;32mif\u001b[0m \u001b[0mis_scalar\u001b[0m\u001b[0;34m(\u001b[0m\u001b[0mkey\u001b[0m\u001b[0;34m)\u001b[0m\u001b[0;34m:\u001b[0m\u001b[0;34m\u001b[0m\u001b[0;34m\u001b[0m\u001b[0m\n\u001b[1;32m   4103\u001b[0m             \u001b[0mkey\u001b[0m \u001b[0;34m=\u001b[0m \u001b[0mcom\u001b[0m\u001b[0;34m.\u001b[0m\u001b[0mcast_scalar_indexer\u001b[0m\u001b[0;34m(\u001b[0m\u001b[0mkey\u001b[0m\u001b[0;34m,\u001b[0m \u001b[0mwarn_float\u001b[0m\u001b[0;34m=\u001b[0m\u001b[0;32mTrue\u001b[0m\u001b[0;34m)\u001b[0m\u001b[0;34m\u001b[0m\u001b[0;34m\u001b[0m\u001b[0m\n\u001b[0;32m-> 4104\u001b[0;31m             \u001b[0;32mreturn\u001b[0m \u001b[0mgetitem\u001b[0m\u001b[0;34m(\u001b[0m\u001b[0mkey\u001b[0m\u001b[0;34m)\u001b[0m\u001b[0;34m\u001b[0m\u001b[0;34m\u001b[0m\u001b[0m\n\u001b[0m\u001b[1;32m   4105\u001b[0m \u001b[0;34m\u001b[0m\u001b[0m\n\u001b[1;32m   4106\u001b[0m         \u001b[0;32mif\u001b[0m \u001b[0misinstance\u001b[0m\u001b[0;34m(\u001b[0m\u001b[0mkey\u001b[0m\u001b[0;34m,\u001b[0m \u001b[0mslice\u001b[0m\u001b[0;34m)\u001b[0m\u001b[0;34m:\u001b[0m\u001b[0;34m\u001b[0m\u001b[0;34m\u001b[0m\u001b[0m\n",
            "\u001b[0;31mIndexError\u001b[0m: only integers, slices (`:`), ellipsis (`...`), numpy.newaxis (`None`) and integer or boolean arrays are valid indices"
          ]
        }
      ]
    },
    {
      "cell_type": "code",
      "metadata": {
        "id": "gTTl-Vt_Ebh1",
        "colab": {
          "base_uri": "https://localhost:8080/"
        },
        "outputId": "e6a40cec-b581-4b18-80f4-4db6cb05c54c"
      },
      "source": [
        "print(df.TotalDLBytes.min())\n",
        "print(df.TotalULBytes.min())\n",
        "print(df.TotalDLBytes.quantile(.25))\n",
        "print(df.TotalULBytes.quantile(.25))\n",
        "print(df.TotalDLBytes.quantile(.50))\n",
        "print(df.TotalULBytes.quantile(.50))\n",
        "print(df.TotalDLBytes.quantile(.75))\n",
        "print(df.TotalULBytes.quantile(.75))\n",
        "print(df.TotalDLBytes.max())\n",
        "print(df.TotalDLBytes.max())\n",
        "print('\\n')\n",
        "print(df.TotalDLBytes.mean())\n",
        "print(df.TotalULBytes.median())\n",
        "print(df.TotalDLBytes.mode().values[0])"
      ],
      "execution_count": null,
      "outputs": [
        {
          "output_type": "stream",
          "text": [
            "7114041.0\n",
            "2866892.0\n",
            "243106803.0\n",
            "33221955.0\n",
            "455841077.5\n",
            "41143242.0\n",
            "665705544.0\n",
            "49034238.0\n",
            "902969616.0\n",
            "902969616.0\n",
            "\n",
            "\n",
            "454643430.0789667\n",
            "41143242.0\n",
            "74126119.0\n"
          ],
          "name": "stdout"
        }
      ]
    },
    {
      "cell_type": "code",
      "metadata": {
        "id": "CzbEosm-EbkR",
        "colab": {
          "base_uri": "https://localhost:8080/"
        },
        "outputId": "db0c58ea-4a3b-43f8-8f26-1579e307af63"
      },
      "source": [
        "print(df.TotalDLBytes.std())\n",
        "print(df.TotalULBytes.std())\n"
      ],
      "execution_count": null,
      "outputs": [
        {
          "output_type": "stream",
          "text": [
            "244142874.37628293\n",
            "11276387.986728648\n"
          ],
          "name": "stdout"
        }
      ]
    },
    {
      "cell_type": "code",
      "metadata": {
        "id": "pf2L6YD2y5iT"
      },
      "source": [
        "\n",
        "import matplotlib.pyplot as plt\n",
        "import seaborn as sns\n",
        "\n",
        "from scipy import stats\n",
        "\n",
        "from pylab import rcParams\n",
        "from mlxtend.preprocessing import minmax_scaling\n",
        "from sklearn.preprocessing import scale\n"
      ],
      "execution_count": null,
      "outputs": []
    },
    {
      "cell_type": "code",
      "metadata": {
        "id": "XfI-7ez8y5ro"
      },
      "source": [
        ""
      ],
      "execution_count": null,
      "outputs": []
    },
    {
      "cell_type": "code",
      "metadata": {
        "id": "H5idzKFMy5ur"
      },
      "source": [
        ""
      ],
      "execution_count": null,
      "outputs": []
    },
    {
      "cell_type": "code",
      "metadata": {
        "id": "Cd1cY5Rcy50q"
      },
      "source": [
        ""
      ],
      "execution_count": null,
      "outputs": []
    },
    {
      "cell_type": "code",
      "metadata": {
        "id": "8nBFv2-R9DE_"
      },
      "source": [
        ""
      ],
      "execution_count": 136,
      "outputs": []
    },
    {
      "cell_type": "code",
      "metadata": {
        "id": "bSxR4mdb-evj"
      },
      "source": [
        ""
      ],
      "execution_count": null,
      "outputs": []
    },
    {
      "cell_type": "code",
      "metadata": {
        "id": "yg61wcLBBzGp"
      },
      "source": [
        ""
      ],
      "execution_count": null,
      "outputs": []
    },
    {
      "cell_type": "code",
      "metadata": {
        "id": "h-yjxzkhQjTd"
      },
      "source": [
        ""
      ],
      "execution_count": null,
      "outputs": []
    },
    {
      "cell_type": "code",
      "metadata": {
        "id": "q-nHtZklsqV_"
      },
      "source": [
        ""
      ],
      "execution_count": null,
      "outputs": []
    }
  ]
}